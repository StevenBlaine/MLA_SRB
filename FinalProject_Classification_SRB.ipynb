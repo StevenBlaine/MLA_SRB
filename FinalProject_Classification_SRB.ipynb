{
  "nbformat": 4,
  "nbformat_minor": 0,
  "metadata": {
    "colab": {
      "name": "FinalProject_Classification_SRB.ipynb",
      "provenance": [],
      "collapsed_sections": [],
      "include_colab_link": true
    },
    "kernelspec": {
      "name": "python3",
      "display_name": "Python 3"
    },
    "language_info": {
      "name": "python"
    }
  },
  "cells": [
    {
      "cell_type": "markdown",
      "metadata": {
        "id": "view-in-github",
        "colab_type": "text"
      },
      "source": [
        "<a href=\"https://colab.research.google.com/github/StevenBlaine/MLA_SRB/blob/main/FinalProject_Classification_SRB.ipynb\" target=\"_parent\"><img src=\"https://colab.research.google.com/assets/colab-badge.svg\" alt=\"Open In Colab\"/></a>"
      ]
    },
    {
      "cell_type": "markdown",
      "source": [
        "# **Final Project Problem 2 - Classification** #  \n",
        "**Steven Blaine\n",
        "<br>CS430-ON\n",
        "<br>Machine Learning in the Cloud** "
      ],
      "metadata": {
        "id": "QRwWxyo15l1_"
      }
    },
    {
      "cell_type": "markdown",
      "source": [
        "## Step 1: Imports"
      ],
      "metadata": {
        "id": "Qy8vsCT0c5QC"
      }
    },
    {
      "cell_type": "markdown",
      "source": [
        "## Standard Imports"
      ],
      "metadata": {
        "id": "Dm3plw0g3ZvL"
      }
    },
    {
      "cell_type": "code",
      "execution_count": 1,
      "metadata": {
        "id": "hZQOlQVuibFq"
      },
      "outputs": [],
      "source": [
        "import pandas as pd\n",
        "import numpy as np\n",
        "import matplotlib.pyplot as plt\n",
        "import seaborn as sns\n",
        "%matplotlib inline"
      ]
    },
    {
      "cell_type": "code",
      "source": [
        "from google.colab import drive\n",
        "drive.mount('/content/gdrive')"
      ],
      "metadata": {
        "colab": {
          "base_uri": "https://localhost:8080/"
        },
        "id": "f6C2m_xqin0Y",
        "outputId": "b861fac8-462e-486e-b389-787b5c5b1771"
      },
      "execution_count": 2,
      "outputs": [
        {
          "output_type": "stream",
          "name": "stdout",
          "text": [
            "Mounted at /content/gdrive\n"
          ]
        }
      ]
    },
    {
      "cell_type": "markdown",
      "source": [
        "### Imports for Specific Models\n",
        " "
      ],
      "metadata": {
        "id": "UM7SiWOlBzPg"
      }
    },
    {
      "cell_type": "code",
      "source": [
        "from sklearn.linear_model import LinearRegression\n",
        "from sklearn.linear_model import LogisticRegression\n",
        "from sklearn.ensemble import VotingClassifier\n",
        "from sklearn.ensemble import BaggingClassifier\n",
        "from sklearn.ensemble import RandomForestClassifier\n",
        "from sklearn.ensemble import AdaBoostClassifier\n",
        "from sklearn.neighbors import KNeighborsClassifier\n",
        "from sklearn.svm import SVC, LinearSVC\n",
        "from sklearn.tree import DecisionTreeClassifier\n",
        "from sklearn.model_selection import GridSearchCV\n",
        "from sklearn import tree"
      ],
      "metadata": {
        "id": "xxq5ICIVcaXi"
      },
      "execution_count": 3,
      "outputs": []
    },
    {
      "cell_type": "markdown",
      "source": [
        "### Imports for Splitting Data and Building Pipeline\n"
      ],
      "metadata": {
        "id": "-5Akp3i4CPFj"
      }
    },
    {
      "cell_type": "code",
      "source": [
        "from sklearn.model_selection import train_test_split\n",
        "from sklearn.pipeline import Pipeline\n",
        "from sklearn import set_config\n",
        "set_config(display='diagram')\n",
        "from sklearn.compose import ColumnTransformer\n",
        "from sklearn.preprocessing import MinMaxScaler\n",
        "from sklearn.preprocessing import OneHotEncoder\n",
        "from sklearn.preprocessing import StandardScaler"
      ],
      "metadata": {
        "id": "RPkp1dlKqLOT"
      },
      "execution_count": 4,
      "outputs": []
    },
    {
      "cell_type": "markdown",
      "source": [
        "### Imports for Performance Measures"
      ],
      "metadata": {
        "id": "JW9kgAGwpww3"
      }
    },
    {
      "cell_type": "code",
      "source": [
        "from sklearn.metrics import confusion_matrix\n",
        "from sklearn.metrics import precision_score, recall_score, f1_score\n",
        "from sklearn.metrics import roc_curve\n",
        "from sklearn.metrics import roc_auc_score\n",
        "from sklearn.metrics import r2_score\n",
        "from sklearn.metrics import mean_squared_error\n",
        "from sklearn.metrics import precision_recall_curve\n",
        "from sklearn.metrics import auc\n",
        "from sklearn.metrics import classification_report\n",
        "from sklearn.metrics import ConfusionMatrixDisplay"
      ],
      "metadata": {
        "id": "N4WwSQlNpw7c"
      },
      "execution_count": 5,
      "outputs": []
    },
    {
      "cell_type": "markdown",
      "source": [
        "### Confusion Matrix Function\n",
        "Function for creating a graphical version of the confusion matrix.\n",
        "\n"
      ],
      "metadata": {
        "id": "pWcDpHz0qF_J"
      }
    },
    {
      "cell_type": "code",
      "source": [
        "def plot_cm(y_test, y_pred):\n",
        "    cm = confusion_matrix(y_test,y_pred)\n",
        "    fig = plt.figure(figsize=(10,10))\n",
        "    heatmap = sns.heatmap(cm, annot=True, fmt='.2f', cmap='RdYlGn')\n",
        "    plt.ylabel('True label')\n",
        "    plt.xlabel('Predicted Label')"
      ],
      "metadata": {
        "id": "UyWroVXvp2ZD"
      },
      "execution_count": 6,
      "outputs": []
    },
    {
      "cell_type": "markdown",
      "source": [
        "### Straight Line Plot Function"
      ],
      "metadata": {
        "id": "fYHTxcJYqGcP"
      }
    },
    {
      "cell_type": "code",
      "source": [
        "def abline(slope, intercept,color):\n",
        "    axes = plt.gca()\n",
        "    x_vals = np.array(axes.get_xlim())\n",
        "    y_vals = intercept + slope * x_vals\n",
        "    plt.plot(x_vals, y_vals, '--', c=color)"
      ],
      "metadata": {
        "id": "DSTtrdx0qFAU"
      },
      "execution_count": 7,
      "outputs": []
    },
    {
      "cell_type": "markdown",
      "source": [
        "### Step 2: Acquire Data (Reading the Data)"
      ],
      "metadata": {
        "id": "PbtwGYpbDQyy"
      }
    },
    {
      "cell_type": "markdown",
      "source": [
        "Found in the UCI collection, this set contains data for car parking facilities in Birmingham (UK)."
      ],
      "metadata": {
        "id": "_Eq6V4FqTfUz"
      }
    },
    {
      "cell_type": "code",
      "source": [
        "df = pd.read_csv('/content/gdrive/MyDrive/CS430/Birmingham_carpark_dataset.csv')"
      ],
      "metadata": {
        "id": "OjTNN4gCWPZo"
      },
      "execution_count": 8,
      "outputs": []
    },
    {
      "cell_type": "markdown",
      "source": [
        "### Step 3: Statistical and Visual Exploration"
      ],
      "metadata": {
        "id": "HYTANYVkDbyh"
      }
    },
    {
      "cell_type": "code",
      "source": [
        "df.head()"
      ],
      "metadata": {
        "colab": {
          "base_uri": "https://localhost:8080/",
          "height": 206
        },
        "id": "7cjQ49a5T1OY",
        "outputId": "3731f454-4b2c-415a-ab16-7b4d4f2e6e2f"
      },
      "execution_count": 9,
      "outputs": [
        {
          "output_type": "execute_result",
          "data": {
            "text/plain": [
              "  SystemCodeNumber  Capacity  Occupancy          LastUpdated\n",
              "0      BHMBCCMKT01       577         61  2016-10-04 07:59:42\n",
              "1      BHMBCCMKT01       577         64  2016-10-04 08:25:42\n",
              "2      BHMBCCMKT01       577         80  2016-10-04 08:59:42\n",
              "3      BHMBCCMKT01       577        107  2016-10-04 09:32:46\n",
              "4      BHMBCCMKT01       577        150  2016-10-04 09:59:48"
            ],
            "text/html": [
              "\n",
              "  <div id=\"df-ef7017be-0f67-4f12-82b0-b25af6911ff3\">\n",
              "    <div class=\"colab-df-container\">\n",
              "      <div>\n",
              "<style scoped>\n",
              "    .dataframe tbody tr th:only-of-type {\n",
              "        vertical-align: middle;\n",
              "    }\n",
              "\n",
              "    .dataframe tbody tr th {\n",
              "        vertical-align: top;\n",
              "    }\n",
              "\n",
              "    .dataframe thead th {\n",
              "        text-align: right;\n",
              "    }\n",
              "</style>\n",
              "<table border=\"1\" class=\"dataframe\">\n",
              "  <thead>\n",
              "    <tr style=\"text-align: right;\">\n",
              "      <th></th>\n",
              "      <th>SystemCodeNumber</th>\n",
              "      <th>Capacity</th>\n",
              "      <th>Occupancy</th>\n",
              "      <th>LastUpdated</th>\n",
              "    </tr>\n",
              "  </thead>\n",
              "  <tbody>\n",
              "    <tr>\n",
              "      <th>0</th>\n",
              "      <td>BHMBCCMKT01</td>\n",
              "      <td>577</td>\n",
              "      <td>61</td>\n",
              "      <td>2016-10-04 07:59:42</td>\n",
              "    </tr>\n",
              "    <tr>\n",
              "      <th>1</th>\n",
              "      <td>BHMBCCMKT01</td>\n",
              "      <td>577</td>\n",
              "      <td>64</td>\n",
              "      <td>2016-10-04 08:25:42</td>\n",
              "    </tr>\n",
              "    <tr>\n",
              "      <th>2</th>\n",
              "      <td>BHMBCCMKT01</td>\n",
              "      <td>577</td>\n",
              "      <td>80</td>\n",
              "      <td>2016-10-04 08:59:42</td>\n",
              "    </tr>\n",
              "    <tr>\n",
              "      <th>3</th>\n",
              "      <td>BHMBCCMKT01</td>\n",
              "      <td>577</td>\n",
              "      <td>107</td>\n",
              "      <td>2016-10-04 09:32:46</td>\n",
              "    </tr>\n",
              "    <tr>\n",
              "      <th>4</th>\n",
              "      <td>BHMBCCMKT01</td>\n",
              "      <td>577</td>\n",
              "      <td>150</td>\n",
              "      <td>2016-10-04 09:59:48</td>\n",
              "    </tr>\n",
              "  </tbody>\n",
              "</table>\n",
              "</div>\n",
              "      <button class=\"colab-df-convert\" onclick=\"convertToInteractive('df-ef7017be-0f67-4f12-82b0-b25af6911ff3')\"\n",
              "              title=\"Convert this dataframe to an interactive table.\"\n",
              "              style=\"display:none;\">\n",
              "        \n",
              "  <svg xmlns=\"http://www.w3.org/2000/svg\" height=\"24px\"viewBox=\"0 0 24 24\"\n",
              "       width=\"24px\">\n",
              "    <path d=\"M0 0h24v24H0V0z\" fill=\"none\"/>\n",
              "    <path d=\"M18.56 5.44l.94 2.06.94-2.06 2.06-.94-2.06-.94-.94-2.06-.94 2.06-2.06.94zm-11 1L8.5 8.5l.94-2.06 2.06-.94-2.06-.94L8.5 2.5l-.94 2.06-2.06.94zm10 10l.94 2.06.94-2.06 2.06-.94-2.06-.94-.94-2.06-.94 2.06-2.06.94z\"/><path d=\"M17.41 7.96l-1.37-1.37c-.4-.4-.92-.59-1.43-.59-.52 0-1.04.2-1.43.59L10.3 9.45l-7.72 7.72c-.78.78-.78 2.05 0 2.83L4 21.41c.39.39.9.59 1.41.59.51 0 1.02-.2 1.41-.59l7.78-7.78 2.81-2.81c.8-.78.8-2.07 0-2.86zM5.41 20L4 18.59l7.72-7.72 1.47 1.35L5.41 20z\"/>\n",
              "  </svg>\n",
              "      </button>\n",
              "      \n",
              "  <style>\n",
              "    .colab-df-container {\n",
              "      display:flex;\n",
              "      flex-wrap:wrap;\n",
              "      gap: 12px;\n",
              "    }\n",
              "\n",
              "    .colab-df-convert {\n",
              "      background-color: #E8F0FE;\n",
              "      border: none;\n",
              "      border-radius: 50%;\n",
              "      cursor: pointer;\n",
              "      display: none;\n",
              "      fill: #1967D2;\n",
              "      height: 32px;\n",
              "      padding: 0 0 0 0;\n",
              "      width: 32px;\n",
              "    }\n",
              "\n",
              "    .colab-df-convert:hover {\n",
              "      background-color: #E2EBFA;\n",
              "      box-shadow: 0px 1px 2px rgba(60, 64, 67, 0.3), 0px 1px 3px 1px rgba(60, 64, 67, 0.15);\n",
              "      fill: #174EA6;\n",
              "    }\n",
              "\n",
              "    [theme=dark] .colab-df-convert {\n",
              "      background-color: #3B4455;\n",
              "      fill: #D2E3FC;\n",
              "    }\n",
              "\n",
              "    [theme=dark] .colab-df-convert:hover {\n",
              "      background-color: #434B5C;\n",
              "      box-shadow: 0px 1px 3px 1px rgba(0, 0, 0, 0.15);\n",
              "      filter: drop-shadow(0px 1px 2px rgba(0, 0, 0, 0.3));\n",
              "      fill: #FFFFFF;\n",
              "    }\n",
              "  </style>\n",
              "\n",
              "      <script>\n",
              "        const buttonEl =\n",
              "          document.querySelector('#df-ef7017be-0f67-4f12-82b0-b25af6911ff3 button.colab-df-convert');\n",
              "        buttonEl.style.display =\n",
              "          google.colab.kernel.accessAllowed ? 'block' : 'none';\n",
              "\n",
              "        async function convertToInteractive(key) {\n",
              "          const element = document.querySelector('#df-ef7017be-0f67-4f12-82b0-b25af6911ff3');\n",
              "          const dataTable =\n",
              "            await google.colab.kernel.invokeFunction('convertToInteractive',\n",
              "                                                     [key], {});\n",
              "          if (!dataTable) return;\n",
              "\n",
              "          const docLinkHtml = 'Like what you see? Visit the ' +\n",
              "            '<a target=\"_blank\" href=https://colab.research.google.com/notebooks/data_table.ipynb>data table notebook</a>'\n",
              "            + ' to learn more about interactive tables.';\n",
              "          element.innerHTML = '';\n",
              "          dataTable['output_type'] = 'display_data';\n",
              "          await google.colab.output.renderOutput(dataTable, element);\n",
              "          const docLink = document.createElement('div');\n",
              "          docLink.innerHTML = docLinkHtml;\n",
              "          element.appendChild(docLink);\n",
              "        }\n",
              "      </script>\n",
              "    </div>\n",
              "  </div>\n",
              "  "
            ]
          },
          "metadata": {},
          "execution_count": 9
        }
      ]
    },
    {
      "cell_type": "code",
      "source": [
        "df.tail()"
      ],
      "metadata": {
        "colab": {
          "base_uri": "https://localhost:8080/",
          "height": 206
        },
        "id": "2WWmZY6dT3yo",
        "outputId": "8f2d303d-e5ac-49b6-92c0-5997e9267050"
      },
      "execution_count": 10,
      "outputs": [
        {
          "output_type": "execute_result",
          "data": {
            "text/plain": [
              "      SystemCodeNumber  Capacity  Occupancy          LastUpdated\n",
              "35712         Shopping      1920       1517  2016-12-19 14:30:33\n",
              "35713         Shopping      1920       1487  2016-12-19 15:03:34\n",
              "35714         Shopping      1920       1432  2016-12-19 15:29:33\n",
              "35715         Shopping      1920       1321  2016-12-19 16:03:35\n",
              "35716         Shopping      1920       1180  2016-12-19 16:30:35"
            ],
            "text/html": [
              "\n",
              "  <div id=\"df-0f080a9d-a676-4813-a656-b216c5824c3a\">\n",
              "    <div class=\"colab-df-container\">\n",
              "      <div>\n",
              "<style scoped>\n",
              "    .dataframe tbody tr th:only-of-type {\n",
              "        vertical-align: middle;\n",
              "    }\n",
              "\n",
              "    .dataframe tbody tr th {\n",
              "        vertical-align: top;\n",
              "    }\n",
              "\n",
              "    .dataframe thead th {\n",
              "        text-align: right;\n",
              "    }\n",
              "</style>\n",
              "<table border=\"1\" class=\"dataframe\">\n",
              "  <thead>\n",
              "    <tr style=\"text-align: right;\">\n",
              "      <th></th>\n",
              "      <th>SystemCodeNumber</th>\n",
              "      <th>Capacity</th>\n",
              "      <th>Occupancy</th>\n",
              "      <th>LastUpdated</th>\n",
              "    </tr>\n",
              "  </thead>\n",
              "  <tbody>\n",
              "    <tr>\n",
              "      <th>35712</th>\n",
              "      <td>Shopping</td>\n",
              "      <td>1920</td>\n",
              "      <td>1517</td>\n",
              "      <td>2016-12-19 14:30:33</td>\n",
              "    </tr>\n",
              "    <tr>\n",
              "      <th>35713</th>\n",
              "      <td>Shopping</td>\n",
              "      <td>1920</td>\n",
              "      <td>1487</td>\n",
              "      <td>2016-12-19 15:03:34</td>\n",
              "    </tr>\n",
              "    <tr>\n",
              "      <th>35714</th>\n",
              "      <td>Shopping</td>\n",
              "      <td>1920</td>\n",
              "      <td>1432</td>\n",
              "      <td>2016-12-19 15:29:33</td>\n",
              "    </tr>\n",
              "    <tr>\n",
              "      <th>35715</th>\n",
              "      <td>Shopping</td>\n",
              "      <td>1920</td>\n",
              "      <td>1321</td>\n",
              "      <td>2016-12-19 16:03:35</td>\n",
              "    </tr>\n",
              "    <tr>\n",
              "      <th>35716</th>\n",
              "      <td>Shopping</td>\n",
              "      <td>1920</td>\n",
              "      <td>1180</td>\n",
              "      <td>2016-12-19 16:30:35</td>\n",
              "    </tr>\n",
              "  </tbody>\n",
              "</table>\n",
              "</div>\n",
              "      <button class=\"colab-df-convert\" onclick=\"convertToInteractive('df-0f080a9d-a676-4813-a656-b216c5824c3a')\"\n",
              "              title=\"Convert this dataframe to an interactive table.\"\n",
              "              style=\"display:none;\">\n",
              "        \n",
              "  <svg xmlns=\"http://www.w3.org/2000/svg\" height=\"24px\"viewBox=\"0 0 24 24\"\n",
              "       width=\"24px\">\n",
              "    <path d=\"M0 0h24v24H0V0z\" fill=\"none\"/>\n",
              "    <path d=\"M18.56 5.44l.94 2.06.94-2.06 2.06-.94-2.06-.94-.94-2.06-.94 2.06-2.06.94zm-11 1L8.5 8.5l.94-2.06 2.06-.94-2.06-.94L8.5 2.5l-.94 2.06-2.06.94zm10 10l.94 2.06.94-2.06 2.06-.94-2.06-.94-.94-2.06-.94 2.06-2.06.94z\"/><path d=\"M17.41 7.96l-1.37-1.37c-.4-.4-.92-.59-1.43-.59-.52 0-1.04.2-1.43.59L10.3 9.45l-7.72 7.72c-.78.78-.78 2.05 0 2.83L4 21.41c.39.39.9.59 1.41.59.51 0 1.02-.2 1.41-.59l7.78-7.78 2.81-2.81c.8-.78.8-2.07 0-2.86zM5.41 20L4 18.59l7.72-7.72 1.47 1.35L5.41 20z\"/>\n",
              "  </svg>\n",
              "      </button>\n",
              "      \n",
              "  <style>\n",
              "    .colab-df-container {\n",
              "      display:flex;\n",
              "      flex-wrap:wrap;\n",
              "      gap: 12px;\n",
              "    }\n",
              "\n",
              "    .colab-df-convert {\n",
              "      background-color: #E8F0FE;\n",
              "      border: none;\n",
              "      border-radius: 50%;\n",
              "      cursor: pointer;\n",
              "      display: none;\n",
              "      fill: #1967D2;\n",
              "      height: 32px;\n",
              "      padding: 0 0 0 0;\n",
              "      width: 32px;\n",
              "    }\n",
              "\n",
              "    .colab-df-convert:hover {\n",
              "      background-color: #E2EBFA;\n",
              "      box-shadow: 0px 1px 2px rgba(60, 64, 67, 0.3), 0px 1px 3px 1px rgba(60, 64, 67, 0.15);\n",
              "      fill: #174EA6;\n",
              "    }\n",
              "\n",
              "    [theme=dark] .colab-df-convert {\n",
              "      background-color: #3B4455;\n",
              "      fill: #D2E3FC;\n",
              "    }\n",
              "\n",
              "    [theme=dark] .colab-df-convert:hover {\n",
              "      background-color: #434B5C;\n",
              "      box-shadow: 0px 1px 3px 1px rgba(0, 0, 0, 0.15);\n",
              "      filter: drop-shadow(0px 1px 2px rgba(0, 0, 0, 0.3));\n",
              "      fill: #FFFFFF;\n",
              "    }\n",
              "  </style>\n",
              "\n",
              "      <script>\n",
              "        const buttonEl =\n",
              "          document.querySelector('#df-0f080a9d-a676-4813-a656-b216c5824c3a button.colab-df-convert');\n",
              "        buttonEl.style.display =\n",
              "          google.colab.kernel.accessAllowed ? 'block' : 'none';\n",
              "\n",
              "        async function convertToInteractive(key) {\n",
              "          const element = document.querySelector('#df-0f080a9d-a676-4813-a656-b216c5824c3a');\n",
              "          const dataTable =\n",
              "            await google.colab.kernel.invokeFunction('convertToInteractive',\n",
              "                                                     [key], {});\n",
              "          if (!dataTable) return;\n",
              "\n",
              "          const docLinkHtml = 'Like what you see? Visit the ' +\n",
              "            '<a target=\"_blank\" href=https://colab.research.google.com/notebooks/data_table.ipynb>data table notebook</a>'\n",
              "            + ' to learn more about interactive tables.';\n",
              "          element.innerHTML = '';\n",
              "          dataTable['output_type'] = 'display_data';\n",
              "          await google.colab.output.renderOutput(dataTable, element);\n",
              "          const docLink = document.createElement('div');\n",
              "          docLink.innerHTML = docLinkHtml;\n",
              "          element.appendChild(docLink);\n",
              "        }\n",
              "      </script>\n",
              "    </div>\n",
              "  </div>\n",
              "  "
            ]
          },
          "metadata": {},
          "execution_count": 10
        }
      ]
    },
    {
      "cell_type": "code",
      "source": [
        "df.sample(10)"
      ],
      "metadata": {
        "colab": {
          "base_uri": "https://localhost:8080/",
          "height": 363
        },
        "id": "hGcdL3QQUTIx",
        "outputId": "6f53d190-c7a2-4ab3-caab-ac577618cbe4"
      },
      "execution_count": 11,
      "outputs": [
        {
          "output_type": "execute_result",
          "data": {
            "text/plain": [
              "       SystemCodeNumber  Capacity  Occupancy          LastUpdated\n",
              "27248  Others-CCCPS119a      2803        475  2016-11-13 14:27:35\n",
              "32532     Others-CCCPS8      1322        782  2016-11-16 14:27:52\n",
              "22644         Bull Ring      3053       2622  2016-12-18 13:30:26\n",
              "11282       BHMEURBRD02       220         29  2016-12-11 14:59:43\n",
              "19845       BHMNCPRAN01       600        111  2016-11-27 14:52:25\n",
              "15405       BHMNCPNHS01       500        366  2016-10-07 11:30:28\n",
              "33337    Others-CCCPS98      3103       1172  2016-10-17 12:57:17\n",
              "11789       BHMMBMMBX01       687        349  2016-10-26 08:32:27\n",
              "15092       BHMNCPLDH01       720        583  2016-12-02 14:58:50\n",
              "16308       BHMNCPNHS01       500        455  2016-12-15 14:00:06"
            ],
            "text/html": [
              "\n",
              "  <div id=\"df-1f6248e0-a3c0-4430-a575-709b18951578\">\n",
              "    <div class=\"colab-df-container\">\n",
              "      <div>\n",
              "<style scoped>\n",
              "    .dataframe tbody tr th:only-of-type {\n",
              "        vertical-align: middle;\n",
              "    }\n",
              "\n",
              "    .dataframe tbody tr th {\n",
              "        vertical-align: top;\n",
              "    }\n",
              "\n",
              "    .dataframe thead th {\n",
              "        text-align: right;\n",
              "    }\n",
              "</style>\n",
              "<table border=\"1\" class=\"dataframe\">\n",
              "  <thead>\n",
              "    <tr style=\"text-align: right;\">\n",
              "      <th></th>\n",
              "      <th>SystemCodeNumber</th>\n",
              "      <th>Capacity</th>\n",
              "      <th>Occupancy</th>\n",
              "      <th>LastUpdated</th>\n",
              "    </tr>\n",
              "  </thead>\n",
              "  <tbody>\n",
              "    <tr>\n",
              "      <th>27248</th>\n",
              "      <td>Others-CCCPS119a</td>\n",
              "      <td>2803</td>\n",
              "      <td>475</td>\n",
              "      <td>2016-11-13 14:27:35</td>\n",
              "    </tr>\n",
              "    <tr>\n",
              "      <th>32532</th>\n",
              "      <td>Others-CCCPS8</td>\n",
              "      <td>1322</td>\n",
              "      <td>782</td>\n",
              "      <td>2016-11-16 14:27:52</td>\n",
              "    </tr>\n",
              "    <tr>\n",
              "      <th>22644</th>\n",
              "      <td>Bull Ring</td>\n",
              "      <td>3053</td>\n",
              "      <td>2622</td>\n",
              "      <td>2016-12-18 13:30:26</td>\n",
              "    </tr>\n",
              "    <tr>\n",
              "      <th>11282</th>\n",
              "      <td>BHMEURBRD02</td>\n",
              "      <td>220</td>\n",
              "      <td>29</td>\n",
              "      <td>2016-12-11 14:59:43</td>\n",
              "    </tr>\n",
              "    <tr>\n",
              "      <th>19845</th>\n",
              "      <td>BHMNCPRAN01</td>\n",
              "      <td>600</td>\n",
              "      <td>111</td>\n",
              "      <td>2016-11-27 14:52:25</td>\n",
              "    </tr>\n",
              "    <tr>\n",
              "      <th>15405</th>\n",
              "      <td>BHMNCPNHS01</td>\n",
              "      <td>500</td>\n",
              "      <td>366</td>\n",
              "      <td>2016-10-07 11:30:28</td>\n",
              "    </tr>\n",
              "    <tr>\n",
              "      <th>33337</th>\n",
              "      <td>Others-CCCPS98</td>\n",
              "      <td>3103</td>\n",
              "      <td>1172</td>\n",
              "      <td>2016-10-17 12:57:17</td>\n",
              "    </tr>\n",
              "    <tr>\n",
              "      <th>11789</th>\n",
              "      <td>BHMMBMMBX01</td>\n",
              "      <td>687</td>\n",
              "      <td>349</td>\n",
              "      <td>2016-10-26 08:32:27</td>\n",
              "    </tr>\n",
              "    <tr>\n",
              "      <th>15092</th>\n",
              "      <td>BHMNCPLDH01</td>\n",
              "      <td>720</td>\n",
              "      <td>583</td>\n",
              "      <td>2016-12-02 14:58:50</td>\n",
              "    </tr>\n",
              "    <tr>\n",
              "      <th>16308</th>\n",
              "      <td>BHMNCPNHS01</td>\n",
              "      <td>500</td>\n",
              "      <td>455</td>\n",
              "      <td>2016-12-15 14:00:06</td>\n",
              "    </tr>\n",
              "  </tbody>\n",
              "</table>\n",
              "</div>\n",
              "      <button class=\"colab-df-convert\" onclick=\"convertToInteractive('df-1f6248e0-a3c0-4430-a575-709b18951578')\"\n",
              "              title=\"Convert this dataframe to an interactive table.\"\n",
              "              style=\"display:none;\">\n",
              "        \n",
              "  <svg xmlns=\"http://www.w3.org/2000/svg\" height=\"24px\"viewBox=\"0 0 24 24\"\n",
              "       width=\"24px\">\n",
              "    <path d=\"M0 0h24v24H0V0z\" fill=\"none\"/>\n",
              "    <path d=\"M18.56 5.44l.94 2.06.94-2.06 2.06-.94-2.06-.94-.94-2.06-.94 2.06-2.06.94zm-11 1L8.5 8.5l.94-2.06 2.06-.94-2.06-.94L8.5 2.5l-.94 2.06-2.06.94zm10 10l.94 2.06.94-2.06 2.06-.94-2.06-.94-.94-2.06-.94 2.06-2.06.94z\"/><path d=\"M17.41 7.96l-1.37-1.37c-.4-.4-.92-.59-1.43-.59-.52 0-1.04.2-1.43.59L10.3 9.45l-7.72 7.72c-.78.78-.78 2.05 0 2.83L4 21.41c.39.39.9.59 1.41.59.51 0 1.02-.2 1.41-.59l7.78-7.78 2.81-2.81c.8-.78.8-2.07 0-2.86zM5.41 20L4 18.59l7.72-7.72 1.47 1.35L5.41 20z\"/>\n",
              "  </svg>\n",
              "      </button>\n",
              "      \n",
              "  <style>\n",
              "    .colab-df-container {\n",
              "      display:flex;\n",
              "      flex-wrap:wrap;\n",
              "      gap: 12px;\n",
              "    }\n",
              "\n",
              "    .colab-df-convert {\n",
              "      background-color: #E8F0FE;\n",
              "      border: none;\n",
              "      border-radius: 50%;\n",
              "      cursor: pointer;\n",
              "      display: none;\n",
              "      fill: #1967D2;\n",
              "      height: 32px;\n",
              "      padding: 0 0 0 0;\n",
              "      width: 32px;\n",
              "    }\n",
              "\n",
              "    .colab-df-convert:hover {\n",
              "      background-color: #E2EBFA;\n",
              "      box-shadow: 0px 1px 2px rgba(60, 64, 67, 0.3), 0px 1px 3px 1px rgba(60, 64, 67, 0.15);\n",
              "      fill: #174EA6;\n",
              "    }\n",
              "\n",
              "    [theme=dark] .colab-df-convert {\n",
              "      background-color: #3B4455;\n",
              "      fill: #D2E3FC;\n",
              "    }\n",
              "\n",
              "    [theme=dark] .colab-df-convert:hover {\n",
              "      background-color: #434B5C;\n",
              "      box-shadow: 0px 1px 3px 1px rgba(0, 0, 0, 0.15);\n",
              "      filter: drop-shadow(0px 1px 2px rgba(0, 0, 0, 0.3));\n",
              "      fill: #FFFFFF;\n",
              "    }\n",
              "  </style>\n",
              "\n",
              "      <script>\n",
              "        const buttonEl =\n",
              "          document.querySelector('#df-1f6248e0-a3c0-4430-a575-709b18951578 button.colab-df-convert');\n",
              "        buttonEl.style.display =\n",
              "          google.colab.kernel.accessAllowed ? 'block' : 'none';\n",
              "\n",
              "        async function convertToInteractive(key) {\n",
              "          const element = document.querySelector('#df-1f6248e0-a3c0-4430-a575-709b18951578');\n",
              "          const dataTable =\n",
              "            await google.colab.kernel.invokeFunction('convertToInteractive',\n",
              "                                                     [key], {});\n",
              "          if (!dataTable) return;\n",
              "\n",
              "          const docLinkHtml = 'Like what you see? Visit the ' +\n",
              "            '<a target=\"_blank\" href=https://colab.research.google.com/notebooks/data_table.ipynb>data table notebook</a>'\n",
              "            + ' to learn more about interactive tables.';\n",
              "          element.innerHTML = '';\n",
              "          dataTable['output_type'] = 'display_data';\n",
              "          await google.colab.output.renderOutput(dataTable, element);\n",
              "          const docLink = document.createElement('div');\n",
              "          docLink.innerHTML = docLinkHtml;\n",
              "          element.appendChild(docLink);\n",
              "        }\n",
              "      </script>\n",
              "    </div>\n",
              "  </div>\n",
              "  "
            ]
          },
          "metadata": {},
          "execution_count": 11
        }
      ]
    },
    {
      "cell_type": "code",
      "source": [
        "df.describe()"
      ],
      "metadata": {
        "colab": {
          "base_uri": "https://localhost:8080/",
          "height": 300
        },
        "id": "PwdhaMb3glR4",
        "outputId": "baf25768-2a87-4b8b-b143-39e7b465ec60"
      },
      "execution_count": 12,
      "outputs": [
        {
          "output_type": "execute_result",
          "data": {
            "text/plain": [
              "           Capacity     Occupancy\n",
              "count  35717.000000  35717.000000\n",
              "mean    1397.550130    642.228911\n",
              "std     1179.326833    656.955535\n",
              "min      220.000000     -8.000000\n",
              "25%      500.000000    210.000000\n",
              "50%      849.000000    446.000000\n",
              "75%     2009.000000    798.000000\n",
              "max     4675.000000   4327.000000"
            ],
            "text/html": [
              "\n",
              "  <div id=\"df-a2b0e6ce-200e-460a-bad5-6104e97c20f7\">\n",
              "    <div class=\"colab-df-container\">\n",
              "      <div>\n",
              "<style scoped>\n",
              "    .dataframe tbody tr th:only-of-type {\n",
              "        vertical-align: middle;\n",
              "    }\n",
              "\n",
              "    .dataframe tbody tr th {\n",
              "        vertical-align: top;\n",
              "    }\n",
              "\n",
              "    .dataframe thead th {\n",
              "        text-align: right;\n",
              "    }\n",
              "</style>\n",
              "<table border=\"1\" class=\"dataframe\">\n",
              "  <thead>\n",
              "    <tr style=\"text-align: right;\">\n",
              "      <th></th>\n",
              "      <th>Capacity</th>\n",
              "      <th>Occupancy</th>\n",
              "    </tr>\n",
              "  </thead>\n",
              "  <tbody>\n",
              "    <tr>\n",
              "      <th>count</th>\n",
              "      <td>35717.000000</td>\n",
              "      <td>35717.000000</td>\n",
              "    </tr>\n",
              "    <tr>\n",
              "      <th>mean</th>\n",
              "      <td>1397.550130</td>\n",
              "      <td>642.228911</td>\n",
              "    </tr>\n",
              "    <tr>\n",
              "      <th>std</th>\n",
              "      <td>1179.326833</td>\n",
              "      <td>656.955535</td>\n",
              "    </tr>\n",
              "    <tr>\n",
              "      <th>min</th>\n",
              "      <td>220.000000</td>\n",
              "      <td>-8.000000</td>\n",
              "    </tr>\n",
              "    <tr>\n",
              "      <th>25%</th>\n",
              "      <td>500.000000</td>\n",
              "      <td>210.000000</td>\n",
              "    </tr>\n",
              "    <tr>\n",
              "      <th>50%</th>\n",
              "      <td>849.000000</td>\n",
              "      <td>446.000000</td>\n",
              "    </tr>\n",
              "    <tr>\n",
              "      <th>75%</th>\n",
              "      <td>2009.000000</td>\n",
              "      <td>798.000000</td>\n",
              "    </tr>\n",
              "    <tr>\n",
              "      <th>max</th>\n",
              "      <td>4675.000000</td>\n",
              "      <td>4327.000000</td>\n",
              "    </tr>\n",
              "  </tbody>\n",
              "</table>\n",
              "</div>\n",
              "      <button class=\"colab-df-convert\" onclick=\"convertToInteractive('df-a2b0e6ce-200e-460a-bad5-6104e97c20f7')\"\n",
              "              title=\"Convert this dataframe to an interactive table.\"\n",
              "              style=\"display:none;\">\n",
              "        \n",
              "  <svg xmlns=\"http://www.w3.org/2000/svg\" height=\"24px\"viewBox=\"0 0 24 24\"\n",
              "       width=\"24px\">\n",
              "    <path d=\"M0 0h24v24H0V0z\" fill=\"none\"/>\n",
              "    <path d=\"M18.56 5.44l.94 2.06.94-2.06 2.06-.94-2.06-.94-.94-2.06-.94 2.06-2.06.94zm-11 1L8.5 8.5l.94-2.06 2.06-.94-2.06-.94L8.5 2.5l-.94 2.06-2.06.94zm10 10l.94 2.06.94-2.06 2.06-.94-2.06-.94-.94-2.06-.94 2.06-2.06.94z\"/><path d=\"M17.41 7.96l-1.37-1.37c-.4-.4-.92-.59-1.43-.59-.52 0-1.04.2-1.43.59L10.3 9.45l-7.72 7.72c-.78.78-.78 2.05 0 2.83L4 21.41c.39.39.9.59 1.41.59.51 0 1.02-.2 1.41-.59l7.78-7.78 2.81-2.81c.8-.78.8-2.07 0-2.86zM5.41 20L4 18.59l7.72-7.72 1.47 1.35L5.41 20z\"/>\n",
              "  </svg>\n",
              "      </button>\n",
              "      \n",
              "  <style>\n",
              "    .colab-df-container {\n",
              "      display:flex;\n",
              "      flex-wrap:wrap;\n",
              "      gap: 12px;\n",
              "    }\n",
              "\n",
              "    .colab-df-convert {\n",
              "      background-color: #E8F0FE;\n",
              "      border: none;\n",
              "      border-radius: 50%;\n",
              "      cursor: pointer;\n",
              "      display: none;\n",
              "      fill: #1967D2;\n",
              "      height: 32px;\n",
              "      padding: 0 0 0 0;\n",
              "      width: 32px;\n",
              "    }\n",
              "\n",
              "    .colab-df-convert:hover {\n",
              "      background-color: #E2EBFA;\n",
              "      box-shadow: 0px 1px 2px rgba(60, 64, 67, 0.3), 0px 1px 3px 1px rgba(60, 64, 67, 0.15);\n",
              "      fill: #174EA6;\n",
              "    }\n",
              "\n",
              "    [theme=dark] .colab-df-convert {\n",
              "      background-color: #3B4455;\n",
              "      fill: #D2E3FC;\n",
              "    }\n",
              "\n",
              "    [theme=dark] .colab-df-convert:hover {\n",
              "      background-color: #434B5C;\n",
              "      box-shadow: 0px 1px 3px 1px rgba(0, 0, 0, 0.15);\n",
              "      filter: drop-shadow(0px 1px 2px rgba(0, 0, 0, 0.3));\n",
              "      fill: #FFFFFF;\n",
              "    }\n",
              "  </style>\n",
              "\n",
              "      <script>\n",
              "        const buttonEl =\n",
              "          document.querySelector('#df-a2b0e6ce-200e-460a-bad5-6104e97c20f7 button.colab-df-convert');\n",
              "        buttonEl.style.display =\n",
              "          google.colab.kernel.accessAllowed ? 'block' : 'none';\n",
              "\n",
              "        async function convertToInteractive(key) {\n",
              "          const element = document.querySelector('#df-a2b0e6ce-200e-460a-bad5-6104e97c20f7');\n",
              "          const dataTable =\n",
              "            await google.colab.kernel.invokeFunction('convertToInteractive',\n",
              "                                                     [key], {});\n",
              "          if (!dataTable) return;\n",
              "\n",
              "          const docLinkHtml = 'Like what you see? Visit the ' +\n",
              "            '<a target=\"_blank\" href=https://colab.research.google.com/notebooks/data_table.ipynb>data table notebook</a>'\n",
              "            + ' to learn more about interactive tables.';\n",
              "          element.innerHTML = '';\n",
              "          dataTable['output_type'] = 'display_data';\n",
              "          await google.colab.output.renderOutput(dataTable, element);\n",
              "          const docLink = document.createElement('div');\n",
              "          docLink.innerHTML = docLinkHtml;\n",
              "          element.appendChild(docLink);\n",
              "        }\n",
              "      </script>\n",
              "    </div>\n",
              "  </div>\n",
              "  "
            ]
          },
          "metadata": {},
          "execution_count": 12
        }
      ]
    },
    {
      "cell_type": "code",
      "source": [
        "df.corr()"
      ],
      "metadata": {
        "colab": {
          "base_uri": "https://localhost:8080/",
          "height": 112
        },
        "id": "NSzPWiIBNKBf",
        "outputId": "70440695-3c80-471c-809a-35cc933c65dc"
      },
      "execution_count": 13,
      "outputs": [
        {
          "output_type": "execute_result",
          "data": {
            "text/plain": [
              "           Capacity  Occupancy\n",
              "Capacity   1.000000   0.775825\n",
              "Occupancy  0.775825   1.000000"
            ],
            "text/html": [
              "\n",
              "  <div id=\"df-1813d396-c6f2-499b-a01d-3d648a8bfa7a\">\n",
              "    <div class=\"colab-df-container\">\n",
              "      <div>\n",
              "<style scoped>\n",
              "    .dataframe tbody tr th:only-of-type {\n",
              "        vertical-align: middle;\n",
              "    }\n",
              "\n",
              "    .dataframe tbody tr th {\n",
              "        vertical-align: top;\n",
              "    }\n",
              "\n",
              "    .dataframe thead th {\n",
              "        text-align: right;\n",
              "    }\n",
              "</style>\n",
              "<table border=\"1\" class=\"dataframe\">\n",
              "  <thead>\n",
              "    <tr style=\"text-align: right;\">\n",
              "      <th></th>\n",
              "      <th>Capacity</th>\n",
              "      <th>Occupancy</th>\n",
              "    </tr>\n",
              "  </thead>\n",
              "  <tbody>\n",
              "    <tr>\n",
              "      <th>Capacity</th>\n",
              "      <td>1.000000</td>\n",
              "      <td>0.775825</td>\n",
              "    </tr>\n",
              "    <tr>\n",
              "      <th>Occupancy</th>\n",
              "      <td>0.775825</td>\n",
              "      <td>1.000000</td>\n",
              "    </tr>\n",
              "  </tbody>\n",
              "</table>\n",
              "</div>\n",
              "      <button class=\"colab-df-convert\" onclick=\"convertToInteractive('df-1813d396-c6f2-499b-a01d-3d648a8bfa7a')\"\n",
              "              title=\"Convert this dataframe to an interactive table.\"\n",
              "              style=\"display:none;\">\n",
              "        \n",
              "  <svg xmlns=\"http://www.w3.org/2000/svg\" height=\"24px\"viewBox=\"0 0 24 24\"\n",
              "       width=\"24px\">\n",
              "    <path d=\"M0 0h24v24H0V0z\" fill=\"none\"/>\n",
              "    <path d=\"M18.56 5.44l.94 2.06.94-2.06 2.06-.94-2.06-.94-.94-2.06-.94 2.06-2.06.94zm-11 1L8.5 8.5l.94-2.06 2.06-.94-2.06-.94L8.5 2.5l-.94 2.06-2.06.94zm10 10l.94 2.06.94-2.06 2.06-.94-2.06-.94-.94-2.06-.94 2.06-2.06.94z\"/><path d=\"M17.41 7.96l-1.37-1.37c-.4-.4-.92-.59-1.43-.59-.52 0-1.04.2-1.43.59L10.3 9.45l-7.72 7.72c-.78.78-.78 2.05 0 2.83L4 21.41c.39.39.9.59 1.41.59.51 0 1.02-.2 1.41-.59l7.78-7.78 2.81-2.81c.8-.78.8-2.07 0-2.86zM5.41 20L4 18.59l7.72-7.72 1.47 1.35L5.41 20z\"/>\n",
              "  </svg>\n",
              "      </button>\n",
              "      \n",
              "  <style>\n",
              "    .colab-df-container {\n",
              "      display:flex;\n",
              "      flex-wrap:wrap;\n",
              "      gap: 12px;\n",
              "    }\n",
              "\n",
              "    .colab-df-convert {\n",
              "      background-color: #E8F0FE;\n",
              "      border: none;\n",
              "      border-radius: 50%;\n",
              "      cursor: pointer;\n",
              "      display: none;\n",
              "      fill: #1967D2;\n",
              "      height: 32px;\n",
              "      padding: 0 0 0 0;\n",
              "      width: 32px;\n",
              "    }\n",
              "\n",
              "    .colab-df-convert:hover {\n",
              "      background-color: #E2EBFA;\n",
              "      box-shadow: 0px 1px 2px rgba(60, 64, 67, 0.3), 0px 1px 3px 1px rgba(60, 64, 67, 0.15);\n",
              "      fill: #174EA6;\n",
              "    }\n",
              "\n",
              "    [theme=dark] .colab-df-convert {\n",
              "      background-color: #3B4455;\n",
              "      fill: #D2E3FC;\n",
              "    }\n",
              "\n",
              "    [theme=dark] .colab-df-convert:hover {\n",
              "      background-color: #434B5C;\n",
              "      box-shadow: 0px 1px 3px 1px rgba(0, 0, 0, 0.15);\n",
              "      filter: drop-shadow(0px 1px 2px rgba(0, 0, 0, 0.3));\n",
              "      fill: #FFFFFF;\n",
              "    }\n",
              "  </style>\n",
              "\n",
              "      <script>\n",
              "        const buttonEl =\n",
              "          document.querySelector('#df-1813d396-c6f2-499b-a01d-3d648a8bfa7a button.colab-df-convert');\n",
              "        buttonEl.style.display =\n",
              "          google.colab.kernel.accessAllowed ? 'block' : 'none';\n",
              "\n",
              "        async function convertToInteractive(key) {\n",
              "          const element = document.querySelector('#df-1813d396-c6f2-499b-a01d-3d648a8bfa7a');\n",
              "          const dataTable =\n",
              "            await google.colab.kernel.invokeFunction('convertToInteractive',\n",
              "                                                     [key], {});\n",
              "          if (!dataTable) return;\n",
              "\n",
              "          const docLinkHtml = 'Like what you see? Visit the ' +\n",
              "            '<a target=\"_blank\" href=https://colab.research.google.com/notebooks/data_table.ipynb>data table notebook</a>'\n",
              "            + ' to learn more about interactive tables.';\n",
              "          element.innerHTML = '';\n",
              "          dataTable['output_type'] = 'display_data';\n",
              "          await google.colab.output.renderOutput(dataTable, element);\n",
              "          const docLink = document.createElement('div');\n",
              "          docLink.innerHTML = docLinkHtml;\n",
              "          element.appendChild(docLink);\n",
              "        }\n",
              "      </script>\n",
              "    </div>\n",
              "  </div>\n",
              "  "
            ]
          },
          "metadata": {},
          "execution_count": 13
        }
      ]
    },
    {
      "cell_type": "code",
      "source": [
        "df.dtypes"
      ],
      "metadata": {
        "colab": {
          "base_uri": "https://localhost:8080/"
        },
        "id": "Ad7z7wlHOLtS",
        "outputId": "49399329-c183-431a-bba0-93405a92cf3c"
      },
      "execution_count": null,
      "outputs": [
        {
          "output_type": "execute_result",
          "data": {
            "text/plain": [
              "SystemCodeNumber    object\n",
              "Capacity             int64\n",
              "Occupancy            int64\n",
              "LastUpdated         object\n",
              "dtype: object"
            ]
          },
          "metadata": {},
          "execution_count": 15
        }
      ]
    },
    {
      "cell_type": "code",
      "source": [
        "df.SystemCodeNumber.value_counts()"
      ],
      "metadata": {
        "colab": {
          "base_uri": "https://localhost:8080/"
        },
        "id": "kygJ9z3CYsvR",
        "outputId": "399fe7ec-c877-4e2e-8429-59a5a1aebe85"
      },
      "execution_count": null,
      "outputs": [
        {
          "output_type": "execute_result",
          "data": {
            "text/plain": [
              "BHMBCCMKT01         1312\n",
              "BHMNCPHST01         1312\n",
              "Others-CCCPS98      1312\n",
              "Others-CCCPS8       1312\n",
              "Others-CCCPS202     1312\n",
              "Others-CCCPS135a    1312\n",
              "Others-CCCPS119a    1312\n",
              "Others-CCCPS105a    1312\n",
              "Broad Street        1312\n",
              "BHMNCPNST01         1312\n",
              "Shopping            1312\n",
              "BHMMBMMBX01         1312\n",
              "BHMEURBRD01         1312\n",
              "BHMBCCTHL01         1312\n",
              "BHMBCCSNH01         1294\n",
              "Others-CCCPS133     1294\n",
              "BHMNCPLDH01         1292\n",
              "BHMNCPPLS01         1291\n",
              "BHMBCCPST01         1276\n",
              "BHMEURBRD02         1276\n",
              "NIA Car Parks       1204\n",
              "NIA South           1204\n",
              "Bull Ring           1186\n",
              "BHMNCPRAN01         1186\n",
              "BHMBRCBRG03         1186\n",
              "BHMBRCBRG02         1186\n",
              "BHMBRCBRG01         1186\n",
              "BHMNCPNHS01         1038\n",
              "NIA North            162\n",
              "BHMBRTARC01           88\n",
              "Name: SystemCodeNumber, dtype: int64"
            ]
          },
          "metadata": {},
          "execution_count": 16
        }
      ]
    },
    {
      "cell_type": "code",
      "source": [
        "df.info()"
      ],
      "metadata": {
        "colab": {
          "base_uri": "https://localhost:8080/"
        },
        "id": "ZtIVttaJZh9Z",
        "outputId": "8db99bba-9164-4f3d-e55f-df720b9f2c25"
      },
      "execution_count": null,
      "outputs": [
        {
          "output_type": "stream",
          "name": "stdout",
          "text": [
            "<class 'pandas.core.frame.DataFrame'>\n",
            "RangeIndex: 35717 entries, 0 to 35716\n",
            "Data columns (total 4 columns):\n",
            " #   Column            Non-Null Count  Dtype \n",
            "---  ------            --------------  ----- \n",
            " 0   SystemCodeNumber  35717 non-null  object\n",
            " 1   Capacity          35717 non-null  int64 \n",
            " 2   Occupancy         35717 non-null  int64 \n",
            " 3   LastUpdated       35717 non-null  object\n",
            "dtypes: int64(2), object(2)\n",
            "memory usage: 1.1+ MB\n"
          ]
        }
      ]
    },
    {
      "cell_type": "markdown",
      "source": [
        "Removing the unnecessary update date field."
      ],
      "metadata": {
        "id": "j9k69dSBDOxN"
      }
    },
    {
      "cell_type": "code",
      "source": [
        "df.drop(['LastUpdated'], axis=1, inplace = True)"
      ],
      "metadata": {
        "id": "0coklw9-Mmcc"
      },
      "execution_count": 14,
      "outputs": []
    },
    {
      "cell_type": "code",
      "source": [
        "df.columns"
      ],
      "metadata": {
        "colab": {
          "base_uri": "https://localhost:8080/"
        },
        "id": "9fDSHWzUNW5l",
        "outputId": "ebb1deae-ac32-478c-fd7b-bdf8e71360b1"
      },
      "execution_count": 15,
      "outputs": [
        {
          "output_type": "execute_result",
          "data": {
            "text/plain": [
              "Index(['SystemCodeNumber', 'Capacity', 'Occupancy'], dtype='object')"
            ]
          },
          "metadata": {},
          "execution_count": 15
        }
      ]
    },
    {
      "cell_type": "markdown",
      "source": [
        "Adding columns to reflect capacity utilization for each parking facility (for present purposes, \"near capacity\" is defined as the facility being at least 80% full (and the related new field will be assigned a \"1\" if so and a \"0\" value if not)."
      ],
      "metadata": {
        "id": "K5hXnoi-Ooiv"
      }
    },
    {
      "cell_type": "code",
      "source": [
        "df['PercentFull'] = df.apply(lambda row: row.Occupancy / row.Capacity, axis=1)"
      ],
      "metadata": {
        "id": "QYHHyrBlOLdO"
      },
      "execution_count": 16,
      "outputs": []
    },
    {
      "cell_type": "code",
      "source": [
        "df.info()"
      ],
      "metadata": {
        "colab": {
          "base_uri": "https://localhost:8080/"
        },
        "id": "cYXuceTorJgC",
        "outputId": "2d76fe47-240a-48ae-83ee-6397de95806b"
      },
      "execution_count": 17,
      "outputs": [
        {
          "output_type": "stream",
          "name": "stdout",
          "text": [
            "<class 'pandas.core.frame.DataFrame'>\n",
            "RangeIndex: 35717 entries, 0 to 35716\n",
            "Data columns (total 4 columns):\n",
            " #   Column            Non-Null Count  Dtype  \n",
            "---  ------            --------------  -----  \n",
            " 0   SystemCodeNumber  35717 non-null  object \n",
            " 1   Capacity          35717 non-null  int64  \n",
            " 2   Occupancy         35717 non-null  int64  \n",
            " 3   PercentFull       35717 non-null  float64\n",
            "dtypes: float64(1), int64(2), object(1)\n",
            "memory usage: 1.1+ MB\n"
          ]
        }
      ]
    },
    {
      "cell_type": "code",
      "source": [
        "df['NearCapacity'] = np.where(df['PercentFull']>= 0.8, 1, 0)"
      ],
      "metadata": {
        "id": "LbSDM2hw3aZY"
      },
      "execution_count": 18,
      "outputs": []
    },
    {
      "cell_type": "code",
      "source": [
        "df.sample(20)"
      ],
      "metadata": {
        "colab": {
          "base_uri": "https://localhost:8080/",
          "height": 676
        },
        "id": "jRS4VDzEOgg9",
        "outputId": "482285b0-f5ac-43fe-91cf-e185fe94e7e7"
      },
      "execution_count": 19,
      "outputs": [
        {
          "output_type": "execute_result",
          "data": {
            "text/plain": [
              "       SystemCodeNumber  Capacity  Occupancy  PercentFull  NearCapacity\n",
              "11333       BHMEURBRD02       220        179     0.813636             1\n",
              "23314     NIA Car Parks      1268        201     0.158517             0\n",
              "13522       BHMNCPHST01      1200        722     0.601667             0\n",
              "31682   Others-CCCPS202      2937       1279     0.435478             0\n",
              "1887        BHMBCCPST01       317        102     0.321767             0\n",
              "18376       BHMNCPPLS01       450        174     0.386667             0\n",
              "9616        BHMEURBRD01       470        219     0.465957             0\n",
              "16194       BHMNCPNHS01       500        405     0.810000             1\n",
              "11439       BHMMBMMBX01       687        648     0.943231             1\n",
              "35100          Shopping      1920        634     0.330208             0\n",
              "12333       BHMMBMMBX01       687        442     0.643377             0\n",
              "19909       BHMNCPRAN01       600        504     0.840000             1\n",
              "16988       BHMNCPNST01       485        357     0.736082             0\n",
              "35373          Shopping      1920       1549     0.806771             1\n",
              "33601    Others-CCCPS98      3103       1074     0.346117             0\n",
              "43          BHMBCCMKT01       577        191     0.331023             0\n",
              "23563     NIA Car Parks      1268        203     0.160095             0\n",
              "31309   Others-CCCPS202      2937       1253     0.426626             0\n",
              "29691  Others-CCCPS135a      3883       2602     0.670100             0\n",
              "31353   Others-CCCPS202      2937        865     0.294518             0"
            ],
            "text/html": [
              "\n",
              "  <div id=\"df-dc9b4fa7-f780-4465-95b1-fb241277e4ca\">\n",
              "    <div class=\"colab-df-container\">\n",
              "      <div>\n",
              "<style scoped>\n",
              "    .dataframe tbody tr th:only-of-type {\n",
              "        vertical-align: middle;\n",
              "    }\n",
              "\n",
              "    .dataframe tbody tr th {\n",
              "        vertical-align: top;\n",
              "    }\n",
              "\n",
              "    .dataframe thead th {\n",
              "        text-align: right;\n",
              "    }\n",
              "</style>\n",
              "<table border=\"1\" class=\"dataframe\">\n",
              "  <thead>\n",
              "    <tr style=\"text-align: right;\">\n",
              "      <th></th>\n",
              "      <th>SystemCodeNumber</th>\n",
              "      <th>Capacity</th>\n",
              "      <th>Occupancy</th>\n",
              "      <th>PercentFull</th>\n",
              "      <th>NearCapacity</th>\n",
              "    </tr>\n",
              "  </thead>\n",
              "  <tbody>\n",
              "    <tr>\n",
              "      <th>11333</th>\n",
              "      <td>BHMEURBRD02</td>\n",
              "      <td>220</td>\n",
              "      <td>179</td>\n",
              "      <td>0.813636</td>\n",
              "      <td>1</td>\n",
              "    </tr>\n",
              "    <tr>\n",
              "      <th>23314</th>\n",
              "      <td>NIA Car Parks</td>\n",
              "      <td>1268</td>\n",
              "      <td>201</td>\n",
              "      <td>0.158517</td>\n",
              "      <td>0</td>\n",
              "    </tr>\n",
              "    <tr>\n",
              "      <th>13522</th>\n",
              "      <td>BHMNCPHST01</td>\n",
              "      <td>1200</td>\n",
              "      <td>722</td>\n",
              "      <td>0.601667</td>\n",
              "      <td>0</td>\n",
              "    </tr>\n",
              "    <tr>\n",
              "      <th>31682</th>\n",
              "      <td>Others-CCCPS202</td>\n",
              "      <td>2937</td>\n",
              "      <td>1279</td>\n",
              "      <td>0.435478</td>\n",
              "      <td>0</td>\n",
              "    </tr>\n",
              "    <tr>\n",
              "      <th>1887</th>\n",
              "      <td>BHMBCCPST01</td>\n",
              "      <td>317</td>\n",
              "      <td>102</td>\n",
              "      <td>0.321767</td>\n",
              "      <td>0</td>\n",
              "    </tr>\n",
              "    <tr>\n",
              "      <th>18376</th>\n",
              "      <td>BHMNCPPLS01</td>\n",
              "      <td>450</td>\n",
              "      <td>174</td>\n",
              "      <td>0.386667</td>\n",
              "      <td>0</td>\n",
              "    </tr>\n",
              "    <tr>\n",
              "      <th>9616</th>\n",
              "      <td>BHMEURBRD01</td>\n",
              "      <td>470</td>\n",
              "      <td>219</td>\n",
              "      <td>0.465957</td>\n",
              "      <td>0</td>\n",
              "    </tr>\n",
              "    <tr>\n",
              "      <th>16194</th>\n",
              "      <td>BHMNCPNHS01</td>\n",
              "      <td>500</td>\n",
              "      <td>405</td>\n",
              "      <td>0.810000</td>\n",
              "      <td>1</td>\n",
              "    </tr>\n",
              "    <tr>\n",
              "      <th>11439</th>\n",
              "      <td>BHMMBMMBX01</td>\n",
              "      <td>687</td>\n",
              "      <td>648</td>\n",
              "      <td>0.943231</td>\n",
              "      <td>1</td>\n",
              "    </tr>\n",
              "    <tr>\n",
              "      <th>35100</th>\n",
              "      <td>Shopping</td>\n",
              "      <td>1920</td>\n",
              "      <td>634</td>\n",
              "      <td>0.330208</td>\n",
              "      <td>0</td>\n",
              "    </tr>\n",
              "    <tr>\n",
              "      <th>12333</th>\n",
              "      <td>BHMMBMMBX01</td>\n",
              "      <td>687</td>\n",
              "      <td>442</td>\n",
              "      <td>0.643377</td>\n",
              "      <td>0</td>\n",
              "    </tr>\n",
              "    <tr>\n",
              "      <th>19909</th>\n",
              "      <td>BHMNCPRAN01</td>\n",
              "      <td>600</td>\n",
              "      <td>504</td>\n",
              "      <td>0.840000</td>\n",
              "      <td>1</td>\n",
              "    </tr>\n",
              "    <tr>\n",
              "      <th>16988</th>\n",
              "      <td>BHMNCPNST01</td>\n",
              "      <td>485</td>\n",
              "      <td>357</td>\n",
              "      <td>0.736082</td>\n",
              "      <td>0</td>\n",
              "    </tr>\n",
              "    <tr>\n",
              "      <th>35373</th>\n",
              "      <td>Shopping</td>\n",
              "      <td>1920</td>\n",
              "      <td>1549</td>\n",
              "      <td>0.806771</td>\n",
              "      <td>1</td>\n",
              "    </tr>\n",
              "    <tr>\n",
              "      <th>33601</th>\n",
              "      <td>Others-CCCPS98</td>\n",
              "      <td>3103</td>\n",
              "      <td>1074</td>\n",
              "      <td>0.346117</td>\n",
              "      <td>0</td>\n",
              "    </tr>\n",
              "    <tr>\n",
              "      <th>43</th>\n",
              "      <td>BHMBCCMKT01</td>\n",
              "      <td>577</td>\n",
              "      <td>191</td>\n",
              "      <td>0.331023</td>\n",
              "      <td>0</td>\n",
              "    </tr>\n",
              "    <tr>\n",
              "      <th>23563</th>\n",
              "      <td>NIA Car Parks</td>\n",
              "      <td>1268</td>\n",
              "      <td>203</td>\n",
              "      <td>0.160095</td>\n",
              "      <td>0</td>\n",
              "    </tr>\n",
              "    <tr>\n",
              "      <th>31309</th>\n",
              "      <td>Others-CCCPS202</td>\n",
              "      <td>2937</td>\n",
              "      <td>1253</td>\n",
              "      <td>0.426626</td>\n",
              "      <td>0</td>\n",
              "    </tr>\n",
              "    <tr>\n",
              "      <th>29691</th>\n",
              "      <td>Others-CCCPS135a</td>\n",
              "      <td>3883</td>\n",
              "      <td>2602</td>\n",
              "      <td>0.670100</td>\n",
              "      <td>0</td>\n",
              "    </tr>\n",
              "    <tr>\n",
              "      <th>31353</th>\n",
              "      <td>Others-CCCPS202</td>\n",
              "      <td>2937</td>\n",
              "      <td>865</td>\n",
              "      <td>0.294518</td>\n",
              "      <td>0</td>\n",
              "    </tr>\n",
              "  </tbody>\n",
              "</table>\n",
              "</div>\n",
              "      <button class=\"colab-df-convert\" onclick=\"convertToInteractive('df-dc9b4fa7-f780-4465-95b1-fb241277e4ca')\"\n",
              "              title=\"Convert this dataframe to an interactive table.\"\n",
              "              style=\"display:none;\">\n",
              "        \n",
              "  <svg xmlns=\"http://www.w3.org/2000/svg\" height=\"24px\"viewBox=\"0 0 24 24\"\n",
              "       width=\"24px\">\n",
              "    <path d=\"M0 0h24v24H0V0z\" fill=\"none\"/>\n",
              "    <path d=\"M18.56 5.44l.94 2.06.94-2.06 2.06-.94-2.06-.94-.94-2.06-.94 2.06-2.06.94zm-11 1L8.5 8.5l.94-2.06 2.06-.94-2.06-.94L8.5 2.5l-.94 2.06-2.06.94zm10 10l.94 2.06.94-2.06 2.06-.94-2.06-.94-.94-2.06-.94 2.06-2.06.94z\"/><path d=\"M17.41 7.96l-1.37-1.37c-.4-.4-.92-.59-1.43-.59-.52 0-1.04.2-1.43.59L10.3 9.45l-7.72 7.72c-.78.78-.78 2.05 0 2.83L4 21.41c.39.39.9.59 1.41.59.51 0 1.02-.2 1.41-.59l7.78-7.78 2.81-2.81c.8-.78.8-2.07 0-2.86zM5.41 20L4 18.59l7.72-7.72 1.47 1.35L5.41 20z\"/>\n",
              "  </svg>\n",
              "      </button>\n",
              "      \n",
              "  <style>\n",
              "    .colab-df-container {\n",
              "      display:flex;\n",
              "      flex-wrap:wrap;\n",
              "      gap: 12px;\n",
              "    }\n",
              "\n",
              "    .colab-df-convert {\n",
              "      background-color: #E8F0FE;\n",
              "      border: none;\n",
              "      border-radius: 50%;\n",
              "      cursor: pointer;\n",
              "      display: none;\n",
              "      fill: #1967D2;\n",
              "      height: 32px;\n",
              "      padding: 0 0 0 0;\n",
              "      width: 32px;\n",
              "    }\n",
              "\n",
              "    .colab-df-convert:hover {\n",
              "      background-color: #E2EBFA;\n",
              "      box-shadow: 0px 1px 2px rgba(60, 64, 67, 0.3), 0px 1px 3px 1px rgba(60, 64, 67, 0.15);\n",
              "      fill: #174EA6;\n",
              "    }\n",
              "\n",
              "    [theme=dark] .colab-df-convert {\n",
              "      background-color: #3B4455;\n",
              "      fill: #D2E3FC;\n",
              "    }\n",
              "\n",
              "    [theme=dark] .colab-df-convert:hover {\n",
              "      background-color: #434B5C;\n",
              "      box-shadow: 0px 1px 3px 1px rgba(0, 0, 0, 0.15);\n",
              "      filter: drop-shadow(0px 1px 2px rgba(0, 0, 0, 0.3));\n",
              "      fill: #FFFFFF;\n",
              "    }\n",
              "  </style>\n",
              "\n",
              "      <script>\n",
              "        const buttonEl =\n",
              "          document.querySelector('#df-dc9b4fa7-f780-4465-95b1-fb241277e4ca button.colab-df-convert');\n",
              "        buttonEl.style.display =\n",
              "          google.colab.kernel.accessAllowed ? 'block' : 'none';\n",
              "\n",
              "        async function convertToInteractive(key) {\n",
              "          const element = document.querySelector('#df-dc9b4fa7-f780-4465-95b1-fb241277e4ca');\n",
              "          const dataTable =\n",
              "            await google.colab.kernel.invokeFunction('convertToInteractive',\n",
              "                                                     [key], {});\n",
              "          if (!dataTable) return;\n",
              "\n",
              "          const docLinkHtml = 'Like what you see? Visit the ' +\n",
              "            '<a target=\"_blank\" href=https://colab.research.google.com/notebooks/data_table.ipynb>data table notebook</a>'\n",
              "            + ' to learn more about interactive tables.';\n",
              "          element.innerHTML = '';\n",
              "          dataTable['output_type'] = 'display_data';\n",
              "          await google.colab.output.renderOutput(dataTable, element);\n",
              "          const docLink = document.createElement('div');\n",
              "          docLink.innerHTML = docLinkHtml;\n",
              "          element.appendChild(docLink);\n",
              "        }\n",
              "      </script>\n",
              "    </div>\n",
              "  </div>\n",
              "  "
            ]
          },
          "metadata": {},
          "execution_count": 19
        }
      ]
    },
    {
      "cell_type": "code",
      "source": [
        "df.replace(to_replace =\"Others-\",\n",
        "                 value =\"Others\",\n",
        "           inplace = True, regex = True)"
      ],
      "metadata": {
        "id": "6AStmsD8durF"
      },
      "execution_count": 20,
      "outputs": []
    },
    {
      "cell_type": "code",
      "source": [
        "df.sample(30)"
      ],
      "metadata": {
        "colab": {
          "base_uri": "https://localhost:8080/",
          "height": 990
        },
        "id": "c-xZ9b-PemhS",
        "outputId": "1d36524d-8764-4dd9-d779-61c1f9b629c6"
      },
      "execution_count": 21,
      "outputs": [
        {
          "output_type": "execute_result",
          "data": {
            "text/plain": [
              "      SystemCodeNumber  Capacity  Occupancy  PercentFull  NearCapacity\n",
              "10732      BHMEURBRD02       220        151     0.686364             0\n",
              "26069  OthersCCCPS105a      2009        710     0.353410             0\n",
              "1368       BHMBCCPST01       317        124     0.391167             0\n",
              "7869       BHMBRCBRG03       849        413     0.486455             0\n",
              "24789        NIA South       788        212     0.269036             0\n",
              "32095     OthersCCCPS8      1322        628     0.475038             0\n",
              "19922      BHMNCPRAN01       600        302     0.503333             0\n",
              "35345         Shopping      1920        390     0.203125             0\n",
              "33653    OthersCCCPS98      3103        545     0.175636             0\n",
              "4760       BHMBCCTHL01       387        392     1.012920             1\n",
              "15654      BHMNCPNHS01       500        434     0.868000             1\n",
              "9867       BHMEURBRD01       470        205     0.436170             0\n",
              "13061      BHMNCPHST01      1200        274     0.228333             0\n",
              "17789      BHMNCPPLS01       450         15     0.033333             0\n",
              "5595       BHMBRCBRG01      1010        590     0.584158             0\n",
              "26665  OthersCCCPS119a      2803        436     0.155548             0\n",
              "35580         Shopping      1920       1330     0.692708             0\n",
              "20128      BHMNCPRAN01       600        425     0.708333             0\n",
              "16559      BHMNCPNST01       485        345     0.711340             0\n",
              "18055      BHMNCPPLS01       450         17     0.037778             0\n",
              "19612      BHMNCPRAN01       600         58     0.096667             0\n",
              "16160      BHMNCPNHS01       500        438     0.876000             1\n",
              "3008       BHMBCCSNH01       863        329     0.381228             0\n",
              "1858       BHMBCCPST01       317        163     0.514196             0\n",
              "22376        Bull Ring      3053       2205     0.722240             0\n",
              "16042      BHMNCPNHS01       500        319     0.638000             0\n",
              "15810      BHMNCPNHS01       500        421     0.842000             1\n",
              "20376     Broad Street       690        149     0.215942             0\n",
              "21124     Broad Street       690        266     0.385507             0\n",
              "22491        Bull Ring      3053        192     0.062889             0"
            ],
            "text/html": [
              "\n",
              "  <div id=\"df-fd691396-bca0-4037-973f-f7da216eac9a\">\n",
              "    <div class=\"colab-df-container\">\n",
              "      <div>\n",
              "<style scoped>\n",
              "    .dataframe tbody tr th:only-of-type {\n",
              "        vertical-align: middle;\n",
              "    }\n",
              "\n",
              "    .dataframe tbody tr th {\n",
              "        vertical-align: top;\n",
              "    }\n",
              "\n",
              "    .dataframe thead th {\n",
              "        text-align: right;\n",
              "    }\n",
              "</style>\n",
              "<table border=\"1\" class=\"dataframe\">\n",
              "  <thead>\n",
              "    <tr style=\"text-align: right;\">\n",
              "      <th></th>\n",
              "      <th>SystemCodeNumber</th>\n",
              "      <th>Capacity</th>\n",
              "      <th>Occupancy</th>\n",
              "      <th>PercentFull</th>\n",
              "      <th>NearCapacity</th>\n",
              "    </tr>\n",
              "  </thead>\n",
              "  <tbody>\n",
              "    <tr>\n",
              "      <th>10732</th>\n",
              "      <td>BHMEURBRD02</td>\n",
              "      <td>220</td>\n",
              "      <td>151</td>\n",
              "      <td>0.686364</td>\n",
              "      <td>0</td>\n",
              "    </tr>\n",
              "    <tr>\n",
              "      <th>26069</th>\n",
              "      <td>OthersCCCPS105a</td>\n",
              "      <td>2009</td>\n",
              "      <td>710</td>\n",
              "      <td>0.353410</td>\n",
              "      <td>0</td>\n",
              "    </tr>\n",
              "    <tr>\n",
              "      <th>1368</th>\n",
              "      <td>BHMBCCPST01</td>\n",
              "      <td>317</td>\n",
              "      <td>124</td>\n",
              "      <td>0.391167</td>\n",
              "      <td>0</td>\n",
              "    </tr>\n",
              "    <tr>\n",
              "      <th>7869</th>\n",
              "      <td>BHMBRCBRG03</td>\n",
              "      <td>849</td>\n",
              "      <td>413</td>\n",
              "      <td>0.486455</td>\n",
              "      <td>0</td>\n",
              "    </tr>\n",
              "    <tr>\n",
              "      <th>24789</th>\n",
              "      <td>NIA South</td>\n",
              "      <td>788</td>\n",
              "      <td>212</td>\n",
              "      <td>0.269036</td>\n",
              "      <td>0</td>\n",
              "    </tr>\n",
              "    <tr>\n",
              "      <th>32095</th>\n",
              "      <td>OthersCCCPS8</td>\n",
              "      <td>1322</td>\n",
              "      <td>628</td>\n",
              "      <td>0.475038</td>\n",
              "      <td>0</td>\n",
              "    </tr>\n",
              "    <tr>\n",
              "      <th>19922</th>\n",
              "      <td>BHMNCPRAN01</td>\n",
              "      <td>600</td>\n",
              "      <td>302</td>\n",
              "      <td>0.503333</td>\n",
              "      <td>0</td>\n",
              "    </tr>\n",
              "    <tr>\n",
              "      <th>35345</th>\n",
              "      <td>Shopping</td>\n",
              "      <td>1920</td>\n",
              "      <td>390</td>\n",
              "      <td>0.203125</td>\n",
              "      <td>0</td>\n",
              "    </tr>\n",
              "    <tr>\n",
              "      <th>33653</th>\n",
              "      <td>OthersCCCPS98</td>\n",
              "      <td>3103</td>\n",
              "      <td>545</td>\n",
              "      <td>0.175636</td>\n",
              "      <td>0</td>\n",
              "    </tr>\n",
              "    <tr>\n",
              "      <th>4760</th>\n",
              "      <td>BHMBCCTHL01</td>\n",
              "      <td>387</td>\n",
              "      <td>392</td>\n",
              "      <td>1.012920</td>\n",
              "      <td>1</td>\n",
              "    </tr>\n",
              "    <tr>\n",
              "      <th>15654</th>\n",
              "      <td>BHMNCPNHS01</td>\n",
              "      <td>500</td>\n",
              "      <td>434</td>\n",
              "      <td>0.868000</td>\n",
              "      <td>1</td>\n",
              "    </tr>\n",
              "    <tr>\n",
              "      <th>9867</th>\n",
              "      <td>BHMEURBRD01</td>\n",
              "      <td>470</td>\n",
              "      <td>205</td>\n",
              "      <td>0.436170</td>\n",
              "      <td>0</td>\n",
              "    </tr>\n",
              "    <tr>\n",
              "      <th>13061</th>\n",
              "      <td>BHMNCPHST01</td>\n",
              "      <td>1200</td>\n",
              "      <td>274</td>\n",
              "      <td>0.228333</td>\n",
              "      <td>0</td>\n",
              "    </tr>\n",
              "    <tr>\n",
              "      <th>17789</th>\n",
              "      <td>BHMNCPPLS01</td>\n",
              "      <td>450</td>\n",
              "      <td>15</td>\n",
              "      <td>0.033333</td>\n",
              "      <td>0</td>\n",
              "    </tr>\n",
              "    <tr>\n",
              "      <th>5595</th>\n",
              "      <td>BHMBRCBRG01</td>\n",
              "      <td>1010</td>\n",
              "      <td>590</td>\n",
              "      <td>0.584158</td>\n",
              "      <td>0</td>\n",
              "    </tr>\n",
              "    <tr>\n",
              "      <th>26665</th>\n",
              "      <td>OthersCCCPS119a</td>\n",
              "      <td>2803</td>\n",
              "      <td>436</td>\n",
              "      <td>0.155548</td>\n",
              "      <td>0</td>\n",
              "    </tr>\n",
              "    <tr>\n",
              "      <th>35580</th>\n",
              "      <td>Shopping</td>\n",
              "      <td>1920</td>\n",
              "      <td>1330</td>\n",
              "      <td>0.692708</td>\n",
              "      <td>0</td>\n",
              "    </tr>\n",
              "    <tr>\n",
              "      <th>20128</th>\n",
              "      <td>BHMNCPRAN01</td>\n",
              "      <td>600</td>\n",
              "      <td>425</td>\n",
              "      <td>0.708333</td>\n",
              "      <td>0</td>\n",
              "    </tr>\n",
              "    <tr>\n",
              "      <th>16559</th>\n",
              "      <td>BHMNCPNST01</td>\n",
              "      <td>485</td>\n",
              "      <td>345</td>\n",
              "      <td>0.711340</td>\n",
              "      <td>0</td>\n",
              "    </tr>\n",
              "    <tr>\n",
              "      <th>18055</th>\n",
              "      <td>BHMNCPPLS01</td>\n",
              "      <td>450</td>\n",
              "      <td>17</td>\n",
              "      <td>0.037778</td>\n",
              "      <td>0</td>\n",
              "    </tr>\n",
              "    <tr>\n",
              "      <th>19612</th>\n",
              "      <td>BHMNCPRAN01</td>\n",
              "      <td>600</td>\n",
              "      <td>58</td>\n",
              "      <td>0.096667</td>\n",
              "      <td>0</td>\n",
              "    </tr>\n",
              "    <tr>\n",
              "      <th>16160</th>\n",
              "      <td>BHMNCPNHS01</td>\n",
              "      <td>500</td>\n",
              "      <td>438</td>\n",
              "      <td>0.876000</td>\n",
              "      <td>1</td>\n",
              "    </tr>\n",
              "    <tr>\n",
              "      <th>3008</th>\n",
              "      <td>BHMBCCSNH01</td>\n",
              "      <td>863</td>\n",
              "      <td>329</td>\n",
              "      <td>0.381228</td>\n",
              "      <td>0</td>\n",
              "    </tr>\n",
              "    <tr>\n",
              "      <th>1858</th>\n",
              "      <td>BHMBCCPST01</td>\n",
              "      <td>317</td>\n",
              "      <td>163</td>\n",
              "      <td>0.514196</td>\n",
              "      <td>0</td>\n",
              "    </tr>\n",
              "    <tr>\n",
              "      <th>22376</th>\n",
              "      <td>Bull Ring</td>\n",
              "      <td>3053</td>\n",
              "      <td>2205</td>\n",
              "      <td>0.722240</td>\n",
              "      <td>0</td>\n",
              "    </tr>\n",
              "    <tr>\n",
              "      <th>16042</th>\n",
              "      <td>BHMNCPNHS01</td>\n",
              "      <td>500</td>\n",
              "      <td>319</td>\n",
              "      <td>0.638000</td>\n",
              "      <td>0</td>\n",
              "    </tr>\n",
              "    <tr>\n",
              "      <th>15810</th>\n",
              "      <td>BHMNCPNHS01</td>\n",
              "      <td>500</td>\n",
              "      <td>421</td>\n",
              "      <td>0.842000</td>\n",
              "      <td>1</td>\n",
              "    </tr>\n",
              "    <tr>\n",
              "      <th>20376</th>\n",
              "      <td>Broad Street</td>\n",
              "      <td>690</td>\n",
              "      <td>149</td>\n",
              "      <td>0.215942</td>\n",
              "      <td>0</td>\n",
              "    </tr>\n",
              "    <tr>\n",
              "      <th>21124</th>\n",
              "      <td>Broad Street</td>\n",
              "      <td>690</td>\n",
              "      <td>266</td>\n",
              "      <td>0.385507</td>\n",
              "      <td>0</td>\n",
              "    </tr>\n",
              "    <tr>\n",
              "      <th>22491</th>\n",
              "      <td>Bull Ring</td>\n",
              "      <td>3053</td>\n",
              "      <td>192</td>\n",
              "      <td>0.062889</td>\n",
              "      <td>0</td>\n",
              "    </tr>\n",
              "  </tbody>\n",
              "</table>\n",
              "</div>\n",
              "      <button class=\"colab-df-convert\" onclick=\"convertToInteractive('df-fd691396-bca0-4037-973f-f7da216eac9a')\"\n",
              "              title=\"Convert this dataframe to an interactive table.\"\n",
              "              style=\"display:none;\">\n",
              "        \n",
              "  <svg xmlns=\"http://www.w3.org/2000/svg\" height=\"24px\"viewBox=\"0 0 24 24\"\n",
              "       width=\"24px\">\n",
              "    <path d=\"M0 0h24v24H0V0z\" fill=\"none\"/>\n",
              "    <path d=\"M18.56 5.44l.94 2.06.94-2.06 2.06-.94-2.06-.94-.94-2.06-.94 2.06-2.06.94zm-11 1L8.5 8.5l.94-2.06 2.06-.94-2.06-.94L8.5 2.5l-.94 2.06-2.06.94zm10 10l.94 2.06.94-2.06 2.06-.94-2.06-.94-.94-2.06-.94 2.06-2.06.94z\"/><path d=\"M17.41 7.96l-1.37-1.37c-.4-.4-.92-.59-1.43-.59-.52 0-1.04.2-1.43.59L10.3 9.45l-7.72 7.72c-.78.78-.78 2.05 0 2.83L4 21.41c.39.39.9.59 1.41.59.51 0 1.02-.2 1.41-.59l7.78-7.78 2.81-2.81c.8-.78.8-2.07 0-2.86zM5.41 20L4 18.59l7.72-7.72 1.47 1.35L5.41 20z\"/>\n",
              "  </svg>\n",
              "      </button>\n",
              "      \n",
              "  <style>\n",
              "    .colab-df-container {\n",
              "      display:flex;\n",
              "      flex-wrap:wrap;\n",
              "      gap: 12px;\n",
              "    }\n",
              "\n",
              "    .colab-df-convert {\n",
              "      background-color: #E8F0FE;\n",
              "      border: none;\n",
              "      border-radius: 50%;\n",
              "      cursor: pointer;\n",
              "      display: none;\n",
              "      fill: #1967D2;\n",
              "      height: 32px;\n",
              "      padding: 0 0 0 0;\n",
              "      width: 32px;\n",
              "    }\n",
              "\n",
              "    .colab-df-convert:hover {\n",
              "      background-color: #E2EBFA;\n",
              "      box-shadow: 0px 1px 2px rgba(60, 64, 67, 0.3), 0px 1px 3px 1px rgba(60, 64, 67, 0.15);\n",
              "      fill: #174EA6;\n",
              "    }\n",
              "\n",
              "    [theme=dark] .colab-df-convert {\n",
              "      background-color: #3B4455;\n",
              "      fill: #D2E3FC;\n",
              "    }\n",
              "\n",
              "    [theme=dark] .colab-df-convert:hover {\n",
              "      background-color: #434B5C;\n",
              "      box-shadow: 0px 1px 3px 1px rgba(0, 0, 0, 0.15);\n",
              "      filter: drop-shadow(0px 1px 2px rgba(0, 0, 0, 0.3));\n",
              "      fill: #FFFFFF;\n",
              "    }\n",
              "  </style>\n",
              "\n",
              "      <script>\n",
              "        const buttonEl =\n",
              "          document.querySelector('#df-fd691396-bca0-4037-973f-f7da216eac9a button.colab-df-convert');\n",
              "        buttonEl.style.display =\n",
              "          google.colab.kernel.accessAllowed ? 'block' : 'none';\n",
              "\n",
              "        async function convertToInteractive(key) {\n",
              "          const element = document.querySelector('#df-fd691396-bca0-4037-973f-f7da216eac9a');\n",
              "          const dataTable =\n",
              "            await google.colab.kernel.invokeFunction('convertToInteractive',\n",
              "                                                     [key], {});\n",
              "          if (!dataTable) return;\n",
              "\n",
              "          const docLinkHtml = 'Like what you see? Visit the ' +\n",
              "            '<a target=\"_blank\" href=https://colab.research.google.com/notebooks/data_table.ipynb>data table notebook</a>'\n",
              "            + ' to learn more about interactive tables.';\n",
              "          element.innerHTML = '';\n",
              "          dataTable['output_type'] = 'display_data';\n",
              "          await google.colab.output.renderOutput(dataTable, element);\n",
              "          const docLink = document.createElement('div');\n",
              "          docLink.innerHTML = docLinkHtml;\n",
              "          element.appendChild(docLink);\n",
              "        }\n",
              "      </script>\n",
              "    </div>\n",
              "  </div>\n",
              "  "
            ]
          },
          "metadata": {},
          "execution_count": 21
        }
      ]
    },
    {
      "cell_type": "markdown",
      "source": [
        "Pairplots."
      ],
      "metadata": {
        "id": "dbX1K1n-YS54"
      }
    },
    {
      "cell_type": "code",
      "source": [
        "sns.set(style=\"ticks\", color_codes=True)\n",
        "sns.pairplot(df)\n",
        "plt.show()"
      ],
      "metadata": {
        "colab": {
          "base_uri": "https://localhost:8080/",
          "height": 724
        },
        "id": "LMvtVZX4YVUG",
        "outputId": "c1522de7-152d-4cbf-b733-895a59ab7358"
      },
      "execution_count": null,
      "outputs": [
        {
          "output_type": "display_data",
          "data": {
            "text/plain": [
              "<Figure size 720x720 with 20 Axes>"
            ],
            "image/png": "[encoded data removed]"
          },
          "metadata": {}
        }
      ]
    },
    {
      "cell_type": "markdown",
      "source": [
        "### Step 4: Creating DataFrames and Splitting the Data"
      ],
      "metadata": {
        "id": "FhtpEB4SEzSx"
      }
    },
    {
      "cell_type": "markdown",
      "source": [
        "Creating X DataFrame."
      ],
      "metadata": {
        "id": "b2DfZbXVoyGY"
      }
    },
    {
      "cell_type": "code",
      "source": [
        "X = df.iloc[:,1:-1]"
      ],
      "metadata": {
        "id": "Ybl2-5cko5t_"
      },
      "execution_count": 22,
      "outputs": []
    },
    {
      "cell_type": "markdown",
      "source": [
        "Creating y DataFrame. "
      ],
      "metadata": {
        "id": "9cOjP2VLo7Xf"
      }
    },
    {
      "cell_type": "code",
      "source": [
        "y = df[['NearCapacity']]"
      ],
      "metadata": {
        "id": "I5SAeU8op3O2"
      },
      "execution_count": 23,
      "outputs": []
    },
    {
      "cell_type": "markdown",
      "source": [
        "Splitting."
      ],
      "metadata": {
        "id": "4ByyeJw8oe77"
      }
    },
    {
      "cell_type": "code",
      "source": [
        "X_train, X_test, y_train, y_test = train_test_split(X, y, test_size=.20, random_state=42)"
      ],
      "metadata": {
        "id": "37XeDXpXnO-z"
      },
      "execution_count": 24,
      "outputs": []
    },
    {
      "cell_type": "markdown",
      "source": [
        "### Step 5A: Building a Logistic Regression Pipeline"
      ],
      "metadata": {
        "id": "jPvXk_mdEJdg"
      }
    },
    {
      "cell_type": "markdown",
      "source": [
        "Creating column transformer that will MinMax scale numerical variables."
      ],
      "metadata": {
        "id": "AyGqkiYHqrlI"
      }
    },
    {
      "cell_type": "code",
      "source": [
        "num_attribs = ['Capacity', 'Occupancy', 'PercentFull']"
      ],
      "metadata": {
        "id": "psGTpZKJqw30"
      },
      "execution_count": 25,
      "outputs": []
    },
    {
      "cell_type": "code",
      "source": [
        "col_transform = ColumnTransformer(transformers=[\n",
        "                               ('num',MinMaxScaler(),num_attribs)], \n",
        "                               remainder='passthrough')"
      ],
      "metadata": {
        "id": "YvjD8LyHrWIQ"
      },
      "execution_count": 26,
      "outputs": []
    },
    {
      "cell_type": "markdown",
      "source": [
        "Creating pipeline that will transform the data and run the Logistic Regression algorithm.\n"
      ],
      "metadata": {
        "id": "IwjbBwvhtiu6"
      }
    },
    {
      "cell_type": "code",
      "source": [
        "LRpipeline = Pipeline([\n",
        "                     ('transform', col_transform),\n",
        "                     ('mlr', LogisticRegression(max_iter=1000)),\n",
        "])"
      ],
      "metadata": {
        "id": "HoNlnW0utiIG"
      },
      "execution_count": 27,
      "outputs": []
    },
    {
      "cell_type": "markdown",
      "source": [
        "### Step 6A: Executing the Logistic Regression Model"
      ],
      "metadata": {
        "id": "BVPNHS8Wublh"
      }
    },
    {
      "cell_type": "code",
      "source": [
        "LRpipeline"
      ],
      "metadata": {
        "colab": {
          "base_uri": "https://localhost:8080/",
          "height": 193
        },
        "id": "QBW3N_dZtwWq",
        "outputId": "fb8d3b4c-af83-4cae-c799-a92557b72268"
      },
      "execution_count": 28,
      "outputs": [
        {
          "output_type": "execute_result",
          "data": {
            "text/plain": [
              "Pipeline(steps=[('transform',\n",
              "                 ColumnTransformer(remainder='passthrough',\n",
              "                                   transformers=[('num', MinMaxScaler(),\n",
              "                                                  ['Capacity', 'Occupancy',\n",
              "                                                   'PercentFull'])])),\n",
              "                ('mlr', LogisticRegression(max_iter=1000))])"
            ],
            "text/html": [
              "<style>#sk-5bd28c92-ebe2-4d2c-87d4-f0dacb882b39 {color: black;background-color: white;}#sk-5bd28c92-ebe2-4d2c-87d4-f0dacb882b39 pre{padding: 0;}#sk-5bd28c92-ebe2-4d2c-87d4-f0dacb882b39 div.sk-toggleable {background-color: white;}#sk-5bd28c92-ebe2-4d2c-87d4-f0dacb882b39 label.sk-toggleable__label {cursor: pointer;display: block;width: 100%;margin-bottom: 0;padding: 0.3em;box-sizing: border-box;text-align: center;}#sk-5bd28c92-ebe2-4d2c-87d4-f0dacb882b39 label.sk-toggleable__label-arrow:before {content: \"▸\";float: left;margin-right: 0.25em;color: #696969;}#sk-5bd28c92-ebe2-4d2c-87d4-f0dacb882b39 label.sk-toggleable__label-arrow:hover:before {color: black;}#sk-5bd28c92-ebe2-4d2c-87d4-f0dacb882b39 div.sk-estimator:hover label.sk-toggleable__label-arrow:before {color: black;}#sk-5bd28c92-ebe2-4d2c-87d4-f0dacb882b39 div.sk-toggleable__content {max-height: 0;max-width: 0;overflow: hidden;text-align: left;background-color: #f0f8ff;}#sk-5bd28c92-ebe2-4d2c-87d4-f0dacb882b39 div.sk-toggleable__content pre {margin: 0.2em;color: black;border-radius: 0.25em;background-color: #f0f8ff;}#sk-5bd28c92-ebe2-4d2c-87d4-f0dacb882b39 input.sk-toggleable__control:checked~div.sk-toggleable__content {max-height: 200px;max-width: 100%;overflow: auto;}#sk-5bd28c92-ebe2-4d2c-87d4-f0dacb882b39 input.sk-toggleable__control:checked~label.sk-toggleable__label-arrow:before {content: \"▾\";}#sk-5bd28c92-ebe2-4d2c-87d4-f0dacb882b39 div.sk-estimator input.sk-toggleable__control:checked~label.sk-toggleable__label {background-color: #d4ebff;}#sk-5bd28c92-ebe2-4d2c-87d4-f0dacb882b39 div.sk-label input.sk-toggleable__control:checked~label.sk-toggleable__label {background-color: #d4ebff;}#sk-5bd28c92-ebe2-4d2c-87d4-f0dacb882b39 input.sk-hidden--visually {border: 0;clip: rect(1px 1px 1px 1px);clip: rect(1px, 1px, 1px, 1px);height: 1px;margin: -1px;overflow: hidden;padding: 0;position: absolute;width: 1px;}#sk-5bd28c92-ebe2-4d2c-87d4-f0dacb882b39 div.sk-estimator {font-family: monospace;background-color: #f0f8ff;border: 1px dotted black;border-radius: 0.25em;box-sizing: border-box;margin-bottom: 0.5em;}#sk-5bd28c92-ebe2-4d2c-87d4-f0dacb882b39 div.sk-estimator:hover {background-color: #d4ebff;}#sk-5bd28c92-ebe2-4d2c-87d4-f0dacb882b39 div.sk-parallel-item::after {content: \"\";width: 100%;border-bottom: 1px solid gray;flex-grow: 1;}#sk-5bd28c92-ebe2-4d2c-87d4-f0dacb882b39 div.sk-label:hover label.sk-toggleable__label {background-color: #d4ebff;}#sk-5bd28c92-ebe2-4d2c-87d4-f0dacb882b39 div.sk-serial::before {content: \"\";position: absolute;border-left: 1px solid gray;box-sizing: border-box;top: 2em;bottom: 0;left: 50%;}#sk-5bd28c92-ebe2-4d2c-87d4-f0dacb882b39 div.sk-serial {display: flex;flex-direction: column;align-items: center;background-color: white;padding-right: 0.2em;padding-left: 0.2em;}#sk-5bd28c92-ebe2-4d2c-87d4-f0dacb882b39 div.sk-item {z-index: 1;}#sk-5bd28c92-ebe2-4d2c-87d4-f0dacb882b39 div.sk-parallel {display: flex;align-items: stretch;justify-content: center;background-color: white;}#sk-5bd28c92-ebe2-4d2c-87d4-f0dacb882b39 div.sk-parallel::before {content: \"\";position: absolute;border-left: 1px solid gray;box-sizing: border-box;top: 2em;bottom: 0;left: 50%;}#sk-5bd28c92-ebe2-4d2c-87d4-f0dacb882b39 div.sk-parallel-item {display: flex;flex-direction: column;position: relative;background-color: white;}#sk-5bd28c92-ebe2-4d2c-87d4-f0dacb882b39 div.sk-parallel-item:first-child::after {align-self: flex-end;width: 50%;}#sk-5bd28c92-ebe2-4d2c-87d4-f0dacb882b39 div.sk-parallel-item:last-child::after {align-self: flex-start;width: 50%;}#sk-5bd28c92-ebe2-4d2c-87d4-f0dacb882b39 div.sk-parallel-item:only-child::after {width: 0;}#sk-5bd28c92-ebe2-4d2c-87d4-f0dacb882b39 div.sk-dashed-wrapped {border: 1px dashed gray;margin: 0 0.4em 0.5em 0.4em;box-sizing: border-box;padding-bottom: 0.4em;background-color: white;position: relative;}#sk-5bd28c92-ebe2-4d2c-87d4-f0dacb882b39 div.sk-label label {font-family: monospace;font-weight: bold;background-color: white;display: inline-block;line-height: 1.2em;}#sk-5bd28c92-ebe2-4d2c-87d4-f0dacb882b39 div.sk-label-container {position: relative;z-index: 2;text-align: center;}#sk-5bd28c92-ebe2-4d2c-87d4-f0dacb882b39 div.sk-container {/* jupyter's `normalize.less` sets `[hidden] { display: none; }` but bootstrap.min.css set `[hidden] { display: none !important; }` so we also need the `!important` here to be able to override the default hidden behavior on the sphinx rendered scikit-learn.org. See: https://github.com/scikit-learn/scikit-learn/issues/21755 */display: inline-block !important;position: relative;}#sk-5bd28c92-ebe2-4d2c-87d4-f0dacb882b39 div.sk-text-repr-fallback {display: none;}</style><div id=\"sk-5bd28c92-ebe2-4d2c-87d4-f0dacb882b39\" class=\"sk-top-container\"><div class=\"sk-text-repr-fallback\"><pre>Pipeline(steps=[(&#x27;transform&#x27;,\n",
              "                 ColumnTransformer(remainder=&#x27;passthrough&#x27;,\n",
              "                                   transformers=[(&#x27;num&#x27;, MinMaxScaler(),\n",
              "                                                  [&#x27;Capacity&#x27;, &#x27;Occupancy&#x27;,\n",
              "                                                   &#x27;PercentFull&#x27;])])),\n",
              "                (&#x27;mlr&#x27;, LogisticRegression(max_iter=1000))])</pre><b>Please rerun this cell to show the HTML repr or trust the notebook.</b></div><div class=\"sk-container\" hidden><div class=\"sk-item sk-dashed-wrapped\"><div class=\"sk-label-container\"><div class=\"sk-label sk-toggleable\"><input class=\"sk-toggleable__control sk-hidden--visually\" id=\"49b04613-efff-45d8-b01e-14d0a06112bb\" type=\"checkbox\" ><label for=\"49b04613-efff-45d8-b01e-14d0a06112bb\" class=\"sk-toggleable__label sk-toggleable__label-arrow\">Pipeline</label><div class=\"sk-toggleable__content\"><pre>Pipeline(steps=[(&#x27;transform&#x27;,\n",
              "                 ColumnTransformer(remainder=&#x27;passthrough&#x27;,\n",
              "                                   transformers=[(&#x27;num&#x27;, MinMaxScaler(),\n",
              "                                                  [&#x27;Capacity&#x27;, &#x27;Occupancy&#x27;,\n",
              "                                                   &#x27;PercentFull&#x27;])])),\n",
              "                (&#x27;mlr&#x27;, LogisticRegression(max_iter=1000))])</pre></div></div></div><div class=\"sk-serial\"><div class=\"sk-item sk-dashed-wrapped\"><div class=\"sk-label-container\"><div class=\"sk-label sk-toggleable\"><input class=\"sk-toggleable__control sk-hidden--visually\" id=\"53f17817-eac0-44ef-a427-6ef951068f76\" type=\"checkbox\" ><label for=\"53f17817-eac0-44ef-a427-6ef951068f76\" class=\"sk-toggleable__label sk-toggleable__label-arrow\">transform: ColumnTransformer</label><div class=\"sk-toggleable__content\"><pre>ColumnTransformer(remainder=&#x27;passthrough&#x27;,\n",
              "                  transformers=[(&#x27;num&#x27;, MinMaxScaler(),\n",
              "                                 [&#x27;Capacity&#x27;, &#x27;Occupancy&#x27;, &#x27;PercentFull&#x27;])])</pre></div></div></div><div class=\"sk-parallel\"><div class=\"sk-parallel-item\"><div class=\"sk-item\"><div class=\"sk-label-container\"><div class=\"sk-label sk-toggleable\"><input class=\"sk-toggleable__control sk-hidden--visually\" id=\"6bb84c9b-e36b-461c-b2e2-34001ddfbad0\" type=\"checkbox\" ><label for=\"6bb84c9b-e36b-461c-b2e2-34001ddfbad0\" class=\"sk-toggleable__label sk-toggleable__label-arrow\">num</label><div class=\"sk-toggleable__content\"><pre>[&#x27;Capacity&#x27;, &#x27;Occupancy&#x27;, &#x27;PercentFull&#x27;]</pre></div></div></div><div class=\"sk-serial\"><div class=\"sk-item\"><div class=\"sk-estimator sk-toggleable\"><input class=\"sk-toggleable__control sk-hidden--visually\" id=\"bf56be7e-f495-426b-b1df-4417a15561b3\" type=\"checkbox\" ><label for=\"bf56be7e-f495-426b-b1df-4417a15561b3\" class=\"sk-toggleable__label sk-toggleable__label-arrow\">MinMaxScaler</label><div class=\"sk-toggleable__content\"><pre>MinMaxScaler()</pre></div></div></div></div></div></div><div class=\"sk-parallel-item\"><div class=\"sk-item\"><div class=\"sk-label-container\"><div class=\"sk-label sk-toggleable\"><input class=\"sk-toggleable__control sk-hidden--visually\" id=\"e438ba38-66b1-409b-9bf0-8ae16a21c5e6\" type=\"checkbox\" ><label for=\"e438ba38-66b1-409b-9bf0-8ae16a21c5e6\" class=\"sk-toggleable__label sk-toggleable__label-arrow\">remainder</label><div class=\"sk-toggleable__content\"><pre></pre></div></div></div><div class=\"sk-serial\"><div class=\"sk-item\"><div class=\"sk-estimator sk-toggleable\"><input class=\"sk-toggleable__control sk-hidden--visually\" id=\"0df95edb-707f-4a8b-869c-903c78a96fb1\" type=\"checkbox\" ><label for=\"0df95edb-707f-4a8b-869c-903c78a96fb1\" class=\"sk-toggleable__label sk-toggleable__label-arrow\">passthrough</label><div class=\"sk-toggleable__content\"><pre>passthrough</pre></div></div></div></div></div></div></div></div><div class=\"sk-item\"><div class=\"sk-estimator sk-toggleable\"><input class=\"sk-toggleable__control sk-hidden--visually\" id=\"a60cdec6-85d0-495d-9cd0-b1edd6bf3789\" type=\"checkbox\" ><label for=\"a60cdec6-85d0-495d-9cd0-b1edd6bf3789\" class=\"sk-toggleable__label sk-toggleable__label-arrow\">LogisticRegression</label><div class=\"sk-toggleable__content\"><pre>LogisticRegression(max_iter=1000)</pre></div></div></div></div></div></div></div>"
            ]
          },
          "metadata": {},
          "execution_count": 28
        }
      ]
    },
    {
      "cell_type": "markdown",
      "source": [
        "Running the pipeline to fit the model.\n",
        "\n",
        "---\n",
        "\n"
      ],
      "metadata": {
        "id": "fWAsUDD3ugL5"
      }
    },
    {
      "cell_type": "code",
      "source": [
        "LRpipeline.fit(X_train, y_train)"
      ],
      "metadata": {
        "colab": {
          "base_uri": "https://localhost:8080/",
          "height": 248
        },
        "id": "Ejcva2iXuo9Y",
        "outputId": "550902db-7974-44d1-d755-dd805f61d416"
      },
      "execution_count": 29,
      "outputs": [
        {
          "output_type": "stream",
          "name": "stderr",
          "text": [
            "/usr/local/lib/python3.7/dist-packages/sklearn/utils/validation.py:993: DataConversionWarning: A column-vector y was passed when a 1d array was expected. Please change the shape of y to (n_samples, ), for example using ravel().\n",
            "  y = column_or_1d(y, warn=True)\n"
          ]
        },
        {
          "output_type": "execute_result",
          "data": {
            "text/plain": [
              "Pipeline(steps=[('transform',\n",
              "                 ColumnTransformer(remainder='passthrough',\n",
              "                                   transformers=[('num', MinMaxScaler(),\n",
              "                                                  ['Capacity', 'Occupancy',\n",
              "                                                   'PercentFull'])])),\n",
              "                ('mlr', LogisticRegression(max_iter=1000))])"
            ],
            "text/html": [
              "<style>#sk-e7453297-68a9-4353-8933-6ba7015dafee {color: black;background-color: white;}#sk-e7453297-68a9-4353-8933-6ba7015dafee pre{padding: 0;}#sk-e7453297-68a9-4353-8933-6ba7015dafee div.sk-toggleable {background-color: white;}#sk-e7453297-68a9-4353-8933-6ba7015dafee label.sk-toggleable__label {cursor: pointer;display: block;width: 100%;margin-bottom: 0;padding: 0.3em;box-sizing: border-box;text-align: center;}#sk-e7453297-68a9-4353-8933-6ba7015dafee label.sk-toggleable__label-arrow:before {content: \"▸\";float: left;margin-right: 0.25em;color: #696969;}#sk-e7453297-68a9-4353-8933-6ba7015dafee label.sk-toggleable__label-arrow:hover:before {color: black;}#sk-e7453297-68a9-4353-8933-6ba7015dafee div.sk-estimator:hover label.sk-toggleable__label-arrow:before {color: black;}#sk-e7453297-68a9-4353-8933-6ba7015dafee div.sk-toggleable__content {max-height: 0;max-width: 0;overflow: hidden;text-align: left;background-color: #f0f8ff;}#sk-e7453297-68a9-4353-8933-6ba7015dafee div.sk-toggleable__content pre {margin: 0.2em;color: black;border-radius: 0.25em;background-color: #f0f8ff;}#sk-e7453297-68a9-4353-8933-6ba7015dafee input.sk-toggleable__control:checked~div.sk-toggleable__content {max-height: 200px;max-width: 100%;overflow: auto;}#sk-e7453297-68a9-4353-8933-6ba7015dafee input.sk-toggleable__control:checked~label.sk-toggleable__label-arrow:before {content: \"▾\";}#sk-e7453297-68a9-4353-8933-6ba7015dafee div.sk-estimator input.sk-toggleable__control:checked~label.sk-toggleable__label {background-color: #d4ebff;}#sk-e7453297-68a9-4353-8933-6ba7015dafee div.sk-label input.sk-toggleable__control:checked~label.sk-toggleable__label {background-color: #d4ebff;}#sk-e7453297-68a9-4353-8933-6ba7015dafee input.sk-hidden--visually {border: 0;clip: rect(1px 1px 1px 1px);clip: rect(1px, 1px, 1px, 1px);height: 1px;margin: -1px;overflow: hidden;padding: 0;position: absolute;width: 1px;}#sk-e7453297-68a9-4353-8933-6ba7015dafee div.sk-estimator {font-family: monospace;background-color: #f0f8ff;border: 1px dotted black;border-radius: 0.25em;box-sizing: border-box;margin-bottom: 0.5em;}#sk-e7453297-68a9-4353-8933-6ba7015dafee div.sk-estimator:hover {background-color: #d4ebff;}#sk-e7453297-68a9-4353-8933-6ba7015dafee div.sk-parallel-item::after {content: \"\";width: 100%;border-bottom: 1px solid gray;flex-grow: 1;}#sk-e7453297-68a9-4353-8933-6ba7015dafee div.sk-label:hover label.sk-toggleable__label {background-color: #d4ebff;}#sk-e7453297-68a9-4353-8933-6ba7015dafee div.sk-serial::before {content: \"\";position: absolute;border-left: 1px solid gray;box-sizing: border-box;top: 2em;bottom: 0;left: 50%;}#sk-e7453297-68a9-4353-8933-6ba7015dafee div.sk-serial {display: flex;flex-direction: column;align-items: center;background-color: white;padding-right: 0.2em;padding-left: 0.2em;}#sk-e7453297-68a9-4353-8933-6ba7015dafee div.sk-item {z-index: 1;}#sk-e7453297-68a9-4353-8933-6ba7015dafee div.sk-parallel {display: flex;align-items: stretch;justify-content: center;background-color: white;}#sk-e7453297-68a9-4353-8933-6ba7015dafee div.sk-parallel::before {content: \"\";position: absolute;border-left: 1px solid gray;box-sizing: border-box;top: 2em;bottom: 0;left: 50%;}#sk-e7453297-68a9-4353-8933-6ba7015dafee div.sk-parallel-item {display: flex;flex-direction: column;position: relative;background-color: white;}#sk-e7453297-68a9-4353-8933-6ba7015dafee div.sk-parallel-item:first-child::after {align-self: flex-end;width: 50%;}#sk-e7453297-68a9-4353-8933-6ba7015dafee div.sk-parallel-item:last-child::after {align-self: flex-start;width: 50%;}#sk-e7453297-68a9-4353-8933-6ba7015dafee div.sk-parallel-item:only-child::after {width: 0;}#sk-e7453297-68a9-4353-8933-6ba7015dafee div.sk-dashed-wrapped {border: 1px dashed gray;margin: 0 0.4em 0.5em 0.4em;box-sizing: border-box;padding-bottom: 0.4em;background-color: white;position: relative;}#sk-e7453297-68a9-4353-8933-6ba7015dafee div.sk-label label {font-family: monospace;font-weight: bold;background-color: white;display: inline-block;line-height: 1.2em;}#sk-e7453297-68a9-4353-8933-6ba7015dafee div.sk-label-container {position: relative;z-index: 2;text-align: center;}#sk-e7453297-68a9-4353-8933-6ba7015dafee div.sk-container {/* jupyter's `normalize.less` sets `[hidden] { display: none; }` but bootstrap.min.css set `[hidden] { display: none !important; }` so we also need the `!important` here to be able to override the default hidden behavior on the sphinx rendered scikit-learn.org. See: https://github.com/scikit-learn/scikit-learn/issues/21755 */display: inline-block !important;position: relative;}#sk-e7453297-68a9-4353-8933-6ba7015dafee div.sk-text-repr-fallback {display: none;}</style><div id=\"sk-e7453297-68a9-4353-8933-6ba7015dafee\" class=\"sk-top-container\"><div class=\"sk-text-repr-fallback\"><pre>Pipeline(steps=[(&#x27;transform&#x27;,\n",
              "                 ColumnTransformer(remainder=&#x27;passthrough&#x27;,\n",
              "                                   transformers=[(&#x27;num&#x27;, MinMaxScaler(),\n",
              "                                                  [&#x27;Capacity&#x27;, &#x27;Occupancy&#x27;,\n",
              "                                                   &#x27;PercentFull&#x27;])])),\n",
              "                (&#x27;mlr&#x27;, LogisticRegression(max_iter=1000))])</pre><b>Please rerun this cell to show the HTML repr or trust the notebook.</b></div><div class=\"sk-container\" hidden><div class=\"sk-item sk-dashed-wrapped\"><div class=\"sk-label-container\"><div class=\"sk-label sk-toggleable\"><input class=\"sk-toggleable__control sk-hidden--visually\" id=\"ce4c526a-0cdf-4e4d-98e3-8e1c2e18dde0\" type=\"checkbox\" ><label for=\"ce4c526a-0cdf-4e4d-98e3-8e1c2e18dde0\" class=\"sk-toggleable__label sk-toggleable__label-arrow\">Pipeline</label><div class=\"sk-toggleable__content\"><pre>Pipeline(steps=[(&#x27;transform&#x27;,\n",
              "                 ColumnTransformer(remainder=&#x27;passthrough&#x27;,\n",
              "                                   transformers=[(&#x27;num&#x27;, MinMaxScaler(),\n",
              "                                                  [&#x27;Capacity&#x27;, &#x27;Occupancy&#x27;,\n",
              "                                                   &#x27;PercentFull&#x27;])])),\n",
              "                (&#x27;mlr&#x27;, LogisticRegression(max_iter=1000))])</pre></div></div></div><div class=\"sk-serial\"><div class=\"sk-item sk-dashed-wrapped\"><div class=\"sk-label-container\"><div class=\"sk-label sk-toggleable\"><input class=\"sk-toggleable__control sk-hidden--visually\" id=\"c12c3bd6-8251-4c15-81ed-c7c7128c69ef\" type=\"checkbox\" ><label for=\"c12c3bd6-8251-4c15-81ed-c7c7128c69ef\" class=\"sk-toggleable__label sk-toggleable__label-arrow\">transform: ColumnTransformer</label><div class=\"sk-toggleable__content\"><pre>ColumnTransformer(remainder=&#x27;passthrough&#x27;,\n",
              "                  transformers=[(&#x27;num&#x27;, MinMaxScaler(),\n",
              "                                 [&#x27;Capacity&#x27;, &#x27;Occupancy&#x27;, &#x27;PercentFull&#x27;])])</pre></div></div></div><div class=\"sk-parallel\"><div class=\"sk-parallel-item\"><div class=\"sk-item\"><div class=\"sk-label-container\"><div class=\"sk-label sk-toggleable\"><input class=\"sk-toggleable__control sk-hidden--visually\" id=\"7d5a5698-97d6-48cd-9060-d384eb50dce7\" type=\"checkbox\" ><label for=\"7d5a5698-97d6-48cd-9060-d384eb50dce7\" class=\"sk-toggleable__label sk-toggleable__label-arrow\">num</label><div class=\"sk-toggleable__content\"><pre>[&#x27;Capacity&#x27;, &#x27;Occupancy&#x27;, &#x27;PercentFull&#x27;]</pre></div></div></div><div class=\"sk-serial\"><div class=\"sk-item\"><div class=\"sk-estimator sk-toggleable\"><input class=\"sk-toggleable__control sk-hidden--visually\" id=\"f91200d2-d8e6-409b-a8ba-8315be757a8d\" type=\"checkbox\" ><label for=\"f91200d2-d8e6-409b-a8ba-8315be757a8d\" class=\"sk-toggleable__label sk-toggleable__label-arrow\">MinMaxScaler</label><div class=\"sk-toggleable__content\"><pre>MinMaxScaler()</pre></div></div></div></div></div></div><div class=\"sk-parallel-item\"><div class=\"sk-item\"><div class=\"sk-label-container\"><div class=\"sk-label sk-toggleable\"><input class=\"sk-toggleable__control sk-hidden--visually\" id=\"1d0850ff-ae57-4f66-b655-c2adf8db940b\" type=\"checkbox\" ><label for=\"1d0850ff-ae57-4f66-b655-c2adf8db940b\" class=\"sk-toggleable__label sk-toggleable__label-arrow\">remainder</label><div class=\"sk-toggleable__content\"><pre>[]</pre></div></div></div><div class=\"sk-serial\"><div class=\"sk-item\"><div class=\"sk-estimator sk-toggleable\"><input class=\"sk-toggleable__control sk-hidden--visually\" id=\"84ab122d-74b5-461c-8815-052ffaa22661\" type=\"checkbox\" ><label for=\"84ab122d-74b5-461c-8815-052ffaa22661\" class=\"sk-toggleable__label sk-toggleable__label-arrow\">passthrough</label><div class=\"sk-toggleable__content\"><pre>passthrough</pre></div></div></div></div></div></div></div></div><div class=\"sk-item\"><div class=\"sk-estimator sk-toggleable\"><input class=\"sk-toggleable__control sk-hidden--visually\" id=\"6f25ff61-e1da-4acb-ba7f-38b91e41ba63\" type=\"checkbox\" ><label for=\"6f25ff61-e1da-4acb-ba7f-38b91e41ba63\" class=\"sk-toggleable__label sk-toggleable__label-arrow\">LogisticRegression</label><div class=\"sk-toggleable__content\"><pre>LogisticRegression(max_iter=1000)</pre></div></div></div></div></div></div></div>"
            ]
          },
          "metadata": {},
          "execution_count": 29
        }
      ]
    },
    {
      "cell_type": "markdown",
      "source": [
        "### Step 7A: Evaluating the Logistic Regression Model"
      ],
      "metadata": {
        "id": "iBFx9cbQJCKr"
      }
    },
    {
      "cell_type": "markdown",
      "source": [
        "Running pipeline to predict y values from the test data set and saving them in a variable called y_pred."
      ],
      "metadata": {
        "id": "HU4bWgquvFWO"
      }
    },
    {
      "cell_type": "code",
      "source": [
        "y_pred = LRpipeline.predict(X_test)"
      ],
      "metadata": {
        "id": "7904ow5TwzU8"
      },
      "execution_count": 30,
      "outputs": []
    },
    {
      "cell_type": "code",
      "source": [
        "print(classification_report(y_test,y_pred))"
      ],
      "metadata": {
        "colab": {
          "base_uri": "https://localhost:8080/"
        },
        "id": "Wpjuevbb5QgU",
        "outputId": "e7b6ac6c-6d09-487b-a3b2-be915ef64992"
      },
      "execution_count": 32,
      "outputs": [
        {
          "output_type": "stream",
          "name": "stdout",
          "text": [
            "              precision    recall  f1-score   support\n",
            "\n",
            "           0       1.00      1.00      1.00      5936\n",
            "           1       1.00      0.98      0.99      1208\n",
            "\n",
            "    accuracy                           1.00      7144\n",
            "   macro avg       1.00      0.99      0.99      7144\n",
            "weighted avg       1.00      1.00      1.00      7144\n",
            "\n"
          ]
        }
      ]
    },
    {
      "cell_type": "code",
      "source": [
        "plot_cm(y_test,y_pred)"
      ],
      "metadata": {
        "colab": {
          "base_uri": "https://localhost:8080/",
          "height": 606
        },
        "id": "Mq6xNie343Ry",
        "outputId": "fd4c2e1f-9d5a-49ea-96ad-39faf5d9dd2a"
      },
      "execution_count": 34,
      "outputs": [
        {
          "output_type": "display_data",
          "data": {
            "text/plain": [
              "<Figure size 720x720 with 2 Axes>"
            ],
            "image/png": "[encoded data removed]"
          },
          "metadata": {
            "needs_background": "light"
          }
        }
      ]
    },
    {
      "cell_type": "code",
      "source": [
        "cm = confusion_matrix(y_test, y_pred)\n",
        "disp = ConfusionMatrixDisplay(confusion_matrix=cm)\n",
        "fig, ax = plt.subplots(figsize=(10,10))\n",
        "disp.plot(ax=ax, cmap='YlOrRd')"
      ],
      "metadata": {
        "colab": {
          "base_uri": "https://localhost:8080/",
          "height": 597
        },
        "id": "LDqjrq0ZBRHX",
        "outputId": "1ad85e7f-d98c-450c-c3e2-6bee1ff93a7c"
      },
      "execution_count": 35,
      "outputs": [
        {
          "output_type": "execute_result",
          "data": {
            "text/plain": [
              "<sklearn.metrics._plot.confusion_matrix.ConfusionMatrixDisplay at 0x7ff4405dcb90>"
            ]
          },
          "metadata": {},
          "execution_count": 35
        },
        {
          "output_type": "display_data",
          "data": {
            "text/plain": [
              "<Figure size 720x720 with 2 Axes>"
            ],
            "image/png": "[encoded data removed]"
          },
          "metadata": {
            "needs_background": "light"
          }
        }
      ]
    },
    {
      "cell_type": "markdown",
      "source": [
        "### Step 5B: Building a Decision Tree Pipeline"
      ],
      "metadata": {
        "id": "rnWaP_2K1M2s"
      }
    },
    {
      "cell_type": "code",
      "source": [
        "num_attribs = ['Capacity', 'Occupancy', 'PercentFull']\n",
        "\n",
        "col_transform = ColumnTransformer(transformers=[\n",
        "                               ('num',MinMaxScaler(),num_attribs)])\n",
        "\n",
        "DTpipeline = Pipeline([\n",
        "                     ('transform', col_transform),\n",
        "                     ('decision_tree', tree.DecisionTreeClassifier(max_depth=5))\n",
        "                     ])"
      ],
      "metadata": {
        "id": "tukGOYv81z0c"
      },
      "execution_count": 36,
      "outputs": []
    },
    {
      "cell_type": "markdown",
      "source": [
        "###Step 6B: Executing the Decision Tree Model"
      ],
      "metadata": {
        "id": "gF85rwoL1_0D"
      }
    },
    {
      "cell_type": "code",
      "source": [
        "df.info()"
      ],
      "metadata": {
        "colab": {
          "base_uri": "https://localhost:8080/"
        },
        "id": "nT_0bN6uSlDv",
        "outputId": "03e8ddfd-8ceb-4c1a-d663-2326a895ba9c"
      },
      "execution_count": 37,
      "outputs": [
        {
          "output_type": "stream",
          "name": "stdout",
          "text": [
            "<class 'pandas.core.frame.DataFrame'>\n",
            "RangeIndex: 35717 entries, 0 to 35716\n",
            "Data columns (total 5 columns):\n",
            " #   Column            Non-Null Count  Dtype  \n",
            "---  ------            --------------  -----  \n",
            " 0   SystemCodeNumber  35717 non-null  object \n",
            " 1   Capacity          35717 non-null  int64  \n",
            " 2   Occupancy         35717 non-null  int64  \n",
            " 3   PercentFull       35717 non-null  float64\n",
            " 4   NearCapacity      35717 non-null  int64  \n",
            "dtypes: float64(1), int64(3), object(1)\n",
            "memory usage: 1.4+ MB\n"
          ]
        }
      ]
    },
    {
      "cell_type": "code",
      "source": [
        "df.sample(15)"
      ],
      "metadata": {
        "colab": {
          "base_uri": "https://localhost:8080/",
          "height": 519
        },
        "id": "3lSiHsgOSqIm",
        "outputId": "079299c5-2dca-49c4-aa9d-c0b75544c251"
      },
      "execution_count": null,
      "outputs": [
        {
          "output_type": "execute_result",
          "data": {
            "text/plain": [
              "       SystemCodeNumber  Capacity  Occupancy  PercentFull  NearCapacity\n",
              "7386        BHMBRCBRG02      1194        796     0.666667             0\n",
              "23425     NIA Car Parks      1268         96     0.075710             0\n",
              "4482        BHMBCCTHL01       387        326     0.842377             1\n",
              "31907     Others-CCCPS8      1322        442     0.334342             0\n",
              "2219        BHMBCCPST01       317        176     0.555205             0\n",
              "19200       BHMNCPRAN01       600         66     0.110000             0\n",
              "32627     Others-CCCPS8      1322        406     0.307110             0\n",
              "5008        BHMBCCTHL01       387        402     1.038760             1\n",
              "21654         Bull Ring      3053       2195     0.718965             0\n",
              "5607        BHMBRCBRG01      1010        709     0.701980             0\n",
              "20908      Broad Street       690        518     0.750725             0\n",
              "27781  Others-CCCPS119a      2803        667     0.237959             0\n",
              "24734         NIA South       788         96     0.121827             0\n",
              "10973       BHMEURBRD02       220        197     0.895455             1\n",
              "777         BHMBCCMKT01       577         73     0.126516             0"
            ],
            "text/html": [
              "\n",
              "  <div id=\"df-03472e05-cda2-4221-b521-caa69669b7ea\">\n",
              "    <div class=\"colab-df-container\">\n",
              "      <div>\n",
              "<style scoped>\n",
              "    .dataframe tbody tr th:only-of-type {\n",
              "        vertical-align: middle;\n",
              "    }\n",
              "\n",
              "    .dataframe tbody tr th {\n",
              "        vertical-align: top;\n",
              "    }\n",
              "\n",
              "    .dataframe thead th {\n",
              "        text-align: right;\n",
              "    }\n",
              "</style>\n",
              "<table border=\"1\" class=\"dataframe\">\n",
              "  <thead>\n",
              "    <tr style=\"text-align: right;\">\n",
              "      <th></th>\n",
              "      <th>SystemCodeNumber</th>\n",
              "      <th>Capacity</th>\n",
              "      <th>Occupancy</th>\n",
              "      <th>PercentFull</th>\n",
              "      <th>NearCapacity</th>\n",
              "    </tr>\n",
              "  </thead>\n",
              "  <tbody>\n",
              "    <tr>\n",
              "      <th>7386</th>\n",
              "      <td>BHMBRCBRG02</td>\n",
              "      <td>1194</td>\n",
              "      <td>796</td>\n",
              "      <td>0.666667</td>\n",
              "      <td>0</td>\n",
              "    </tr>\n",
              "    <tr>\n",
              "      <th>23425</th>\n",
              "      <td>NIA Car Parks</td>\n",
              "      <td>1268</td>\n",
              "      <td>96</td>\n",
              "      <td>0.075710</td>\n",
              "      <td>0</td>\n",
              "    </tr>\n",
              "    <tr>\n",
              "      <th>4482</th>\n",
              "      <td>BHMBCCTHL01</td>\n",
              "      <td>387</td>\n",
              "      <td>326</td>\n",
              "      <td>0.842377</td>\n",
              "      <td>1</td>\n",
              "    </tr>\n",
              "    <tr>\n",
              "      <th>31907</th>\n",
              "      <td>Others-CCCPS8</td>\n",
              "      <td>1322</td>\n",
              "      <td>442</td>\n",
              "      <td>0.334342</td>\n",
              "      <td>0</td>\n",
              "    </tr>\n",
              "    <tr>\n",
              "      <th>2219</th>\n",
              "      <td>BHMBCCPST01</td>\n",
              "      <td>317</td>\n",
              "      <td>176</td>\n",
              "      <td>0.555205</td>\n",
              "      <td>0</td>\n",
              "    </tr>\n",
              "    <tr>\n",
              "      <th>19200</th>\n",
              "      <td>BHMNCPRAN01</td>\n",
              "      <td>600</td>\n",
              "      <td>66</td>\n",
              "      <td>0.110000</td>\n",
              "      <td>0</td>\n",
              "    </tr>\n",
              "    <tr>\n",
              "      <th>32627</th>\n",
              "      <td>Others-CCCPS8</td>\n",
              "      <td>1322</td>\n",
              "      <td>406</td>\n",
              "      <td>0.307110</td>\n",
              "      <td>0</td>\n",
              "    </tr>\n",
              "    <tr>\n",
              "      <th>5008</th>\n",
              "      <td>BHMBCCTHL01</td>\n",
              "      <td>387</td>\n",
              "      <td>402</td>\n",
              "      <td>1.038760</td>\n",
              "      <td>1</td>\n",
              "    </tr>\n",
              "    <tr>\n",
              "      <th>21654</th>\n",
              "      <td>Bull Ring</td>\n",
              "      <td>3053</td>\n",
              "      <td>2195</td>\n",
              "      <td>0.718965</td>\n",
              "      <td>0</td>\n",
              "    </tr>\n",
              "    <tr>\n",
              "      <th>5607</th>\n",
              "      <td>BHMBRCBRG01</td>\n",
              "      <td>1010</td>\n",
              "      <td>709</td>\n",
              "      <td>0.701980</td>\n",
              "      <td>0</td>\n",
              "    </tr>\n",
              "    <tr>\n",
              "      <th>20908</th>\n",
              "      <td>Broad Street</td>\n",
              "      <td>690</td>\n",
              "      <td>518</td>\n",
              "      <td>0.750725</td>\n",
              "      <td>0</td>\n",
              "    </tr>\n",
              "    <tr>\n",
              "      <th>27781</th>\n",
              "      <td>Others-CCCPS119a</td>\n",
              "      <td>2803</td>\n",
              "      <td>667</td>\n",
              "      <td>0.237959</td>\n",
              "      <td>0</td>\n",
              "    </tr>\n",
              "    <tr>\n",
              "      <th>24734</th>\n",
              "      <td>NIA South</td>\n",
              "      <td>788</td>\n",
              "      <td>96</td>\n",
              "      <td>0.121827</td>\n",
              "      <td>0</td>\n",
              "    </tr>\n",
              "    <tr>\n",
              "      <th>10973</th>\n",
              "      <td>BHMEURBRD02</td>\n",
              "      <td>220</td>\n",
              "      <td>197</td>\n",
              "      <td>0.895455</td>\n",
              "      <td>1</td>\n",
              "    </tr>\n",
              "    <tr>\n",
              "      <th>777</th>\n",
              "      <td>BHMBCCMKT01</td>\n",
              "      <td>577</td>\n",
              "      <td>73</td>\n",
              "      <td>0.126516</td>\n",
              "      <td>0</td>\n",
              "    </tr>\n",
              "  </tbody>\n",
              "</table>\n",
              "</div>\n",
              "      <button class=\"colab-df-convert\" onclick=\"convertToInteractive('df-03472e05-cda2-4221-b521-caa69669b7ea')\"\n",
              "              title=\"Convert this dataframe to an interactive table.\"\n",
              "              style=\"display:none;\">\n",
              "        \n",
              "  <svg xmlns=\"http://www.w3.org/2000/svg\" height=\"24px\"viewBox=\"0 0 24 24\"\n",
              "       width=\"24px\">\n",
              "    <path d=\"M0 0h24v24H0V0z\" fill=\"none\"/>\n",
              "    <path d=\"M18.56 5.44l.94 2.06.94-2.06 2.06-.94-2.06-.94-.94-2.06-.94 2.06-2.06.94zm-11 1L8.5 8.5l.94-2.06 2.06-.94-2.06-.94L8.5 2.5l-.94 2.06-2.06.94zm10 10l.94 2.06.94-2.06 2.06-.94-2.06-.94-.94-2.06-.94 2.06-2.06.94z\"/><path d=\"M17.41 7.96l-1.37-1.37c-.4-.4-.92-.59-1.43-.59-.52 0-1.04.2-1.43.59L10.3 9.45l-7.72 7.72c-.78.78-.78 2.05 0 2.83L4 21.41c.39.39.9.59 1.41.59.51 0 1.02-.2 1.41-.59l7.78-7.78 2.81-2.81c.8-.78.8-2.07 0-2.86zM5.41 20L4 18.59l7.72-7.72 1.47 1.35L5.41 20z\"/>\n",
              "  </svg>\n",
              "      </button>\n",
              "      \n",
              "  <style>\n",
              "    .colab-df-container {\n",
              "      display:flex;\n",
              "      flex-wrap:wrap;\n",
              "      gap: 12px;\n",
              "    }\n",
              "\n",
              "    .colab-df-convert {\n",
              "      background-color: #E8F0FE;\n",
              "      border: none;\n",
              "      border-radius: 50%;\n",
              "      cursor: pointer;\n",
              "      display: none;\n",
              "      fill: #1967D2;\n",
              "      height: 32px;\n",
              "      padding: 0 0 0 0;\n",
              "      width: 32px;\n",
              "    }\n",
              "\n",
              "    .colab-df-convert:hover {\n",
              "      background-color: #E2EBFA;\n",
              "      box-shadow: 0px 1px 2px rgba(60, 64, 67, 0.3), 0px 1px 3px 1px rgba(60, 64, 67, 0.15);\n",
              "      fill: #174EA6;\n",
              "    }\n",
              "\n",
              "    [theme=dark] .colab-df-convert {\n",
              "      background-color: #3B4455;\n",
              "      fill: #D2E3FC;\n",
              "    }\n",
              "\n",
              "    [theme=dark] .colab-df-convert:hover {\n",
              "      background-color: #434B5C;\n",
              "      box-shadow: 0px 1px 3px 1px rgba(0, 0, 0, 0.15);\n",
              "      filter: drop-shadow(0px 1px 2px rgba(0, 0, 0, 0.3));\n",
              "      fill: #FFFFFF;\n",
              "    }\n",
              "  </style>\n",
              "\n",
              "      <script>\n",
              "        const buttonEl =\n",
              "          document.querySelector('#df-03472e05-cda2-4221-b521-caa69669b7ea button.colab-df-convert');\n",
              "        buttonEl.style.display =\n",
              "          google.colab.kernel.accessAllowed ? 'block' : 'none';\n",
              "\n",
              "        async function convertToInteractive(key) {\n",
              "          const element = document.querySelector('#df-03472e05-cda2-4221-b521-caa69669b7ea');\n",
              "          const dataTable =\n",
              "            await google.colab.kernel.invokeFunction('convertToInteractive',\n",
              "                                                     [key], {});\n",
              "          if (!dataTable) return;\n",
              "\n",
              "          const docLinkHtml = 'Like what you see? Visit the ' +\n",
              "            '<a target=\"_blank\" href=https://colab.research.google.com/notebooks/data_table.ipynb>data table notebook</a>'\n",
              "            + ' to learn more about interactive tables.';\n",
              "          element.innerHTML = '';\n",
              "          dataTable['output_type'] = 'display_data';\n",
              "          await google.colab.output.renderOutput(dataTable, element);\n",
              "          const docLink = document.createElement('div');\n",
              "          docLink.innerHTML = docLinkHtml;\n",
              "          element.appendChild(docLink);\n",
              "        }\n",
              "      </script>\n",
              "    </div>\n",
              "  </div>\n",
              "  "
            ]
          },
          "metadata": {},
          "execution_count": 40
        }
      ]
    },
    {
      "cell_type": "code",
      "source": [
        "DTpipeline.fit(X_train,y_train)"
      ],
      "metadata": {
        "colab": {
          "base_uri": "https://localhost:8080/",
          "height": 193
        },
        "id": "9_WjJwqc2EPf",
        "outputId": "0a9e74c5-edf0-458e-f554-660b2fa6dbbd"
      },
      "execution_count": 38,
      "outputs": [
        {
          "output_type": "execute_result",
          "data": {
            "text/plain": [
              "Pipeline(steps=[('transform',\n",
              "                 ColumnTransformer(transformers=[('num', MinMaxScaler(),\n",
              "                                                  ['Capacity', 'Occupancy',\n",
              "                                                   'PercentFull'])])),\n",
              "                ('decision_tree', DecisionTreeClassifier(max_depth=5))])"
            ],
            "text/html": [
              "<style>#sk-ddd77c68-b699-4d93-b3bc-e23472c86563 {color: black;background-color: white;}#sk-ddd77c68-b699-4d93-b3bc-e23472c86563 pre{padding: 0;}#sk-ddd77c68-b699-4d93-b3bc-e23472c86563 div.sk-toggleable {background-color: white;}#sk-ddd77c68-b699-4d93-b3bc-e23472c86563 label.sk-toggleable__label {cursor: pointer;display: block;width: 100%;margin-bottom: 0;padding: 0.3em;box-sizing: border-box;text-align: center;}#sk-ddd77c68-b699-4d93-b3bc-e23472c86563 label.sk-toggleable__label-arrow:before {content: \"▸\";float: left;margin-right: 0.25em;color: #696969;}#sk-ddd77c68-b699-4d93-b3bc-e23472c86563 label.sk-toggleable__label-arrow:hover:before {color: black;}#sk-ddd77c68-b699-4d93-b3bc-e23472c86563 div.sk-estimator:hover label.sk-toggleable__label-arrow:before {color: black;}#sk-ddd77c68-b699-4d93-b3bc-e23472c86563 div.sk-toggleable__content {max-height: 0;max-width: 0;overflow: hidden;text-align: left;background-color: #f0f8ff;}#sk-ddd77c68-b699-4d93-b3bc-e23472c86563 div.sk-toggleable__content pre {margin: 0.2em;color: black;border-radius: 0.25em;background-color: #f0f8ff;}#sk-ddd77c68-b699-4d93-b3bc-e23472c86563 input.sk-toggleable__control:checked~div.sk-toggleable__content {max-height: 200px;max-width: 100%;overflow: auto;}#sk-ddd77c68-b699-4d93-b3bc-e23472c86563 input.sk-toggleable__control:checked~label.sk-toggleable__label-arrow:before {content: \"▾\";}#sk-ddd77c68-b699-4d93-b3bc-e23472c86563 div.sk-estimator input.sk-toggleable__control:checked~label.sk-toggleable__label {background-color: #d4ebff;}#sk-ddd77c68-b699-4d93-b3bc-e23472c86563 div.sk-label input.sk-toggleable__control:checked~label.sk-toggleable__label {background-color: #d4ebff;}#sk-ddd77c68-b699-4d93-b3bc-e23472c86563 input.sk-hidden--visually {border: 0;clip: rect(1px 1px 1px 1px);clip: rect(1px, 1px, 1px, 1px);height: 1px;margin: -1px;overflow: hidden;padding: 0;position: absolute;width: 1px;}#sk-ddd77c68-b699-4d93-b3bc-e23472c86563 div.sk-estimator {font-family: monospace;background-color: #f0f8ff;border: 1px dotted black;border-radius: 0.25em;box-sizing: border-box;margin-bottom: 0.5em;}#sk-ddd77c68-b699-4d93-b3bc-e23472c86563 div.sk-estimator:hover {background-color: #d4ebff;}#sk-ddd77c68-b699-4d93-b3bc-e23472c86563 div.sk-parallel-item::after {content: \"\";width: 100%;border-bottom: 1px solid gray;flex-grow: 1;}#sk-ddd77c68-b699-4d93-b3bc-e23472c86563 div.sk-label:hover label.sk-toggleable__label {background-color: #d4ebff;}#sk-ddd77c68-b699-4d93-b3bc-e23472c86563 div.sk-serial::before {content: \"\";position: absolute;border-left: 1px solid gray;box-sizing: border-box;top: 2em;bottom: 0;left: 50%;}#sk-ddd77c68-b699-4d93-b3bc-e23472c86563 div.sk-serial {display: flex;flex-direction: column;align-items: center;background-color: white;padding-right: 0.2em;padding-left: 0.2em;}#sk-ddd77c68-b699-4d93-b3bc-e23472c86563 div.sk-item {z-index: 1;}#sk-ddd77c68-b699-4d93-b3bc-e23472c86563 div.sk-parallel {display: flex;align-items: stretch;justify-content: center;background-color: white;}#sk-ddd77c68-b699-4d93-b3bc-e23472c86563 div.sk-parallel::before {content: \"\";position: absolute;border-left: 1px solid gray;box-sizing: border-box;top: 2em;bottom: 0;left: 50%;}#sk-ddd77c68-b699-4d93-b3bc-e23472c86563 div.sk-parallel-item {display: flex;flex-direction: column;position: relative;background-color: white;}#sk-ddd77c68-b699-4d93-b3bc-e23472c86563 div.sk-parallel-item:first-child::after {align-self: flex-end;width: 50%;}#sk-ddd77c68-b699-4d93-b3bc-e23472c86563 div.sk-parallel-item:last-child::after {align-self: flex-start;width: 50%;}#sk-ddd77c68-b699-4d93-b3bc-e23472c86563 div.sk-parallel-item:only-child::after {width: 0;}#sk-ddd77c68-b699-4d93-b3bc-e23472c86563 div.sk-dashed-wrapped {border: 1px dashed gray;margin: 0 0.4em 0.5em 0.4em;box-sizing: border-box;padding-bottom: 0.4em;background-color: white;position: relative;}#sk-ddd77c68-b699-4d93-b3bc-e23472c86563 div.sk-label label {font-family: monospace;font-weight: bold;background-color: white;display: inline-block;line-height: 1.2em;}#sk-ddd77c68-b699-4d93-b3bc-e23472c86563 div.sk-label-container {position: relative;z-index: 2;text-align: center;}#sk-ddd77c68-b699-4d93-b3bc-e23472c86563 div.sk-container {/* jupyter's `normalize.less` sets `[hidden] { display: none; }` but bootstrap.min.css set `[hidden] { display: none !important; }` so we also need the `!important` here to be able to override the default hidden behavior on the sphinx rendered scikit-learn.org. See: https://github.com/scikit-learn/scikit-learn/issues/21755 */display: inline-block !important;position: relative;}#sk-ddd77c68-b699-4d93-b3bc-e23472c86563 div.sk-text-repr-fallback {display: none;}</style><div id=\"sk-ddd77c68-b699-4d93-b3bc-e23472c86563\" class=\"sk-top-container\"><div class=\"sk-text-repr-fallback\"><pre>Pipeline(steps=[(&#x27;transform&#x27;,\n",
              "                 ColumnTransformer(transformers=[(&#x27;num&#x27;, MinMaxScaler(),\n",
              "                                                  [&#x27;Capacity&#x27;, &#x27;Occupancy&#x27;,\n",
              "                                                   &#x27;PercentFull&#x27;])])),\n",
              "                (&#x27;decision_tree&#x27;, DecisionTreeClassifier(max_depth=5))])</pre><b>Please rerun this cell to show the HTML repr or trust the notebook.</b></div><div class=\"sk-container\" hidden><div class=\"sk-item sk-dashed-wrapped\"><div class=\"sk-label-container\"><div class=\"sk-label sk-toggleable\"><input class=\"sk-toggleable__control sk-hidden--visually\" id=\"de0e5862-25b3-4d63-a03a-dea57d04f613\" type=\"checkbox\" ><label for=\"de0e5862-25b3-4d63-a03a-dea57d04f613\" class=\"sk-toggleable__label sk-toggleable__label-arrow\">Pipeline</label><div class=\"sk-toggleable__content\"><pre>Pipeline(steps=[(&#x27;transform&#x27;,\n",
              "                 ColumnTransformer(transformers=[(&#x27;num&#x27;, MinMaxScaler(),\n",
              "                                                  [&#x27;Capacity&#x27;, &#x27;Occupancy&#x27;,\n",
              "                                                   &#x27;PercentFull&#x27;])])),\n",
              "                (&#x27;decision_tree&#x27;, DecisionTreeClassifier(max_depth=5))])</pre></div></div></div><div class=\"sk-serial\"><div class=\"sk-item sk-dashed-wrapped\"><div class=\"sk-label-container\"><div class=\"sk-label sk-toggleable\"><input class=\"sk-toggleable__control sk-hidden--visually\" id=\"b08f3dc6-7476-43e8-8e6d-87b5d2caa8d3\" type=\"checkbox\" ><label for=\"b08f3dc6-7476-43e8-8e6d-87b5d2caa8d3\" class=\"sk-toggleable__label sk-toggleable__label-arrow\">transform: ColumnTransformer</label><div class=\"sk-toggleable__content\"><pre>ColumnTransformer(transformers=[(&#x27;num&#x27;, MinMaxScaler(),\n",
              "                                 [&#x27;Capacity&#x27;, &#x27;Occupancy&#x27;, &#x27;PercentFull&#x27;])])</pre></div></div></div><div class=\"sk-parallel\"><div class=\"sk-parallel-item\"><div class=\"sk-item\"><div class=\"sk-label-container\"><div class=\"sk-label sk-toggleable\"><input class=\"sk-toggleable__control sk-hidden--visually\" id=\"b91dcc35-5afe-4754-95c1-944c5c532e97\" type=\"checkbox\" ><label for=\"b91dcc35-5afe-4754-95c1-944c5c532e97\" class=\"sk-toggleable__label sk-toggleable__label-arrow\">num</label><div class=\"sk-toggleable__content\"><pre>[&#x27;Capacity&#x27;, &#x27;Occupancy&#x27;, &#x27;PercentFull&#x27;]</pre></div></div></div><div class=\"sk-serial\"><div class=\"sk-item\"><div class=\"sk-estimator sk-toggleable\"><input class=\"sk-toggleable__control sk-hidden--visually\" id=\"5ff35862-47d9-4803-a44b-08cf2c0e43c8\" type=\"checkbox\" ><label for=\"5ff35862-47d9-4803-a44b-08cf2c0e43c8\" class=\"sk-toggleable__label sk-toggleable__label-arrow\">MinMaxScaler</label><div class=\"sk-toggleable__content\"><pre>MinMaxScaler()</pre></div></div></div></div></div></div></div></div><div class=\"sk-item\"><div class=\"sk-estimator sk-toggleable\"><input class=\"sk-toggleable__control sk-hidden--visually\" id=\"75c0ff1c-c91e-4602-8d11-02ee010817cf\" type=\"checkbox\" ><label for=\"75c0ff1c-c91e-4602-8d11-02ee010817cf\" class=\"sk-toggleable__label sk-toggleable__label-arrow\">DecisionTreeClassifier</label><div class=\"sk-toggleable__content\"><pre>DecisionTreeClassifier(max_depth=5)</pre></div></div></div></div></div></div></div>"
            ]
          },
          "metadata": {},
          "execution_count": 38
        }
      ]
    },
    {
      "cell_type": "markdown",
      "source": [
        "###Step 7B: Evaluating the Decision Tree Model "
      ],
      "metadata": {
        "id": "gdExO4mT2O-b"
      }
    },
    {
      "cell_type": "code",
      "source": [
        "y_pred = DTpipeline.predict(X_test)"
      ],
      "metadata": {
        "id": "IfDQqMFR2ZEA"
      },
      "execution_count": 39,
      "outputs": []
    },
    {
      "cell_type": "code",
      "source": [
        "print(mean_squared_error(y_test, y_pred)**(0.5))"
      ],
      "metadata": {
        "colab": {
          "base_uri": "https://localhost:8080/"
        },
        "id": "p5naISUvTNbk",
        "outputId": "7cefda22-c6a1-48c1-92e1-9759dbe65404"
      },
      "execution_count": 40,
      "outputs": [
        {
          "output_type": "stream",
          "name": "stdout",
          "text": [
            "0.0\n"
          ]
        }
      ]
    },
    {
      "cell_type": "code",
      "source": [
        "y_pred = DTpipeline.predict(X_train)\n",
        "print(mean_squared_error(y_train, y_pred)**(0.5))"
      ],
      "metadata": {
        "colab": {
          "base_uri": "https://localhost:8080/"
        },
        "id": "biPtm5wH2gVv",
        "outputId": "ebb08004-4c32-4ad9-9525-2168050927d1"
      },
      "execution_count": 41,
      "outputs": [
        {
          "output_type": "stream",
          "name": "stdout",
          "text": [
            "0.0\n"
          ]
        }
      ]
    },
    {
      "cell_type": "markdown",
      "source": [
        "The 0 values for RMSE indicate a well-fitting model."
      ],
      "metadata": {
        "id": "CE2cv3EQ285j"
      }
    },
    {
      "cell_type": "markdown",
      "source": [
        "###Step 7C: Using Gridsearch with the Decision Tree Model"
      ],
      "metadata": {
        "id": "rHmoi15f-AAf"
      }
    },
    {
      "cell_type": "code",
      "source": [
        "parameters = {'decision_tree__max_features': ['auto', 'sqrt', 'log2'],\n",
        "              'decision_tree__ccp_alpha': [0.1, .01, .001],\n",
        "              'decision_tree__max_depth' : [5, 6, 7, 8, 9],\n",
        "              'decision_tree__criterion' :['gini', 'entropy']}"
      ],
      "metadata": {
        "id": "Y9qgOnO19-wQ"
      },
      "execution_count": null,
      "outputs": []
    },
    {
      "cell_type": "code",
      "source": [
        "grid_pipeline = GridSearchCV(DTpipeline, param_grid = parameters, cv=5, verbose=True)"
      ],
      "metadata": {
        "id": "ZM0sak0R-Nq0"
      },
      "execution_count": null,
      "outputs": []
    },
    {
      "cell_type": "code",
      "source": [
        "grid_pipeline"
      ],
      "metadata": {
        "colab": {
          "base_uri": "https://localhost:8080/",
          "height": 194
        },
        "id": "6MUD7HyI-c_C",
        "outputId": "8826fba3-fdef-4a66-d16e-532c607cc9fb"
      },
      "execution_count": null,
      "outputs": [
        {
          "output_type": "execute_result",
          "data": {
            "text/plain": [
              "GridSearchCV(cv=5,\n",
              "             estimator=Pipeline(steps=[('transform',\n",
              "                                        ColumnTransformer(transformers=[('num',\n",
              "                                                                         MinMaxScaler(),\n",
              "                                                                         ['Capacity',\n",
              "                                                                          'Occupancy',\n",
              "                                                                          'PercentFull'])])),\n",
              "                                       ('decision_tree',\n",
              "                                        DecisionTreeClassifier(max_depth=5))]),\n",
              "             param_grid={'decision_tree__ccp_alpha': [0.1, 0.01, 0.001],\n",
              "                         'decision_tree__criterion': ['gini', 'entropy'],\n",
              "                         'decision_tree__max_depth': [5, 6, 7, 8, 9],\n",
              "                         'decision_tree__max_features': ['auto', 'sqrt',\n",
              "                                                         'log2']},\n",
              "             verbose=True)"
            ],
            "text/html": [
              "<style>#sk-77fb8bf6-8343-4d1f-b8bb-c23207dfbe3c {color: black;background-color: white;}#sk-77fb8bf6-8343-4d1f-b8bb-c23207dfbe3c pre{padding: 0;}#sk-77fb8bf6-8343-4d1f-b8bb-c23207dfbe3c div.sk-toggleable {background-color: white;}#sk-77fb8bf6-8343-4d1f-b8bb-c23207dfbe3c label.sk-toggleable__label {cursor: pointer;display: block;width: 100%;margin-bottom: 0;padding: 0.3em;box-sizing: border-box;text-align: center;}#sk-77fb8bf6-8343-4d1f-b8bb-c23207dfbe3c label.sk-toggleable__label-arrow:before {content: \"▸\";float: left;margin-right: 0.25em;color: #696969;}#sk-77fb8bf6-8343-4d1f-b8bb-c23207dfbe3c label.sk-toggleable__label-arrow:hover:before {color: black;}#sk-77fb8bf6-8343-4d1f-b8bb-c23207dfbe3c div.sk-estimator:hover label.sk-toggleable__label-arrow:before {color: black;}#sk-77fb8bf6-8343-4d1f-b8bb-c23207dfbe3c div.sk-toggleable__content {max-height: 0;max-width: 0;overflow: hidden;text-align: left;background-color: #f0f8ff;}#sk-77fb8bf6-8343-4d1f-b8bb-c23207dfbe3c div.sk-toggleable__content pre {margin: 0.2em;color: black;border-radius: 0.25em;background-color: #f0f8ff;}#sk-77fb8bf6-8343-4d1f-b8bb-c23207dfbe3c input.sk-toggleable__control:checked~div.sk-toggleable__content {max-height: 200px;max-width: 100%;overflow: auto;}#sk-77fb8bf6-8343-4d1f-b8bb-c23207dfbe3c input.sk-toggleable__control:checked~label.sk-toggleable__label-arrow:before {content: \"▾\";}#sk-77fb8bf6-8343-4d1f-b8bb-c23207dfbe3c div.sk-estimator input.sk-toggleable__control:checked~label.sk-toggleable__label {background-color: #d4ebff;}#sk-77fb8bf6-8343-4d1f-b8bb-c23207dfbe3c div.sk-label input.sk-toggleable__control:checked~label.sk-toggleable__label {background-color: #d4ebff;}#sk-77fb8bf6-8343-4d1f-b8bb-c23207dfbe3c input.sk-hidden--visually {border: 0;clip: rect(1px 1px 1px 1px);clip: rect(1px, 1px, 1px, 1px);height: 1px;margin: -1px;overflow: hidden;padding: 0;position: absolute;width: 1px;}#sk-77fb8bf6-8343-4d1f-b8bb-c23207dfbe3c div.sk-estimator {font-family: monospace;background-color: #f0f8ff;border: 1px dotted black;border-radius: 0.25em;box-sizing: border-box;margin-bottom: 0.5em;}#sk-77fb8bf6-8343-4d1f-b8bb-c23207dfbe3c div.sk-estimator:hover {background-color: #d4ebff;}#sk-77fb8bf6-8343-4d1f-b8bb-c23207dfbe3c div.sk-parallel-item::after {content: \"\";width: 100%;border-bottom: 1px solid gray;flex-grow: 1;}#sk-77fb8bf6-8343-4d1f-b8bb-c23207dfbe3c div.sk-label:hover label.sk-toggleable__label {background-color: #d4ebff;}#sk-77fb8bf6-8343-4d1f-b8bb-c23207dfbe3c div.sk-serial::before {content: \"\";position: absolute;border-left: 1px solid gray;box-sizing: border-box;top: 2em;bottom: 0;left: 50%;}#sk-77fb8bf6-8343-4d1f-b8bb-c23207dfbe3c div.sk-serial {display: flex;flex-direction: column;align-items: center;background-color: white;padding-right: 0.2em;padding-left: 0.2em;}#sk-77fb8bf6-8343-4d1f-b8bb-c23207dfbe3c div.sk-item {z-index: 1;}#sk-77fb8bf6-8343-4d1f-b8bb-c23207dfbe3c div.sk-parallel {display: flex;align-items: stretch;justify-content: center;background-color: white;}#sk-77fb8bf6-8343-4d1f-b8bb-c23207dfbe3c div.sk-parallel::before {content: \"\";position: absolute;border-left: 1px solid gray;box-sizing: border-box;top: 2em;bottom: 0;left: 50%;}#sk-77fb8bf6-8343-4d1f-b8bb-c23207dfbe3c div.sk-parallel-item {display: flex;flex-direction: column;position: relative;background-color: white;}#sk-77fb8bf6-8343-4d1f-b8bb-c23207dfbe3c div.sk-parallel-item:first-child::after {align-self: flex-end;width: 50%;}#sk-77fb8bf6-8343-4d1f-b8bb-c23207dfbe3c div.sk-parallel-item:last-child::after {align-self: flex-start;width: 50%;}#sk-77fb8bf6-8343-4d1f-b8bb-c23207dfbe3c div.sk-parallel-item:only-child::after {width: 0;}#sk-77fb8bf6-8343-4d1f-b8bb-c23207dfbe3c div.sk-dashed-wrapped {border: 1px dashed gray;margin: 0 0.4em 0.5em 0.4em;box-sizing: border-box;padding-bottom: 0.4em;background-color: white;position: relative;}#sk-77fb8bf6-8343-4d1f-b8bb-c23207dfbe3c div.sk-label label {font-family: monospace;font-weight: bold;background-color: white;display: inline-block;line-height: 1.2em;}#sk-77fb8bf6-8343-4d1f-b8bb-c23207dfbe3c div.sk-label-container {position: relative;z-index: 2;text-align: center;}#sk-77fb8bf6-8343-4d1f-b8bb-c23207dfbe3c div.sk-container {/* jupyter's `normalize.less` sets `[hidden] { display: none; }` but bootstrap.min.css set `[hidden] { display: none !important; }` so we also need the `!important` here to be able to override the default hidden behavior on the sphinx rendered scikit-learn.org. See: https://github.com/scikit-learn/scikit-learn/issues/21755 */display: inline-block !important;position: relative;}#sk-77fb8bf6-8343-4d1f-b8bb-c23207dfbe3c div.sk-text-repr-fallback {display: none;}</style><div id=\"sk-77fb8bf6-8343-4d1f-b8bb-c23207dfbe3c\" class=\"sk-top-container\"><div class=\"sk-text-repr-fallback\"><pre>GridSearchCV(cv=5,\n",
              "             estimator=Pipeline(steps=[(&#x27;transform&#x27;,\n",
              "                                        ColumnTransformer(transformers=[(&#x27;num&#x27;,\n",
              "                                                                         MinMaxScaler(),\n",
              "                                                                         [&#x27;Capacity&#x27;,\n",
              "                                                                          &#x27;Occupancy&#x27;,\n",
              "                                                                          &#x27;PercentFull&#x27;])])),\n",
              "                                       (&#x27;decision_tree&#x27;,\n",
              "                                        DecisionTreeClassifier(max_depth=5))]),\n",
              "             param_grid={&#x27;decision_tree__ccp_alpha&#x27;: [0.1, 0.01, 0.001],\n",
              "                         &#x27;decision_tree__criterion&#x27;: [&#x27;gini&#x27;, &#x27;entropy&#x27;],\n",
              "                         &#x27;decision_tree__max_depth&#x27;: [5, 6, 7, 8, 9],\n",
              "                         &#x27;decision_tree__max_features&#x27;: [&#x27;auto&#x27;, &#x27;sqrt&#x27;,\n",
              "                                                         &#x27;log2&#x27;]},\n",
              "             verbose=True)</pre><b>Please rerun this cell to show the HTML repr or trust the notebook.</b></div><div class=\"sk-container\" hidden><div class=\"sk-item sk-dashed-wrapped\"><div class=\"sk-label-container\"><div class=\"sk-label sk-toggleable\"><input class=\"sk-toggleable__control sk-hidden--visually\" id=\"5bc11d41-75fb-463a-9553-ca15bd026370\" type=\"checkbox\" ><label for=\"5bc11d41-75fb-463a-9553-ca15bd026370\" class=\"sk-toggleable__label sk-toggleable__label-arrow\">GridSearchCV</label><div class=\"sk-toggleable__content\"><pre>GridSearchCV(cv=5,\n",
              "             estimator=Pipeline(steps=[(&#x27;transform&#x27;,\n",
              "                                        ColumnTransformer(transformers=[(&#x27;num&#x27;,\n",
              "                                                                         MinMaxScaler(),\n",
              "                                                                         [&#x27;Capacity&#x27;,\n",
              "                                                                          &#x27;Occupancy&#x27;,\n",
              "                                                                          &#x27;PercentFull&#x27;])])),\n",
              "                                       (&#x27;decision_tree&#x27;,\n",
              "                                        DecisionTreeClassifier(max_depth=5))]),\n",
              "             param_grid={&#x27;decision_tree__ccp_alpha&#x27;: [0.1, 0.01, 0.001],\n",
              "                         &#x27;decision_tree__criterion&#x27;: [&#x27;gini&#x27;, &#x27;entropy&#x27;],\n",
              "                         &#x27;decision_tree__max_depth&#x27;: [5, 6, 7, 8, 9],\n",
              "                         &#x27;decision_tree__max_features&#x27;: [&#x27;auto&#x27;, &#x27;sqrt&#x27;,\n",
              "                                                         &#x27;log2&#x27;]},\n",
              "             verbose=True)</pre></div></div></div><div class=\"sk-parallel\"><div class=\"sk-parallel-item\"><div class=\"sk-item\"><div class=\"sk-serial\"><div class=\"sk-item\"><div class=\"sk-serial\"><div class=\"sk-item sk-dashed-wrapped\"><div class=\"sk-label-container\"><div class=\"sk-label sk-toggleable\"><input class=\"sk-toggleable__control sk-hidden--visually\" id=\"631f0ce7-bb1f-41bb-b390-683d025a42f7\" type=\"checkbox\" ><label for=\"631f0ce7-bb1f-41bb-b390-683d025a42f7\" class=\"sk-toggleable__label sk-toggleable__label-arrow\">transform: ColumnTransformer</label><div class=\"sk-toggleable__content\"><pre>ColumnTransformer(transformers=[(&#x27;num&#x27;, MinMaxScaler(),\n",
              "                                 [&#x27;Capacity&#x27;, &#x27;Occupancy&#x27;, &#x27;PercentFull&#x27;])])</pre></div></div></div><div class=\"sk-parallel\"><div class=\"sk-parallel-item\"><div class=\"sk-item\"><div class=\"sk-label-container\"><div class=\"sk-label sk-toggleable\"><input class=\"sk-toggleable__control sk-hidden--visually\" id=\"7a593a66-a156-4e9f-afc8-427edfdb105a\" type=\"checkbox\" ><label for=\"7a593a66-a156-4e9f-afc8-427edfdb105a\" class=\"sk-toggleable__label sk-toggleable__label-arrow\">num</label><div class=\"sk-toggleable__content\"><pre>[&#x27;Capacity&#x27;, &#x27;Occupancy&#x27;, &#x27;PercentFull&#x27;]</pre></div></div></div><div class=\"sk-serial\"><div class=\"sk-item\"><div class=\"sk-estimator sk-toggleable\"><input class=\"sk-toggleable__control sk-hidden--visually\" id=\"3ffe1131-1847-446e-a5a7-2cd1f2a4c4b7\" type=\"checkbox\" ><label for=\"3ffe1131-1847-446e-a5a7-2cd1f2a4c4b7\" class=\"sk-toggleable__label sk-toggleable__label-arrow\">MinMaxScaler</label><div class=\"sk-toggleable__content\"><pre>MinMaxScaler()</pre></div></div></div></div></div></div></div></div><div class=\"sk-item\"><div class=\"sk-estimator sk-toggleable\"><input class=\"sk-toggleable__control sk-hidden--visually\" id=\"a97b10bd-af49-4b0f-82a4-a7a6d8263584\" type=\"checkbox\" ><label for=\"a97b10bd-af49-4b0f-82a4-a7a6d8263584\" class=\"sk-toggleable__label sk-toggleable__label-arrow\">DecisionTreeClassifier</label><div class=\"sk-toggleable__content\"><pre>DecisionTreeClassifier(max_depth=5)</pre></div></div></div></div></div></div></div></div></div></div></div></div>"
            ]
          },
          "metadata": {},
          "execution_count": 83
        }
      ]
    },
    {
      "cell_type": "code",
      "source": [
        "sorted(DTpipeline.get_params().keys())"
      ],
      "metadata": {
        "colab": {
          "base_uri": "https://localhost:8080/"
        },
        "id": "6C9lZSE5Xupd",
        "outputId": "a5a6d70b-bc2e-4052-9138-924fdb7c2c0e"
      },
      "execution_count": null,
      "outputs": [
        {
          "output_type": "execute_result",
          "data": {
            "text/plain": [
              "['decision_tree',\n",
              " 'decision_tree__ccp_alpha',\n",
              " 'decision_tree__class_weight',\n",
              " 'decision_tree__criterion',\n",
              " 'decision_tree__max_depth',\n",
              " 'decision_tree__max_features',\n",
              " 'decision_tree__max_leaf_nodes',\n",
              " 'decision_tree__min_impurity_decrease',\n",
              " 'decision_tree__min_samples_leaf',\n",
              " 'decision_tree__min_samples_split',\n",
              " 'decision_tree__min_weight_fraction_leaf',\n",
              " 'decision_tree__random_state',\n",
              " 'decision_tree__splitter',\n",
              " 'memory',\n",
              " 'steps',\n",
              " 'transform',\n",
              " 'transform__n_jobs',\n",
              " 'transform__num',\n",
              " 'transform__num__clip',\n",
              " 'transform__num__copy',\n",
              " 'transform__num__feature_range',\n",
              " 'transform__remainder',\n",
              " 'transform__sparse_threshold',\n",
              " 'transform__transformer_weights',\n",
              " 'transform__transformers',\n",
              " 'transform__verbose',\n",
              " 'transform__verbose_feature_names_out',\n",
              " 'verbose']"
            ]
          },
          "metadata": {},
          "execution_count": 80
        }
      ]
    },
    {
      "cell_type": "code",
      "source": [
        "grid_pipeline.fit(X_train, y_train)"
      ],
      "metadata": {
        "colab": {
          "base_uri": "https://localhost:8080/",
          "height": 212
        },
        "id": "JnZON3Er-my_",
        "outputId": "64908d8e-fa04-4bd5-e511-1cdb4b389cd0"
      },
      "execution_count": null,
      "outputs": [
        {
          "output_type": "stream",
          "name": "stdout",
          "text": [
            "Fitting 5 folds for each of 90 candidates, totalling 450 fits\n"
          ]
        },
        {
          "output_type": "execute_result",
          "data": {
            "text/plain": [
              "GridSearchCV(cv=5,\n",
              "             estimator=Pipeline(steps=[('transform',\n",
              "                                        ColumnTransformer(transformers=[('num',\n",
              "                                                                         MinMaxScaler(),\n",
              "                                                                         ['Capacity',\n",
              "                                                                          'Occupancy',\n",
              "                                                                          'PercentFull'])])),\n",
              "                                       ('decision_tree',\n",
              "                                        DecisionTreeClassifier(max_depth=5))]),\n",
              "             param_grid={'decision_tree__ccp_alpha': [0.1, 0.01, 0.001],\n",
              "                         'decision_tree__criterion': ['gini', 'entropy'],\n",
              "                         'decision_tree__max_depth': [5, 6, 7, 8, 9],\n",
              "                         'decision_tree__max_features': ['auto', 'sqrt',\n",
              "                                                         'log2']},\n",
              "             verbose=True)"
            ],
            "text/html": [
              "<style>#sk-1a5c13ac-1bd4-4770-92e7-26a08430a39b {color: black;background-color: white;}#sk-1a5c13ac-1bd4-4770-92e7-26a08430a39b pre{padding: 0;}#sk-1a5c13ac-1bd4-4770-92e7-26a08430a39b div.sk-toggleable {background-color: white;}#sk-1a5c13ac-1bd4-4770-92e7-26a08430a39b label.sk-toggleable__label {cursor: pointer;display: block;width: 100%;margin-bottom: 0;padding: 0.3em;box-sizing: border-box;text-align: center;}#sk-1a5c13ac-1bd4-4770-92e7-26a08430a39b label.sk-toggleable__label-arrow:before {content: \"▸\";float: left;margin-right: 0.25em;color: #696969;}#sk-1a5c13ac-1bd4-4770-92e7-26a08430a39b label.sk-toggleable__label-arrow:hover:before {color: black;}#sk-1a5c13ac-1bd4-4770-92e7-26a08430a39b div.sk-estimator:hover label.sk-toggleable__label-arrow:before {color: black;}#sk-1a5c13ac-1bd4-4770-92e7-26a08430a39b div.sk-toggleable__content {max-height: 0;max-width: 0;overflow: hidden;text-align: left;background-color: #f0f8ff;}#sk-1a5c13ac-1bd4-4770-92e7-26a08430a39b div.sk-toggleable__content pre {margin: 0.2em;color: black;border-radius: 0.25em;background-color: #f0f8ff;}#sk-1a5c13ac-1bd4-4770-92e7-26a08430a39b input.sk-toggleable__control:checked~div.sk-toggleable__content {max-height: 200px;max-width: 100%;overflow: auto;}#sk-1a5c13ac-1bd4-4770-92e7-26a08430a39b input.sk-toggleable__control:checked~label.sk-toggleable__label-arrow:before {content: \"▾\";}#sk-1a5c13ac-1bd4-4770-92e7-26a08430a39b div.sk-estimator input.sk-toggleable__control:checked~label.sk-toggleable__label {background-color: #d4ebff;}#sk-1a5c13ac-1bd4-4770-92e7-26a08430a39b div.sk-label input.sk-toggleable__control:checked~label.sk-toggleable__label {background-color: #d4ebff;}#sk-1a5c13ac-1bd4-4770-92e7-26a08430a39b input.sk-hidden--visually {border: 0;clip: rect(1px 1px 1px 1px);clip: rect(1px, 1px, 1px, 1px);height: 1px;margin: -1px;overflow: hidden;padding: 0;position: absolute;width: 1px;}#sk-1a5c13ac-1bd4-4770-92e7-26a08430a39b div.sk-estimator {font-family: monospace;background-color: #f0f8ff;border: 1px dotted black;border-radius: 0.25em;box-sizing: border-box;margin-bottom: 0.5em;}#sk-1a5c13ac-1bd4-4770-92e7-26a08430a39b div.sk-estimator:hover {background-color: #d4ebff;}#sk-1a5c13ac-1bd4-4770-92e7-26a08430a39b div.sk-parallel-item::after {content: \"\";width: 100%;border-bottom: 1px solid gray;flex-grow: 1;}#sk-1a5c13ac-1bd4-4770-92e7-26a08430a39b div.sk-label:hover label.sk-toggleable__label {background-color: #d4ebff;}#sk-1a5c13ac-1bd4-4770-92e7-26a08430a39b div.sk-serial::before {content: \"\";position: absolute;border-left: 1px solid gray;box-sizing: border-box;top: 2em;bottom: 0;left: 50%;}#sk-1a5c13ac-1bd4-4770-92e7-26a08430a39b div.sk-serial {display: flex;flex-direction: column;align-items: center;background-color: white;padding-right: 0.2em;padding-left: 0.2em;}#sk-1a5c13ac-1bd4-4770-92e7-26a08430a39b div.sk-item {z-index: 1;}#sk-1a5c13ac-1bd4-4770-92e7-26a08430a39b div.sk-parallel {display: flex;align-items: stretch;justify-content: center;background-color: white;}#sk-1a5c13ac-1bd4-4770-92e7-26a08430a39b div.sk-parallel::before {content: \"\";position: absolute;border-left: 1px solid gray;box-sizing: border-box;top: 2em;bottom: 0;left: 50%;}#sk-1a5c13ac-1bd4-4770-92e7-26a08430a39b div.sk-parallel-item {display: flex;flex-direction: column;position: relative;background-color: white;}#sk-1a5c13ac-1bd4-4770-92e7-26a08430a39b div.sk-parallel-item:first-child::after {align-self: flex-end;width: 50%;}#sk-1a5c13ac-1bd4-4770-92e7-26a08430a39b div.sk-parallel-item:last-child::after {align-self: flex-start;width: 50%;}#sk-1a5c13ac-1bd4-4770-92e7-26a08430a39b div.sk-parallel-item:only-child::after {width: 0;}#sk-1a5c13ac-1bd4-4770-92e7-26a08430a39b div.sk-dashed-wrapped {border: 1px dashed gray;margin: 0 0.4em 0.5em 0.4em;box-sizing: border-box;padding-bottom: 0.4em;background-color: white;position: relative;}#sk-1a5c13ac-1bd4-4770-92e7-26a08430a39b div.sk-label label {font-family: monospace;font-weight: bold;background-color: white;display: inline-block;line-height: 1.2em;}#sk-1a5c13ac-1bd4-4770-92e7-26a08430a39b div.sk-label-container {position: relative;z-index: 2;text-align: center;}#sk-1a5c13ac-1bd4-4770-92e7-26a08430a39b div.sk-container {/* jupyter's `normalize.less` sets `[hidden] { display: none; }` but bootstrap.min.css set `[hidden] { display: none !important; }` so we also need the `!important` here to be able to override the default hidden behavior on the sphinx rendered scikit-learn.org. See: https://github.com/scikit-learn/scikit-learn/issues/21755 */display: inline-block !important;position: relative;}#sk-1a5c13ac-1bd4-4770-92e7-26a08430a39b div.sk-text-repr-fallback {display: none;}</style><div id=\"sk-1a5c13ac-1bd4-4770-92e7-26a08430a39b\" class=\"sk-top-container\"><div class=\"sk-text-repr-fallback\"><pre>GridSearchCV(cv=5,\n",
              "             estimator=Pipeline(steps=[(&#x27;transform&#x27;,\n",
              "                                        ColumnTransformer(transformers=[(&#x27;num&#x27;,\n",
              "                                                                         MinMaxScaler(),\n",
              "                                                                         [&#x27;Capacity&#x27;,\n",
              "                                                                          &#x27;Occupancy&#x27;,\n",
              "                                                                          &#x27;PercentFull&#x27;])])),\n",
              "                                       (&#x27;decision_tree&#x27;,\n",
              "                                        DecisionTreeClassifier(max_depth=5))]),\n",
              "             param_grid={&#x27;decision_tree__ccp_alpha&#x27;: [0.1, 0.01, 0.001],\n",
              "                         &#x27;decision_tree__criterion&#x27;: [&#x27;gini&#x27;, &#x27;entropy&#x27;],\n",
              "                         &#x27;decision_tree__max_depth&#x27;: [5, 6, 7, 8, 9],\n",
              "                         &#x27;decision_tree__max_features&#x27;: [&#x27;auto&#x27;, &#x27;sqrt&#x27;,\n",
              "                                                         &#x27;log2&#x27;]},\n",
              "             verbose=True)</pre><b>Please rerun this cell to show the HTML repr or trust the notebook.</b></div><div class=\"sk-container\" hidden><div class=\"sk-item sk-dashed-wrapped\"><div class=\"sk-label-container\"><div class=\"sk-label sk-toggleable\"><input class=\"sk-toggleable__control sk-hidden--visually\" id=\"53462047-aa0d-4af1-83de-5d54804abaac\" type=\"checkbox\" ><label for=\"53462047-aa0d-4af1-83de-5d54804abaac\" class=\"sk-toggleable__label sk-toggleable__label-arrow\">GridSearchCV</label><div class=\"sk-toggleable__content\"><pre>GridSearchCV(cv=5,\n",
              "             estimator=Pipeline(steps=[(&#x27;transform&#x27;,\n",
              "                                        ColumnTransformer(transformers=[(&#x27;num&#x27;,\n",
              "                                                                         MinMaxScaler(),\n",
              "                                                                         [&#x27;Capacity&#x27;,\n",
              "                                                                          &#x27;Occupancy&#x27;,\n",
              "                                                                          &#x27;PercentFull&#x27;])])),\n",
              "                                       (&#x27;decision_tree&#x27;,\n",
              "                                        DecisionTreeClassifier(max_depth=5))]),\n",
              "             param_grid={&#x27;decision_tree__ccp_alpha&#x27;: [0.1, 0.01, 0.001],\n",
              "                         &#x27;decision_tree__criterion&#x27;: [&#x27;gini&#x27;, &#x27;entropy&#x27;],\n",
              "                         &#x27;decision_tree__max_depth&#x27;: [5, 6, 7, 8, 9],\n",
              "                         &#x27;decision_tree__max_features&#x27;: [&#x27;auto&#x27;, &#x27;sqrt&#x27;,\n",
              "                                                         &#x27;log2&#x27;]},\n",
              "             verbose=True)</pre></div></div></div><div class=\"sk-parallel\"><div class=\"sk-parallel-item\"><div class=\"sk-item\"><div class=\"sk-serial\"><div class=\"sk-item\"><div class=\"sk-serial\"><div class=\"sk-item sk-dashed-wrapped\"><div class=\"sk-label-container\"><div class=\"sk-label sk-toggleable\"><input class=\"sk-toggleable__control sk-hidden--visually\" id=\"f73ab913-d1c2-4f30-8cfc-39dd121ee243\" type=\"checkbox\" ><label for=\"f73ab913-d1c2-4f30-8cfc-39dd121ee243\" class=\"sk-toggleable__label sk-toggleable__label-arrow\">transform: ColumnTransformer</label><div class=\"sk-toggleable__content\"><pre>ColumnTransformer(transformers=[(&#x27;num&#x27;, MinMaxScaler(),\n",
              "                                 [&#x27;Capacity&#x27;, &#x27;Occupancy&#x27;, &#x27;PercentFull&#x27;])])</pre></div></div></div><div class=\"sk-parallel\"><div class=\"sk-parallel-item\"><div class=\"sk-item\"><div class=\"sk-label-container\"><div class=\"sk-label sk-toggleable\"><input class=\"sk-toggleable__control sk-hidden--visually\" id=\"aed92e25-2097-4e8c-af1d-698bf8bc3948\" type=\"checkbox\" ><label for=\"aed92e25-2097-4e8c-af1d-698bf8bc3948\" class=\"sk-toggleable__label sk-toggleable__label-arrow\">num</label><div class=\"sk-toggleable__content\"><pre>[&#x27;Capacity&#x27;, &#x27;Occupancy&#x27;, &#x27;PercentFull&#x27;]</pre></div></div></div><div class=\"sk-serial\"><div class=\"sk-item\"><div class=\"sk-estimator sk-toggleable\"><input class=\"sk-toggleable__control sk-hidden--visually\" id=\"9e3fddfa-a15c-4e8a-aad4-bebd105ced34\" type=\"checkbox\" ><label for=\"9e3fddfa-a15c-4e8a-aad4-bebd105ced34\" class=\"sk-toggleable__label sk-toggleable__label-arrow\">MinMaxScaler</label><div class=\"sk-toggleable__content\"><pre>MinMaxScaler()</pre></div></div></div></div></div></div></div></div><div class=\"sk-item\"><div class=\"sk-estimator sk-toggleable\"><input class=\"sk-toggleable__control sk-hidden--visually\" id=\"59b3d8a8-2de3-4b7c-89be-b3955cdbe3a1\" type=\"checkbox\" ><label for=\"59b3d8a8-2de3-4b7c-89be-b3955cdbe3a1\" class=\"sk-toggleable__label sk-toggleable__label-arrow\">DecisionTreeClassifier</label><div class=\"sk-toggleable__content\"><pre>DecisionTreeClassifier(max_depth=5)</pre></div></div></div></div></div></div></div></div></div></div></div></div>"
            ]
          },
          "metadata": {},
          "execution_count": 84
        }
      ]
    },
    {
      "cell_type": "code",
      "source": [
        "y_pred2 = grid_pipeline.predict(X_train)\n",
        "print(mean_squared_error(y_train, y_pred2)**(0.5))"
      ],
      "metadata": {
        "colab": {
          "base_uri": "https://localhost:8080/"
        },
        "id": "_VLhATyIPQWG",
        "outputId": "25666fe3-f8b5-45bc-8d41-93e0138a68a0"
      },
      "execution_count": null,
      "outputs": [
        {
          "output_type": "stream",
          "name": "stdout",
          "text": [
            "0.33922510365257147\n"
          ]
        }
      ]
    },
    {
      "cell_type": "code",
      "source": [
        "grid_pipeline.best_params_"
      ],
      "metadata": {
        "colab": {
          "base_uri": "https://localhost:8080/"
        },
        "id": "mg9NehuePs-5",
        "outputId": "2c790482-1a82-4b17-9bf5-d497d1def4f4"
      },
      "execution_count": null,
      "outputs": [
        {
          "output_type": "execute_result",
          "data": {
            "text/plain": [
              "{'decision_tree__ccp_alpha': 0.1,\n",
              " 'decision_tree__criterion': 'entropy',\n",
              " 'decision_tree__max_depth': 8,\n",
              " 'decision_tree__max_features': 'sqrt'}"
            ]
          },
          "metadata": {},
          "execution_count": 86
        }
      ]
    },
    {
      "cell_type": "code",
      "source": [
        "grid_pipeline.score(X_test, np.ravel(y_test))"
      ],
      "metadata": {
        "colab": {
          "base_uri": "https://localhost:8080/"
        },
        "id": "oW9_YLVYPyGi",
        "outputId": "39f9f12f-400a-4c6a-bd74-18b6f60eb851"
      },
      "execution_count": null,
      "outputs": [
        {
          "output_type": "execute_result",
          "data": {
            "text/plain": [
              "0.8783594624860023"
            ]
          },
          "metadata": {},
          "execution_count": 87
        }
      ]
    },
    {
      "cell_type": "markdown",
      "source": [
        "###Step 7D: Selection and Application of Precision-Recall Curve"
      ],
      "metadata": {
        "id": "RS0NTWwGUbFs"
      }
    },
    {
      "cell_type": "markdown",
      "source": [
        "An ROC curve shows true positive rate as a function of false positive rate, and neither of those exists in the context of regression; so the choice was mad to apply a Precision-Recall Curve."
      ],
      "metadata": {
        "id": "F3BeAEa-UiWe"
      }
    },
    {
      "cell_type": "code",
      "source": [
        "y_pred = grid_pipeline.predict(X_test)\n",
        "precision, recall, thresholds = precision_recall_curve(y_test, y_pred)\n",
        "fig, ax = plt.subplots()\n",
        "ax.plot(recall, precision, color='purple')\n",
        "ax.set_title('Precision-Recall Curve')\n",
        "ax.set_ylabel('Precision')\n",
        "ax.set_xlabel('Recall')\n",
        "plt.show()"
      ],
      "metadata": {
        "colab": {
          "base_uri": "https://localhost:8080/",
          "height": 295
        },
        "id": "8ThbVPPgVGSr",
        "outputId": "b36be7c9-b72e-4cec-9981-d85c2e4aaf75"
      },
      "execution_count": null,
      "outputs": [
        {
          "output_type": "display_data",
          "data": {
            "text/plain": [
              "<Figure size 432x288 with 1 Axes>"
            ],
            "image/png": "[encoded data removed]"
          },
          "metadata": {
            "needs_background": "light"
          }
        }
      ]
    },
    {
      "cell_type": "markdown",
      "source": [
        "The x-axis shows the recall and the y-axis shows the precision for various thresholds. As recall increases, precision decreases -- here, fairly linearly until a dramatic drop at the 0.9 recall mark."
      ],
      "metadata": {
        "id": "J1F4bicFWoUf"
      }
    },
    {
      "cell_type": "markdown",
      "source": [
        "### Step 8: Conclusion\n",
        "The performance measures utilized above show that the Decision Tree model outperforms the Logistic Regression model for classification according to the definition herein of a \"near capacity\" parking facility, although both models performed well.  Testing various Gridsearch parameters for the Decision Tree model yielded interesting results, but no performance increase."
      ],
      "metadata": {
        "id": "3lnXErgPJFde"
      }
    }
  ]
}