{
  "nbformat": 4,
  "nbformat_minor": 0,
  "metadata": {
    "colab": {
      "name": "MLA5_SRB.ipynb",
      "provenance": [],
      "collapsed_sections": [],
      "include_colab_link": true
    },
    "kernelspec": {
      "name": "python3",
      "display_name": "Python 3"
    },
    "language_info": {
      "name": "python"
    }
  },
  "cells": [
    {
      "cell_type": "markdown",
      "metadata": {
        "id": "view-in-github",
        "colab_type": "text"
      },
      "source": [
        "<a href=\"https://colab.research.google.com/github/StevenBlaine/MLA_SRB/blob/main/MLA5_SRB.ipynb\" target=\"_parent\"><img src=\"https://colab.research.google.com/assets/colab-badge.svg\" alt=\"Open In Colab\"/></a>"
      ]
    },
    {
      "cell_type": "markdown",
      "source": [
        "# **Machine Learning Assignment 5** #  \n",
        "**Steven Blaine\n",
        "<br>CS430-ON\n",
        "<br>Machine Learning in the Cloud** "
      ],
      "metadata": {
        "id": "QRwWxyo15l1_"
      }
    },
    {
      "cell_type": "markdown",
      "source": [
        "# Problem 1: Land Satellite Random Forest Classification"
      ],
      "metadata": {
        "id": "IEwYHADfcvId"
      }
    },
    {
      "cell_type": "markdown",
      "source": [
        "## Step 1: Imports"
      ],
      "metadata": {
        "id": "Qy8vsCT0c5QC"
      }
    },
    {
      "cell_type": "markdown",
      "source": [
        "## Standard Imports"
      ],
      "metadata": {
        "id": "Dm3plw0g3ZvL"
      }
    },
    {
      "cell_type": "code",
      "execution_count": null,
      "metadata": {
        "id": "hZQOlQVuibFq"
      },
      "outputs": [],
      "source": [
        "import pandas as pd\n",
        "import numpy as np\n",
        "import matplotlib.pyplot as plt\n",
        "import seaborn as sns\n",
        "%matplotlib inline"
      ]
    },
    {
      "cell_type": "code",
      "source": [
        "from google.colab import drive\n",
        "drive.mount('/content/gdrive')"
      ],
      "metadata": {
        "colab": {
          "base_uri": "https://localhost:8080/"
        },
        "id": "f6C2m_xqin0Y",
        "outputId": "0c3d3e36-1aa3-498b-fd2c-daca23d59c74"
      },
      "execution_count": null,
      "outputs": [
        {
          "output_type": "stream",
          "name": "stdout",
          "text": [
            "Mounted at /content/gdrive\n"
          ]
        }
      ]
    },
    {
      "cell_type": "markdown",
      "source": [
        "## Imports for Specific Models\n",
        "Imports for Ensemble Learning, Random Forests, and Other Classifiers. "
      ],
      "metadata": {
        "id": "UM7SiWOlBzPg"
      }
    },
    {
      "cell_type": "code",
      "source": [
        "from sklearn.ensemble import VotingClassifier\n",
        "from sklearn.ensemble import BaggingClassifier\n",
        "from sklearn.ensemble import RandomForestClassifier\n",
        "from sklearn.ensemble import AdaBoostClassifier\n",
        "\n",
        "from sklearn.neighbors import KNeighborsClassifier\n",
        "from sklearn.linear_model import LogisticRegression\n",
        "from sklearn.svm import SVC\n",
        "from sklearn.tree import DecisionTreeClassifier"
      ],
      "metadata": {
        "id": "xxq5ICIVcaXi"
      },
      "execution_count": null,
      "outputs": []
    },
    {
      "cell_type": "markdown",
      "source": [
        "### Imports for Splitting Data and Building Pipeline\n"
      ],
      "metadata": {
        "id": "-5Akp3i4CPFj"
      }
    },
    {
      "cell_type": "code",
      "source": [
        "from sklearn.model_selection import train_test_split\n",
        "from sklearn.pipeline import Pipeline\n",
        "from sklearn import set_config\n",
        "set_config(display='diagram')\n",
        "from sklearn.compose import ColumnTransformer\n",
        "from sklearn.preprocessing import MinMaxScaler\n",
        "from sklearn.preprocessing import OneHotEncoder\n",
        "from sklearn.preprocessing import StandardScaler"
      ],
      "metadata": {
        "id": "RPkp1dlKqLOT"
      },
      "execution_count": null,
      "outputs": []
    },
    {
      "cell_type": "markdown",
      "source": [
        "### Imports for Performance Measures"
      ],
      "metadata": {
        "id": "JW9kgAGwpww3"
      }
    },
    {
      "cell_type": "code",
      "source": [
        "from sklearn.metrics import confusion_matrix\n",
        "from sklearn.metrics import precision_score, recall_score, f1_score\n",
        "from sklearn.metrics import roc_curve\n",
        "from sklearn.metrics import roc_auc_score\n",
        "from sklearn.metrics import r2_score\n",
        "from sklearn.metrics import mean_squared_error\n",
        "from sklearn.metrics import precision_recall_curve\n",
        "from sklearn.metrics import auc\n",
        "from sklearn.metrics import classification_report\n",
        "from sklearn.metrics import ConfusionMatrixDisplay"
      ],
      "metadata": {
        "id": "N4WwSQlNpw7c"
      },
      "execution_count": null,
      "outputs": []
    },
    {
      "cell_type": "markdown",
      "source": [
        "### Confusion Matrix Function\n",
        "Function for creating a graphical version of the confusion matrix.\n",
        "\n"
      ],
      "metadata": {
        "id": "pWcDpHz0qF_J"
      }
    },
    {
      "cell_type": "code",
      "source": [
        "def plot_cm(y_test, y_pred):\n",
        "    cm = confusion_matrix(y_test,y_pred)\n",
        "    fig = plt.figure(figsize=(10,10))\n",
        "    heatmap = sns.heatmap(cm, annot=True, fmt='.2f', cmap='RdYlGn')\n",
        "    plt.ylabel('True label')\n",
        "    plt.xlabel('Predicted Label')"
      ],
      "metadata": {
        "id": "UyWroVXvp2ZD"
      },
      "execution_count": null,
      "outputs": []
    },
    {
      "cell_type": "markdown",
      "source": [
        "### Straight Line Plot Function"
      ],
      "metadata": {
        "id": "fYHTxcJYqGcP"
      }
    },
    {
      "cell_type": "code",
      "source": [
        "def abline(slope, intercept,color):\n",
        "    axes = plt.gca()\n",
        "    x_vals = np.array(axes.get_xlim())\n",
        "    y_vals = intercept + slope * x_vals\n",
        "    plt.plot(x_vals, y_vals, '--', c=color)"
      ],
      "metadata": {
        "id": "DSTtrdx0qFAU"
      },
      "execution_count": null,
      "outputs": []
    },
    {
      "cell_type": "markdown",
      "source": [
        "### Step 2: Acquire Data (Reading the Data)"
      ],
      "metadata": {
        "id": "PbtwGYpbDQyy"
      }
    },
    {
      "cell_type": "code",
      "source": [
        "landsat_train = pd.read_csv('/content/gdrive/MyDrive/CS430/landsat_train.csv')"
      ],
      "metadata": {
        "id": "OjTNN4gCWPZo"
      },
      "execution_count": null,
      "outputs": []
    },
    {
      "cell_type": "code",
      "source": [
        "landsat_test = pd.read_csv('/content/gdrive/MyDrive/CS430/landsat_test.csv')"
      ],
      "metadata": {
        "id": "vVkUQn2ZcHSe"
      },
      "execution_count": null,
      "outputs": []
    },
    {
      "cell_type": "markdown",
      "source": [
        "### Step 3: Statistical and Visual Exploration"
      ],
      "metadata": {
        "id": "HYTANYVkDbyh"
      }
    },
    {
      "cell_type": "code",
      "source": [
        "landsat_train.describe()"
      ],
      "metadata": {
        "colab": {
          "base_uri": "https://localhost:8080/",
          "height": 393
        },
        "id": "PwdhaMb3glR4",
        "outputId": "d91c957b-ea85-46b5-dea5-ea4d52891f71"
      },
      "execution_count": null,
      "outputs": [
        {
          "output_type": "execute_result",
          "data": {
            "text/plain": [
              "        top_left_r   top_left_g  top_left_infra1  top_left_infra2  \\\n",
              "count  4435.000000  4435.000000      4435.000000      4435.000000   \n",
              "mean     69.473957    83.855242        99.322886        82.555581   \n",
              "std      13.649635    22.725079        16.672166        18.695450   \n",
              "min      40.000000    27.000000        56.000000        33.000000   \n",
              "25%      60.000000    71.000000        85.000000        70.000000   \n",
              "50%      68.000000    87.000000       101.000000        83.000000   \n",
              "75%      80.000000   103.000000       113.000000        92.000000   \n",
              "max     104.000000   137.000000       140.000000       154.000000   \n",
              "\n",
              "       top_middle_r  top_middle_g  top_middle_infra1  top_middle_infra2  \\\n",
              "count   4435.000000   4435.000000        4435.000000        4435.000000   \n",
              "mean      69.208794     83.499436          99.174521          82.480496   \n",
              "std       13.552423     22.811809          16.627583          18.714272   \n",
              "min       40.000000     27.000000          50.000000          29.000000   \n",
              "25%       60.000000     71.000000          85.000000          69.000000   \n",
              "50%       68.000000     85.000000         101.000000          81.000000   \n",
              "75%       80.000000    103.000000         113.000000          92.000000   \n",
              "max      102.000000    137.000000         145.000000         157.000000   \n",
              "\n",
              "       top_right_r  top_right_g  ...  bottom_left_infra2  bottom_middle_r  \\\n",
              "count  4435.000000  4435.000000  ...         4435.000000      4435.000000   \n",
              "mean     68.963472    83.131003  ...           82.673957        69.033145   \n",
              "std      13.497858    22.813312  ...           18.884322        13.533934   \n",
              "min      40.000000    27.000000  ...           34.000000        39.000000   \n",
              "25%      60.000000    71.000000  ...           70.000000        60.000000   \n",
              "50%      67.000000    85.000000  ...           81.000000        68.000000   \n",
              "75%      79.000000   103.000000  ...           92.000000        79.500000   \n",
              "max     104.000000   130.000000  ...          154.000000       104.000000   \n",
              "\n",
              "       bottom_middle_g  bottom_middle_infra1  bottom_middle_infra2  \\\n",
              "count      4435.000000           4435.000000           4435.000000   \n",
              "mean         83.434273             99.183766             82.638106   \n",
              "std          22.812090             16.741240             18.939820   \n",
              "min          27.000000             50.000000             29.000000   \n",
              "25%          71.000000             85.000000             69.000000   \n",
              "50%          85.000000            101.000000             81.000000   \n",
              "75%         103.000000            113.000000             92.000000   \n",
              "max         128.000000            145.000000            157.000000   \n",
              "\n",
              "       bottom_right_r  bottom_right_g  bottom_right_infra1  \\\n",
              "count     4435.000000     4435.000000          4435.000000   \n",
              "mean        68.797069       83.153326            99.061556   \n",
              "std         13.437785       22.762684            16.660735   \n",
              "min         40.000000       27.000000            50.000000   \n",
              "25%         60.000000       71.000000            85.000000   \n",
              "50%         67.000000       85.000000           100.000000   \n",
              "75%         79.000000      103.000000           113.000000   \n",
              "max        104.000000      130.000000           145.000000   \n",
              "\n",
              "       bottom_right_infra2    land_type  \n",
              "count          4435.000000  4435.000000  \n",
              "mean             82.584442     3.650282  \n",
              "std              18.895513     2.217055  \n",
              "min              29.000000     1.000000  \n",
              "25%              69.000000     2.000000  \n",
              "50%              81.000000     3.000000  \n",
              "75%              92.000000     5.000000  \n",
              "max             157.000000     7.000000  \n",
              "\n",
              "[8 rows x 37 columns]"
            ],
            "text/html": [
              "\n",
              "  <div id=\"df-cc056961-8dd2-4b36-b997-c9591670fb23\">\n",
              "    <div class=\"colab-df-container\">\n",
              "      <div>\n",
              "<style scoped>\n",
              "    .dataframe tbody tr th:only-of-type {\n",
              "        vertical-align: middle;\n",
              "    }\n",
              "\n",
              "    .dataframe tbody tr th {\n",
              "        vertical-align: top;\n",
              "    }\n",
              "\n",
              "    .dataframe thead th {\n",
              "        text-align: right;\n",
              "    }\n",
              "</style>\n",
              "<table border=\"1\" class=\"dataframe\">\n",
              "  <thead>\n",
              "    <tr style=\"text-align: right;\">\n",
              "      <th></th>\n",
              "      <th>top_left_r</th>\n",
              "      <th>top_left_g</th>\n",
              "      <th>top_left_infra1</th>\n",
              "      <th>top_left_infra2</th>\n",
              "      <th>top_middle_r</th>\n",
              "      <th>top_middle_g</th>\n",
              "      <th>top_middle_infra1</th>\n",
              "      <th>top_middle_infra2</th>\n",
              "      <th>top_right_r</th>\n",
              "      <th>top_right_g</th>\n",
              "      <th>...</th>\n",
              "      <th>bottom_left_infra2</th>\n",
              "      <th>bottom_middle_r</th>\n",
              "      <th>bottom_middle_g</th>\n",
              "      <th>bottom_middle_infra1</th>\n",
              "      <th>bottom_middle_infra2</th>\n",
              "      <th>bottom_right_r</th>\n",
              "      <th>bottom_right_g</th>\n",
              "      <th>bottom_right_infra1</th>\n",
              "      <th>bottom_right_infra2</th>\n",
              "      <th>land_type</th>\n",
              "    </tr>\n",
              "  </thead>\n",
              "  <tbody>\n",
              "    <tr>\n",
              "      <th>count</th>\n",
              "      <td>4435.000000</td>\n",
              "      <td>4435.000000</td>\n",
              "      <td>4435.000000</td>\n",
              "      <td>4435.000000</td>\n",
              "      <td>4435.000000</td>\n",
              "      <td>4435.000000</td>\n",
              "      <td>4435.000000</td>\n",
              "      <td>4435.000000</td>\n",
              "      <td>4435.000000</td>\n",
              "      <td>4435.000000</td>\n",
              "      <td>...</td>\n",
              "      <td>4435.000000</td>\n",
              "      <td>4435.000000</td>\n",
              "      <td>4435.000000</td>\n",
              "      <td>4435.000000</td>\n",
              "      <td>4435.000000</td>\n",
              "      <td>4435.000000</td>\n",
              "      <td>4435.000000</td>\n",
              "      <td>4435.000000</td>\n",
              "      <td>4435.000000</td>\n",
              "      <td>4435.000000</td>\n",
              "    </tr>\n",
              "    <tr>\n",
              "      <th>mean</th>\n",
              "      <td>69.473957</td>\n",
              "      <td>83.855242</td>\n",
              "      <td>99.322886</td>\n",
              "      <td>82.555581</td>\n",
              "      <td>69.208794</td>\n",
              "      <td>83.499436</td>\n",
              "      <td>99.174521</td>\n",
              "      <td>82.480496</td>\n",
              "      <td>68.963472</td>\n",
              "      <td>83.131003</td>\n",
              "      <td>...</td>\n",
              "      <td>82.673957</td>\n",
              "      <td>69.033145</td>\n",
              "      <td>83.434273</td>\n",
              "      <td>99.183766</td>\n",
              "      <td>82.638106</td>\n",
              "      <td>68.797069</td>\n",
              "      <td>83.153326</td>\n",
              "      <td>99.061556</td>\n",
              "      <td>82.584442</td>\n",
              "      <td>3.650282</td>\n",
              "    </tr>\n",
              "    <tr>\n",
              "      <th>std</th>\n",
              "      <td>13.649635</td>\n",
              "      <td>22.725079</td>\n",
              "      <td>16.672166</td>\n",
              "      <td>18.695450</td>\n",
              "      <td>13.552423</td>\n",
              "      <td>22.811809</td>\n",
              "      <td>16.627583</td>\n",
              "      <td>18.714272</td>\n",
              "      <td>13.497858</td>\n",
              "      <td>22.813312</td>\n",
              "      <td>...</td>\n",
              "      <td>18.884322</td>\n",
              "      <td>13.533934</td>\n",
              "      <td>22.812090</td>\n",
              "      <td>16.741240</td>\n",
              "      <td>18.939820</td>\n",
              "      <td>13.437785</td>\n",
              "      <td>22.762684</td>\n",
              "      <td>16.660735</td>\n",
              "      <td>18.895513</td>\n",
              "      <td>2.217055</td>\n",
              "    </tr>\n",
              "    <tr>\n",
              "      <th>min</th>\n",
              "      <td>40.000000</td>\n",
              "      <td>27.000000</td>\n",
              "      <td>56.000000</td>\n",
              "      <td>33.000000</td>\n",
              "      <td>40.000000</td>\n",
              "      <td>27.000000</td>\n",
              "      <td>50.000000</td>\n",
              "      <td>29.000000</td>\n",
              "      <td>40.000000</td>\n",
              "      <td>27.000000</td>\n",
              "      <td>...</td>\n",
              "      <td>34.000000</td>\n",
              "      <td>39.000000</td>\n",
              "      <td>27.000000</td>\n",
              "      <td>50.000000</td>\n",
              "      <td>29.000000</td>\n",
              "      <td>40.000000</td>\n",
              "      <td>27.000000</td>\n",
              "      <td>50.000000</td>\n",
              "      <td>29.000000</td>\n",
              "      <td>1.000000</td>\n",
              "    </tr>\n",
              "    <tr>\n",
              "      <th>25%</th>\n",
              "      <td>60.000000</td>\n",
              "      <td>71.000000</td>\n",
              "      <td>85.000000</td>\n",
              "      <td>70.000000</td>\n",
              "      <td>60.000000</td>\n",
              "      <td>71.000000</td>\n",
              "      <td>85.000000</td>\n",
              "      <td>69.000000</td>\n",
              "      <td>60.000000</td>\n",
              "      <td>71.000000</td>\n",
              "      <td>...</td>\n",
              "      <td>70.000000</td>\n",
              "      <td>60.000000</td>\n",
              "      <td>71.000000</td>\n",
              "      <td>85.000000</td>\n",
              "      <td>69.000000</td>\n",
              "      <td>60.000000</td>\n",
              "      <td>71.000000</td>\n",
              "      <td>85.000000</td>\n",
              "      <td>69.000000</td>\n",
              "      <td>2.000000</td>\n",
              "    </tr>\n",
              "    <tr>\n",
              "      <th>50%</th>\n",
              "      <td>68.000000</td>\n",
              "      <td>87.000000</td>\n",
              "      <td>101.000000</td>\n",
              "      <td>83.000000</td>\n",
              "      <td>68.000000</td>\n",
              "      <td>85.000000</td>\n",
              "      <td>101.000000</td>\n",
              "      <td>81.000000</td>\n",
              "      <td>67.000000</td>\n",
              "      <td>85.000000</td>\n",
              "      <td>...</td>\n",
              "      <td>81.000000</td>\n",
              "      <td>68.000000</td>\n",
              "      <td>85.000000</td>\n",
              "      <td>101.000000</td>\n",
              "      <td>81.000000</td>\n",
              "      <td>67.000000</td>\n",
              "      <td>85.000000</td>\n",
              "      <td>100.000000</td>\n",
              "      <td>81.000000</td>\n",
              "      <td>3.000000</td>\n",
              "    </tr>\n",
              "    <tr>\n",
              "      <th>75%</th>\n",
              "      <td>80.000000</td>\n",
              "      <td>103.000000</td>\n",
              "      <td>113.000000</td>\n",
              "      <td>92.000000</td>\n",
              "      <td>80.000000</td>\n",
              "      <td>103.000000</td>\n",
              "      <td>113.000000</td>\n",
              "      <td>92.000000</td>\n",
              "      <td>79.000000</td>\n",
              "      <td>103.000000</td>\n",
              "      <td>...</td>\n",
              "      <td>92.000000</td>\n",
              "      <td>79.500000</td>\n",
              "      <td>103.000000</td>\n",
              "      <td>113.000000</td>\n",
              "      <td>92.000000</td>\n",
              "      <td>79.000000</td>\n",
              "      <td>103.000000</td>\n",
              "      <td>113.000000</td>\n",
              "      <td>92.000000</td>\n",
              "      <td>5.000000</td>\n",
              "    </tr>\n",
              "    <tr>\n",
              "      <th>max</th>\n",
              "      <td>104.000000</td>\n",
              "      <td>137.000000</td>\n",
              "      <td>140.000000</td>\n",
              "      <td>154.000000</td>\n",
              "      <td>102.000000</td>\n",
              "      <td>137.000000</td>\n",
              "      <td>145.000000</td>\n",
              "      <td>157.000000</td>\n",
              "      <td>104.000000</td>\n",
              "      <td>130.000000</td>\n",
              "      <td>...</td>\n",
              "      <td>154.000000</td>\n",
              "      <td>104.000000</td>\n",
              "      <td>128.000000</td>\n",
              "      <td>145.000000</td>\n",
              "      <td>157.000000</td>\n",
              "      <td>104.000000</td>\n",
              "      <td>130.000000</td>\n",
              "      <td>145.000000</td>\n",
              "      <td>157.000000</td>\n",
              "      <td>7.000000</td>\n",
              "    </tr>\n",
              "  </tbody>\n",
              "</table>\n",
              "<p>8 rows × 37 columns</p>\n",
              "</div>\n",
              "      <button class=\"colab-df-convert\" onclick=\"convertToInteractive('df-cc056961-8dd2-4b36-b997-c9591670fb23')\"\n",
              "              title=\"Convert this dataframe to an interactive table.\"\n",
              "              style=\"display:none;\">\n",
              "        \n",
              "  <svg xmlns=\"http://www.w3.org/2000/svg\" height=\"24px\"viewBox=\"0 0 24 24\"\n",
              "       width=\"24px\">\n",
              "    <path d=\"M0 0h24v24H0V0z\" fill=\"none\"/>\n",
              "    <path d=\"M18.56 5.44l.94 2.06.94-2.06 2.06-.94-2.06-.94-.94-2.06-.94 2.06-2.06.94zm-11 1L8.5 8.5l.94-2.06 2.06-.94-2.06-.94L8.5 2.5l-.94 2.06-2.06.94zm10 10l.94 2.06.94-2.06 2.06-.94-2.06-.94-.94-2.06-.94 2.06-2.06.94z\"/><path d=\"M17.41 7.96l-1.37-1.37c-.4-.4-.92-.59-1.43-.59-.52 0-1.04.2-1.43.59L10.3 9.45l-7.72 7.72c-.78.78-.78 2.05 0 2.83L4 21.41c.39.39.9.59 1.41.59.51 0 1.02-.2 1.41-.59l7.78-7.78 2.81-2.81c.8-.78.8-2.07 0-2.86zM5.41 20L4 18.59l7.72-7.72 1.47 1.35L5.41 20z\"/>\n",
              "  </svg>\n",
              "      </button>\n",
              "      \n",
              "  <style>\n",
              "    .colab-df-container {\n",
              "      display:flex;\n",
              "      flex-wrap:wrap;\n",
              "      gap: 12px;\n",
              "    }\n",
              "\n",
              "    .colab-df-convert {\n",
              "      background-color: #E8F0FE;\n",
              "      border: none;\n",
              "      border-radius: 50%;\n",
              "      cursor: pointer;\n",
              "      display: none;\n",
              "      fill: #1967D2;\n",
              "      height: 32px;\n",
              "      padding: 0 0 0 0;\n",
              "      width: 32px;\n",
              "    }\n",
              "\n",
              "    .colab-df-convert:hover {\n",
              "      background-color: #E2EBFA;\n",
              "      box-shadow: 0px 1px 2px rgba(60, 64, 67, 0.3), 0px 1px 3px 1px rgba(60, 64, 67, 0.15);\n",
              "      fill: #174EA6;\n",
              "    }\n",
              "\n",
              "    [theme=dark] .colab-df-convert {\n",
              "      background-color: #3B4455;\n",
              "      fill: #D2E3FC;\n",
              "    }\n",
              "\n",
              "    [theme=dark] .colab-df-convert:hover {\n",
              "      background-color: #434B5C;\n",
              "      box-shadow: 0px 1px 3px 1px rgba(0, 0, 0, 0.15);\n",
              "      filter: drop-shadow(0px 1px 2px rgba(0, 0, 0, 0.3));\n",
              "      fill: #FFFFFF;\n",
              "    }\n",
              "  </style>\n",
              "\n",
              "      <script>\n",
              "        const buttonEl =\n",
              "          document.querySelector('#df-cc056961-8dd2-4b36-b997-c9591670fb23 button.colab-df-convert');\n",
              "        buttonEl.style.display =\n",
              "          google.colab.kernel.accessAllowed ? 'block' : 'none';\n",
              "\n",
              "        async function convertToInteractive(key) {\n",
              "          const element = document.querySelector('#df-cc056961-8dd2-4b36-b997-c9591670fb23');\n",
              "          const dataTable =\n",
              "            await google.colab.kernel.invokeFunction('convertToInteractive',\n",
              "                                                     [key], {});\n",
              "          if (!dataTable) return;\n",
              "\n",
              "          const docLinkHtml = 'Like what you see? Visit the ' +\n",
              "            '<a target=\"_blank\" href=https://colab.research.google.com/notebooks/data_table.ipynb>data table notebook</a>'\n",
              "            + ' to learn more about interactive tables.';\n",
              "          element.innerHTML = '';\n",
              "          dataTable['output_type'] = 'display_data';\n",
              "          await google.colab.output.renderOutput(dataTable, element);\n",
              "          const docLink = document.createElement('div');\n",
              "          docLink.innerHTML = docLinkHtml;\n",
              "          element.appendChild(docLink);\n",
              "        }\n",
              "      </script>\n",
              "    </div>\n",
              "  </div>\n",
              "  "
            ]
          },
          "metadata": {},
          "execution_count": 25
        }
      ]
    },
    {
      "cell_type": "code",
      "source": [
        "landsat_test.describe()"
      ],
      "metadata": {
        "colab": {
          "base_uri": "https://localhost:8080/",
          "height": 393
        },
        "id": "HN_f6OfpoxG1",
        "outputId": "ffbff6ac-c5fa-46aa-cdfc-25679e28546f"
      },
      "execution_count": null,
      "outputs": [
        {
          "output_type": "execute_result",
          "data": {
            "text/plain": [
              "        top_left_r   top_left_g  top_left_infra1  top_left_infra2  \\\n",
              "count  2000.000000  2000.000000      2000.000000      2000.000000   \n",
              "mean     69.236000    83.017500        99.219000        82.675000   \n",
              "std      13.510276    23.222249        16.591585        19.343047   \n",
              "min      39.000000    27.000000        53.000000        34.000000   \n",
              "25%      60.000000    71.000000        85.000000        68.000000   \n",
              "50%      68.000000    87.000000       101.000000        81.000000   \n",
              "75%      80.000000   103.000000       113.000000        92.000000   \n",
              "max     101.000000   132.000000       139.000000       151.000000   \n",
              "\n",
              "       top_middle_r  top_middle_g  top_middle_infra1  top_middle_infra2  \\\n",
              "count   2000.000000   2000.000000        2000.000000        2000.000000   \n",
              "mean      69.020500     82.676000          98.969000          82.534000   \n",
              "std       13.583127     23.046835          16.748053          19.438796   \n",
              "min       39.000000     27.000000          53.000000          34.000000   \n",
              "25%       60.000000     71.000000          85.000000          68.000000   \n",
              "50%       68.000000     85.000000         100.000000          81.000000   \n",
              "75%       79.000000    102.000000         112.000000          92.000000   \n",
              "max      104.000000    126.000000         139.000000         151.000000   \n",
              "\n",
              "       top_right_r  top_right_g  ...  bottom_left_infra2  bottom_middle_r  \\\n",
              "count  2000.000000  2000.000000  ...         2000.000000      2000.000000   \n",
              "mean     68.799000    82.365500  ...           82.631000        68.746500   \n",
              "std      13.412626    22.967339  ...           19.231062        13.402016   \n",
              "min      40.000000    27.000000  ...           29.000000        40.000000   \n",
              "25%      60.000000    71.000000  ...           69.000000        60.000000   \n",
              "50%      68.000000    84.500000  ...           81.000000        67.500000   \n",
              "75%      79.000000   100.000000  ...           92.000000        79.000000   \n",
              "max     101.000000   121.000000  ...          151.000000       101.000000   \n",
              "\n",
              "       bottom_middle_g  bottom_middle_infra1  bottom_middle_infra2  \\\n",
              "count      2000.000000           2000.000000           2000.000000   \n",
              "mean         82.505500             98.952500             82.573500   \n",
              "std          22.917604             16.625175             19.276628   \n",
              "min          27.000000             53.000000             34.000000   \n",
              "25%          71.000000             85.000000             69.000000   \n",
              "50%          84.000000            100.000000             81.000000   \n",
              "75%         102.000000            113.000000             92.000000   \n",
              "max         130.000000            139.000000            151.000000   \n",
              "\n",
              "       bottom_right_r  bottom_right_g  bottom_right_infra1  \\\n",
              "count     2000.000000     2000.000000          2000.000000   \n",
              "mean        68.573500       82.206000            98.625500   \n",
              "std         13.323076       22.929074            16.772564   \n",
              "min         39.000000       27.000000            56.000000   \n",
              "25%         60.000000       71.000000            85.000000   \n",
              "50%         68.000000       84.000000           100.000000   \n",
              "75%         78.000000      102.000000           113.000000   \n",
              "max        101.000000      127.000000           139.000000   \n",
              "\n",
              "       bottom_right_infra2    land_type  \n",
              "count          2000.000000  2000.000000  \n",
              "mean             82.330000     3.709500  \n",
              "std              19.405318     2.207384  \n",
              "min              41.000000     1.000000  \n",
              "25%              68.000000     2.000000  \n",
              "50%              81.000000     3.000000  \n",
              "75%              92.000000     5.000000  \n",
              "max             151.000000     7.000000  \n",
              "\n",
              "[8 rows x 37 columns]"
            ],
            "text/html": [
              "\n",
              "  <div id=\"df-dfd14434-330e-4a98-9fd7-ead08e615919\">\n",
              "    <div class=\"colab-df-container\">\n",
              "      <div>\n",
              "<style scoped>\n",
              "    .dataframe tbody tr th:only-of-type {\n",
              "        vertical-align: middle;\n",
              "    }\n",
              "\n",
              "    .dataframe tbody tr th {\n",
              "        vertical-align: top;\n",
              "    }\n",
              "\n",
              "    .dataframe thead th {\n",
              "        text-align: right;\n",
              "    }\n",
              "</style>\n",
              "<table border=\"1\" class=\"dataframe\">\n",
              "  <thead>\n",
              "    <tr style=\"text-align: right;\">\n",
              "      <th></th>\n",
              "      <th>top_left_r</th>\n",
              "      <th>top_left_g</th>\n",
              "      <th>top_left_infra1</th>\n",
              "      <th>top_left_infra2</th>\n",
              "      <th>top_middle_r</th>\n",
              "      <th>top_middle_g</th>\n",
              "      <th>top_middle_infra1</th>\n",
              "      <th>top_middle_infra2</th>\n",
              "      <th>top_right_r</th>\n",
              "      <th>top_right_g</th>\n",
              "      <th>...</th>\n",
              "      <th>bottom_left_infra2</th>\n",
              "      <th>bottom_middle_r</th>\n",
              "      <th>bottom_middle_g</th>\n",
              "      <th>bottom_middle_infra1</th>\n",
              "      <th>bottom_middle_infra2</th>\n",
              "      <th>bottom_right_r</th>\n",
              "      <th>bottom_right_g</th>\n",
              "      <th>bottom_right_infra1</th>\n",
              "      <th>bottom_right_infra2</th>\n",
              "      <th>land_type</th>\n",
              "    </tr>\n",
              "  </thead>\n",
              "  <tbody>\n",
              "    <tr>\n",
              "      <th>count</th>\n",
              "      <td>2000.000000</td>\n",
              "      <td>2000.000000</td>\n",
              "      <td>2000.000000</td>\n",
              "      <td>2000.000000</td>\n",
              "      <td>2000.000000</td>\n",
              "      <td>2000.000000</td>\n",
              "      <td>2000.000000</td>\n",
              "      <td>2000.000000</td>\n",
              "      <td>2000.000000</td>\n",
              "      <td>2000.000000</td>\n",
              "      <td>...</td>\n",
              "      <td>2000.000000</td>\n",
              "      <td>2000.000000</td>\n",
              "      <td>2000.000000</td>\n",
              "      <td>2000.000000</td>\n",
              "      <td>2000.000000</td>\n",
              "      <td>2000.000000</td>\n",
              "      <td>2000.000000</td>\n",
              "      <td>2000.000000</td>\n",
              "      <td>2000.000000</td>\n",
              "      <td>2000.000000</td>\n",
              "    </tr>\n",
              "    <tr>\n",
              "      <th>mean</th>\n",
              "      <td>69.236000</td>\n",
              "      <td>83.017500</td>\n",
              "      <td>99.219000</td>\n",
              "      <td>82.675000</td>\n",
              "      <td>69.020500</td>\n",
              "      <td>82.676000</td>\n",
              "      <td>98.969000</td>\n",
              "      <td>82.534000</td>\n",
              "      <td>68.799000</td>\n",
              "      <td>82.365500</td>\n",
              "      <td>...</td>\n",
              "      <td>82.631000</td>\n",
              "      <td>68.746500</td>\n",
              "      <td>82.505500</td>\n",
              "      <td>98.952500</td>\n",
              "      <td>82.573500</td>\n",
              "      <td>68.573500</td>\n",
              "      <td>82.206000</td>\n",
              "      <td>98.625500</td>\n",
              "      <td>82.330000</td>\n",
              "      <td>3.709500</td>\n",
              "    </tr>\n",
              "    <tr>\n",
              "      <th>std</th>\n",
              "      <td>13.510276</td>\n",
              "      <td>23.222249</td>\n",
              "      <td>16.591585</td>\n",
              "      <td>19.343047</td>\n",
              "      <td>13.583127</td>\n",
              "      <td>23.046835</td>\n",
              "      <td>16.748053</td>\n",
              "      <td>19.438796</td>\n",
              "      <td>13.412626</td>\n",
              "      <td>22.967339</td>\n",
              "      <td>...</td>\n",
              "      <td>19.231062</td>\n",
              "      <td>13.402016</td>\n",
              "      <td>22.917604</td>\n",
              "      <td>16.625175</td>\n",
              "      <td>19.276628</td>\n",
              "      <td>13.323076</td>\n",
              "      <td>22.929074</td>\n",
              "      <td>16.772564</td>\n",
              "      <td>19.405318</td>\n",
              "      <td>2.207384</td>\n",
              "    </tr>\n",
              "    <tr>\n",
              "      <th>min</th>\n",
              "      <td>39.000000</td>\n",
              "      <td>27.000000</td>\n",
              "      <td>53.000000</td>\n",
              "      <td>34.000000</td>\n",
              "      <td>39.000000</td>\n",
              "      <td>27.000000</td>\n",
              "      <td>53.000000</td>\n",
              "      <td>34.000000</td>\n",
              "      <td>40.000000</td>\n",
              "      <td>27.000000</td>\n",
              "      <td>...</td>\n",
              "      <td>29.000000</td>\n",
              "      <td>40.000000</td>\n",
              "      <td>27.000000</td>\n",
              "      <td>53.000000</td>\n",
              "      <td>34.000000</td>\n",
              "      <td>39.000000</td>\n",
              "      <td>27.000000</td>\n",
              "      <td>56.000000</td>\n",
              "      <td>41.000000</td>\n",
              "      <td>1.000000</td>\n",
              "    </tr>\n",
              "    <tr>\n",
              "      <th>25%</th>\n",
              "      <td>60.000000</td>\n",
              "      <td>71.000000</td>\n",
              "      <td>85.000000</td>\n",
              "      <td>68.000000</td>\n",
              "      <td>60.000000</td>\n",
              "      <td>71.000000</td>\n",
              "      <td>85.000000</td>\n",
              "      <td>68.000000</td>\n",
              "      <td>60.000000</td>\n",
              "      <td>71.000000</td>\n",
              "      <td>...</td>\n",
              "      <td>69.000000</td>\n",
              "      <td>60.000000</td>\n",
              "      <td>71.000000</td>\n",
              "      <td>85.000000</td>\n",
              "      <td>69.000000</td>\n",
              "      <td>60.000000</td>\n",
              "      <td>71.000000</td>\n",
              "      <td>85.000000</td>\n",
              "      <td>68.000000</td>\n",
              "      <td>2.000000</td>\n",
              "    </tr>\n",
              "    <tr>\n",
              "      <th>50%</th>\n",
              "      <td>68.000000</td>\n",
              "      <td>87.000000</td>\n",
              "      <td>101.000000</td>\n",
              "      <td>81.000000</td>\n",
              "      <td>68.000000</td>\n",
              "      <td>85.000000</td>\n",
              "      <td>100.000000</td>\n",
              "      <td>81.000000</td>\n",
              "      <td>68.000000</td>\n",
              "      <td>84.500000</td>\n",
              "      <td>...</td>\n",
              "      <td>81.000000</td>\n",
              "      <td>67.500000</td>\n",
              "      <td>84.000000</td>\n",
              "      <td>100.000000</td>\n",
              "      <td>81.000000</td>\n",
              "      <td>68.000000</td>\n",
              "      <td>84.000000</td>\n",
              "      <td>100.000000</td>\n",
              "      <td>81.000000</td>\n",
              "      <td>3.000000</td>\n",
              "    </tr>\n",
              "    <tr>\n",
              "      <th>75%</th>\n",
              "      <td>80.000000</td>\n",
              "      <td>103.000000</td>\n",
              "      <td>113.000000</td>\n",
              "      <td>92.000000</td>\n",
              "      <td>79.000000</td>\n",
              "      <td>102.000000</td>\n",
              "      <td>112.000000</td>\n",
              "      <td>92.000000</td>\n",
              "      <td>79.000000</td>\n",
              "      <td>100.000000</td>\n",
              "      <td>...</td>\n",
              "      <td>92.000000</td>\n",
              "      <td>79.000000</td>\n",
              "      <td>102.000000</td>\n",
              "      <td>113.000000</td>\n",
              "      <td>92.000000</td>\n",
              "      <td>78.000000</td>\n",
              "      <td>102.000000</td>\n",
              "      <td>113.000000</td>\n",
              "      <td>92.000000</td>\n",
              "      <td>5.000000</td>\n",
              "    </tr>\n",
              "    <tr>\n",
              "      <th>max</th>\n",
              "      <td>101.000000</td>\n",
              "      <td>132.000000</td>\n",
              "      <td>139.000000</td>\n",
              "      <td>151.000000</td>\n",
              "      <td>104.000000</td>\n",
              "      <td>126.000000</td>\n",
              "      <td>139.000000</td>\n",
              "      <td>151.000000</td>\n",
              "      <td>101.000000</td>\n",
              "      <td>121.000000</td>\n",
              "      <td>...</td>\n",
              "      <td>151.000000</td>\n",
              "      <td>101.000000</td>\n",
              "      <td>130.000000</td>\n",
              "      <td>139.000000</td>\n",
              "      <td>151.000000</td>\n",
              "      <td>101.000000</td>\n",
              "      <td>127.000000</td>\n",
              "      <td>139.000000</td>\n",
              "      <td>151.000000</td>\n",
              "      <td>7.000000</td>\n",
              "    </tr>\n",
              "  </tbody>\n",
              "</table>\n",
              "<p>8 rows × 37 columns</p>\n",
              "</div>\n",
              "      <button class=\"colab-df-convert\" onclick=\"convertToInteractive('df-dfd14434-330e-4a98-9fd7-ead08e615919')\"\n",
              "              title=\"Convert this dataframe to an interactive table.\"\n",
              "              style=\"display:none;\">\n",
              "        \n",
              "  <svg xmlns=\"http://www.w3.org/2000/svg\" height=\"24px\"viewBox=\"0 0 24 24\"\n",
              "       width=\"24px\">\n",
              "    <path d=\"M0 0h24v24H0V0z\" fill=\"none\"/>\n",
              "    <path d=\"M18.56 5.44l.94 2.06.94-2.06 2.06-.94-2.06-.94-.94-2.06-.94 2.06-2.06.94zm-11 1L8.5 8.5l.94-2.06 2.06-.94-2.06-.94L8.5 2.5l-.94 2.06-2.06.94zm10 10l.94 2.06.94-2.06 2.06-.94-2.06-.94-.94-2.06-.94 2.06-2.06.94z\"/><path d=\"M17.41 7.96l-1.37-1.37c-.4-.4-.92-.59-1.43-.59-.52 0-1.04.2-1.43.59L10.3 9.45l-7.72 7.72c-.78.78-.78 2.05 0 2.83L4 21.41c.39.39.9.59 1.41.59.51 0 1.02-.2 1.41-.59l7.78-7.78 2.81-2.81c.8-.78.8-2.07 0-2.86zM5.41 20L4 18.59l7.72-7.72 1.47 1.35L5.41 20z\"/>\n",
              "  </svg>\n",
              "      </button>\n",
              "      \n",
              "  <style>\n",
              "    .colab-df-container {\n",
              "      display:flex;\n",
              "      flex-wrap:wrap;\n",
              "      gap: 12px;\n",
              "    }\n",
              "\n",
              "    .colab-df-convert {\n",
              "      background-color: #E8F0FE;\n",
              "      border: none;\n",
              "      border-radius: 50%;\n",
              "      cursor: pointer;\n",
              "      display: none;\n",
              "      fill: #1967D2;\n",
              "      height: 32px;\n",
              "      padding: 0 0 0 0;\n",
              "      width: 32px;\n",
              "    }\n",
              "\n",
              "    .colab-df-convert:hover {\n",
              "      background-color: #E2EBFA;\n",
              "      box-shadow: 0px 1px 2px rgba(60, 64, 67, 0.3), 0px 1px 3px 1px rgba(60, 64, 67, 0.15);\n",
              "      fill: #174EA6;\n",
              "    }\n",
              "\n",
              "    [theme=dark] .colab-df-convert {\n",
              "      background-color: #3B4455;\n",
              "      fill: #D2E3FC;\n",
              "    }\n",
              "\n",
              "    [theme=dark] .colab-df-convert:hover {\n",
              "      background-color: #434B5C;\n",
              "      box-shadow: 0px 1px 3px 1px rgba(0, 0, 0, 0.15);\n",
              "      filter: drop-shadow(0px 1px 2px rgba(0, 0, 0, 0.3));\n",
              "      fill: #FFFFFF;\n",
              "    }\n",
              "  </style>\n",
              "\n",
              "      <script>\n",
              "        const buttonEl =\n",
              "          document.querySelector('#df-dfd14434-330e-4a98-9fd7-ead08e615919 button.colab-df-convert');\n",
              "        buttonEl.style.display =\n",
              "          google.colab.kernel.accessAllowed ? 'block' : 'none';\n",
              "\n",
              "        async function convertToInteractive(key) {\n",
              "          const element = document.querySelector('#df-dfd14434-330e-4a98-9fd7-ead08e615919');\n",
              "          const dataTable =\n",
              "            await google.colab.kernel.invokeFunction('convertToInteractive',\n",
              "                                                     [key], {});\n",
              "          if (!dataTable) return;\n",
              "\n",
              "          const docLinkHtml = 'Like what you see? Visit the ' +\n",
              "            '<a target=\"_blank\" href=https://colab.research.google.com/notebooks/data_table.ipynb>data table notebook</a>'\n",
              "            + ' to learn more about interactive tables.';\n",
              "          element.innerHTML = '';\n",
              "          dataTable['output_type'] = 'display_data';\n",
              "          await google.colab.output.renderOutput(dataTable, element);\n",
              "          const docLink = document.createElement('div');\n",
              "          docLink.innerHTML = docLinkHtml;\n",
              "          element.appendChild(docLink);\n",
              "        }\n",
              "      </script>\n",
              "    </div>\n",
              "  </div>\n",
              "  "
            ]
          },
          "metadata": {},
          "execution_count": 32
        }
      ]
    },
    {
      "cell_type": "markdown",
      "source": [
        "Bar plots displaying number of land types."
      ],
      "metadata": {
        "id": "4oOyjQXSWe6P"
      }
    },
    {
      "cell_type": "code",
      "source": [
        "landsat_train2 = landsat_train.land_type.value_counts()"
      ],
      "metadata": {
        "id": "Kv5UA21YoFvj"
      },
      "execution_count": null,
      "outputs": []
    },
    {
      "cell_type": "code",
      "source": [
        "landsat_train2.plot(kind = 'bar', x = 'land_type', title = 'Landsat Train Land Types', figsize=(10,5)).legend(loc='upper right')"
      ],
      "metadata": {
        "colab": {
          "base_uri": "https://localhost:8080/",
          "height": 349
        },
        "id": "mZqrio-fagkx",
        "outputId": "8df145b8-eff4-4e0d-81e8-0ec709a812d9"
      },
      "execution_count": null,
      "outputs": [
        {
          "output_type": "execute_result",
          "data": {
            "text/plain": [
              "<matplotlib.legend.Legend at 0x7f47bc4e8cd0>"
            ]
          },
          "metadata": {},
          "execution_count": 29
        },
        {
          "output_type": "display_data",
          "data": {
            "text/plain": [
              "<Figure size 720x360 with 1 Axes>"
            ],
            "image/png": "[encoded data removed]"
          },
          "metadata": {
            "needs_background": "light"
          }
        }
      ]
    },
    {
      "cell_type": "code",
      "source": [
        "landsat_test2 = landsat_test.land_type.value_counts()"
      ],
      "metadata": {
        "id": "_6_X2E_GoYO2"
      },
      "execution_count": null,
      "outputs": []
    },
    {
      "cell_type": "code",
      "source": [
        "landsat_test2.plot(kind = 'bar', x = 'land_type', title = 'Landsat Test Land Types', figsize=(10,5)).legend(loc='upper right')"
      ],
      "metadata": {
        "colab": {
          "base_uri": "https://localhost:8080/",
          "height": 349
        },
        "id": "81wphZcboeXL",
        "outputId": "85f0484d-d9d9-4441-aaa5-aa762a1d24e1"
      },
      "execution_count": null,
      "outputs": [
        {
          "output_type": "execute_result",
          "data": {
            "text/plain": [
              "<matplotlib.legend.Legend at 0x7f47bc356f90>"
            ]
          },
          "metadata": {},
          "execution_count": 31
        },
        {
          "output_type": "display_data",
          "data": {
            "text/plain": [
              "<Figure size 720x360 with 1 Axes>"
            ],
            "image/png": "[encoded data removed]"
          },
          "metadata": {
            "needs_background": "light"
          }
        }
      ]
    },
    {
      "cell_type": "markdown",
      "source": [
        "### Step 4: Further Splitting the Data"
      ],
      "metadata": {
        "id": "FhtpEB4SEzSx"
      }
    },
    {
      "cell_type": "markdown",
      "source": [
        "Creating X DataFrames."
      ],
      "metadata": {
        "id": "b2DfZbXVoyGY"
      }
    },
    {
      "cell_type": "code",
      "source": [
        "X_train = landsat_train.iloc[:,0:-1]"
      ],
      "metadata": {
        "id": "Ybl2-5cko5t_"
      },
      "execution_count": null,
      "outputs": []
    },
    {
      "cell_type": "code",
      "source": [
        "X_test = landsat_test.iloc[:,0:-1]"
      ],
      "metadata": {
        "id": "qzW9GEe-plum"
      },
      "execution_count": null,
      "outputs": []
    },
    {
      "cell_type": "markdown",
      "source": [
        "Creating y DataFrames. "
      ],
      "metadata": {
        "id": "9cOjP2VLo7Xf"
      }
    },
    {
      "cell_type": "code",
      "source": [
        "y_train = landsat_train[['land_type']]"
      ],
      "metadata": {
        "id": "JQgv60L0psdc"
      },
      "execution_count": null,
      "outputs": []
    },
    {
      "cell_type": "code",
      "source": [
        "y_test = landsat_test[['land_type']]"
      ],
      "metadata": {
        "id": "I5SAeU8op3O2"
      },
      "execution_count": null,
      "outputs": []
    },
    {
      "cell_type": "markdown",
      "source": [
        "### Step 5: Building the Pipeline"
      ],
      "metadata": {
        "id": "jPvXk_mdEJdg"
      }
    },
    {
      "cell_type": "markdown",
      "source": [
        "Creating column transformer that will MinMax scale numerical variables."
      ],
      "metadata": {
        "id": "AyGqkiYHqrlI"
      }
    },
    {
      "cell_type": "code",
      "source": [
        "num_attribs = ['top_left_r',\n",
        " 'top_left_g',\n",
        " 'top_left_infra1',\n",
        " 'top_left_infra2',\n",
        " 'top_middle_r',\n",
        " 'top_middle_g',\n",
        " 'top_middle_infra1',\n",
        " 'top_middle_infra2',\n",
        " 'top_right_r',\n",
        " 'top_right_g',\n",
        " 'top_right_infra1',\n",
        " 'top_right_infra2',\n",
        " 'middle_left_r',\n",
        " 'middle_left_g',\n",
        " 'middle_left_infra1',\n",
        " 'middle_left_infra2',\n",
        " 'central_pixel_r',\n",
        " 'central_pixel_g',\n",
        " 'central_pixel_infra1',\n",
        " 'central_pixel_infra2',\n",
        " 'middle_right_r',\n",
        " 'middle_right_g',\n",
        " 'middle_right_infra1',\n",
        " 'middle_right_infra2',\n",
        " 'bottom_left_r',\n",
        " 'bottom_left_g',\n",
        " 'bottom_left_infra1',\n",
        " 'bottom_left_infra2',\n",
        " 'bottom_middle_r',\n",
        " 'bottom_middle_g',\n",
        " 'bottom_middle_infra1',\n",
        " 'bottom_middle_infra2',\n",
        " 'bottom_right_r',\n",
        " 'bottom_right_g',\n",
        " 'bottom_right_infra1',\n",
        " 'bottom_right_infra2']"
      ],
      "metadata": {
        "id": "psGTpZKJqw30"
      },
      "execution_count": null,
      "outputs": []
    },
    {
      "cell_type": "code",
      "source": [
        "cat_attribs = ['land_type']"
      ],
      "metadata": {
        "id": "FRRdCxGztk_S"
      },
      "execution_count": null,
      "outputs": []
    },
    {
      "cell_type": "code",
      "source": [
        "col_transform = ColumnTransformer(transformers=[\n",
        "                               ('num',MinMaxScaler(),num_attribs)], \n",
        "                               remainder='passthrough')"
      ],
      "metadata": {
        "id": "YvjD8LyHrWIQ"
      },
      "execution_count": null,
      "outputs": []
    },
    {
      "cell_type": "markdown",
      "source": [
        "Creating pipeline that will transform the data and run a Decision Tree Classification algorithm.\n"
      ],
      "metadata": {
        "id": "IwjbBwvhtiu6"
      }
    },
    {
      "cell_type": "code",
      "source": [
        "random_forest = Pipeline([\n",
        "                     ('transform', col_transform),\n",
        "                     ('rf', RandomForestClassifier(n_estimators=1000, max_samples=4000, bootstrap=True, n_jobs=-1))\n",
        "                     ])"
      ],
      "metadata": {
        "id": "HoNlnW0utiIG"
      },
      "execution_count": null,
      "outputs": []
    },
    {
      "cell_type": "markdown",
      "source": [
        "### Step 6: Executing the Model"
      ],
      "metadata": {
        "id": "BVPNHS8Wublh"
      }
    },
    {
      "cell_type": "code",
      "source": [
        "random_forest"
      ],
      "metadata": {
        "colab": {
          "base_uri": "https://localhost:8080/",
          "height": 193
        },
        "id": "QBW3N_dZtwWq",
        "outputId": "d467a058-fe25-450a-a9f0-3781f0aa391a"
      },
      "execution_count": null,
      "outputs": [
        {
          "output_type": "execute_result",
          "data": {
            "text/plain": [
              "Pipeline(steps=[('transform',\n",
              "                 ColumnTransformer(remainder='passthrough',\n",
              "                                   transformers=[('num', MinMaxScaler(),\n",
              "                                                  ['top_left_r', 'top_left_g',\n",
              "                                                   'top_left_infra1',\n",
              "                                                   'top_left_infra2',\n",
              "                                                   'top_middle_r',\n",
              "                                                   'top_middle_g',\n",
              "                                                   'top_middle_infra1',\n",
              "                                                   'top_middle_infra2',\n",
              "                                                   'top_right_r', 'top_right_g',\n",
              "                                                   'top_right_infra1',\n",
              "                                                   'top_right_infra2',\n",
              "                                                   'middle_left_r',\n",
              "                                                   'middle_left_g',\n",
              "                                                   'middle_left...\n",
              "                                                   'central_pixel_r',\n",
              "                                                   'central_pixel_g',\n",
              "                                                   'central_pixel_infra1',\n",
              "                                                   'central_pixel_infra2',\n",
              "                                                   'middle_right_r',\n",
              "                                                   'middle_right_g',\n",
              "                                                   'middle_right_infra1',\n",
              "                                                   'middle_right_infra2',\n",
              "                                                   'bottom_left_r',\n",
              "                                                   'bottom_left_g',\n",
              "                                                   'bottom_left_infra1',\n",
              "                                                   'bottom_left_infra2',\n",
              "                                                   'bottom_middle_r',\n",
              "                                                   'bottom_middle_g', ...])])),\n",
              "                ('rf',\n",
              "                 RandomForestClassifier(max_samples=4000, n_estimators=1000,\n",
              "                                        n_jobs=-1))])"
            ],
            "text/html": [
              "<style>#sk-fdce33bd-3266-4c58-a5fc-80c4eaf290ef {color: black;background-color: white;}#sk-fdce33bd-3266-4c58-a5fc-80c4eaf290ef pre{padding: 0;}#sk-fdce33bd-3266-4c58-a5fc-80c4eaf290ef div.sk-toggleable {background-color: white;}#sk-fdce33bd-3266-4c58-a5fc-80c4eaf290ef label.sk-toggleable__label {cursor: pointer;display: block;width: 100%;margin-bottom: 0;padding: 0.3em;box-sizing: border-box;text-align: center;}#sk-fdce33bd-3266-4c58-a5fc-80c4eaf290ef label.sk-toggleable__label-arrow:before {content: \"▸\";float: left;margin-right: 0.25em;color: #696969;}#sk-fdce33bd-3266-4c58-a5fc-80c4eaf290ef label.sk-toggleable__label-arrow:hover:before {color: black;}#sk-fdce33bd-3266-4c58-a5fc-80c4eaf290ef div.sk-estimator:hover label.sk-toggleable__label-arrow:before {color: black;}#sk-fdce33bd-3266-4c58-a5fc-80c4eaf290ef div.sk-toggleable__content {max-height: 0;max-width: 0;overflow: hidden;text-align: left;background-color: #f0f8ff;}#sk-fdce33bd-3266-4c58-a5fc-80c4eaf290ef div.sk-toggleable__content pre {margin: 0.2em;color: black;border-radius: 0.25em;background-color: #f0f8ff;}#sk-fdce33bd-3266-4c58-a5fc-80c4eaf290ef input.sk-toggleable__control:checked~div.sk-toggleable__content {max-height: 200px;max-width: 100%;overflow: auto;}#sk-fdce33bd-3266-4c58-a5fc-80c4eaf290ef input.sk-toggleable__control:checked~label.sk-toggleable__label-arrow:before {content: \"▾\";}#sk-fdce33bd-3266-4c58-a5fc-80c4eaf290ef div.sk-estimator input.sk-toggleable__control:checked~label.sk-toggleable__label {background-color: #d4ebff;}#sk-fdce33bd-3266-4c58-a5fc-80c4eaf290ef div.sk-label input.sk-toggleable__control:checked~label.sk-toggleable__label {background-color: #d4ebff;}#sk-fdce33bd-3266-4c58-a5fc-80c4eaf290ef input.sk-hidden--visually {border: 0;clip: rect(1px 1px 1px 1px);clip: rect(1px, 1px, 1px, 1px);height: 1px;margin: -1px;overflow: hidden;padding: 0;position: absolute;width: 1px;}#sk-fdce33bd-3266-4c58-a5fc-80c4eaf290ef div.sk-estimator {font-family: monospace;background-color: #f0f8ff;border: 1px dotted black;border-radius: 0.25em;box-sizing: border-box;margin-bottom: 0.5em;}#sk-fdce33bd-3266-4c58-a5fc-80c4eaf290ef div.sk-estimator:hover {background-color: #d4ebff;}#sk-fdce33bd-3266-4c58-a5fc-80c4eaf290ef div.sk-parallel-item::after {content: \"\";width: 100%;border-bottom: 1px solid gray;flex-grow: 1;}#sk-fdce33bd-3266-4c58-a5fc-80c4eaf290ef div.sk-label:hover label.sk-toggleable__label {background-color: #d4ebff;}#sk-fdce33bd-3266-4c58-a5fc-80c4eaf290ef div.sk-serial::before {content: \"\";position: absolute;border-left: 1px solid gray;box-sizing: border-box;top: 2em;bottom: 0;left: 50%;}#sk-fdce33bd-3266-4c58-a5fc-80c4eaf290ef div.sk-serial {display: flex;flex-direction: column;align-items: center;background-color: white;padding-right: 0.2em;padding-left: 0.2em;}#sk-fdce33bd-3266-4c58-a5fc-80c4eaf290ef div.sk-item {z-index: 1;}#sk-fdce33bd-3266-4c58-a5fc-80c4eaf290ef div.sk-parallel {display: flex;align-items: stretch;justify-content: center;background-color: white;}#sk-fdce33bd-3266-4c58-a5fc-80c4eaf290ef div.sk-parallel::before {content: \"\";position: absolute;border-left: 1px solid gray;box-sizing: border-box;top: 2em;bottom: 0;left: 50%;}#sk-fdce33bd-3266-4c58-a5fc-80c4eaf290ef div.sk-parallel-item {display: flex;flex-direction: column;position: relative;background-color: white;}#sk-fdce33bd-3266-4c58-a5fc-80c4eaf290ef div.sk-parallel-item:first-child::after {align-self: flex-end;width: 50%;}#sk-fdce33bd-3266-4c58-a5fc-80c4eaf290ef div.sk-parallel-item:last-child::after {align-self: flex-start;width: 50%;}#sk-fdce33bd-3266-4c58-a5fc-80c4eaf290ef div.sk-parallel-item:only-child::after {width: 0;}#sk-fdce33bd-3266-4c58-a5fc-80c4eaf290ef div.sk-dashed-wrapped {border: 1px dashed gray;margin: 0 0.4em 0.5em 0.4em;box-sizing: border-box;padding-bottom: 0.4em;background-color: white;position: relative;}#sk-fdce33bd-3266-4c58-a5fc-80c4eaf290ef div.sk-label label {font-family: monospace;font-weight: bold;background-color: white;display: inline-block;line-height: 1.2em;}#sk-fdce33bd-3266-4c58-a5fc-80c4eaf290ef div.sk-label-container {position: relative;z-index: 2;text-align: center;}#sk-fdce33bd-3266-4c58-a5fc-80c4eaf290ef div.sk-container {/* jupyter's `normalize.less` sets `[hidden] { display: none; }` but bootstrap.min.css set `[hidden] { display: none !important; }` so we also need the `!important` here to be able to override the default hidden behavior on the sphinx rendered scikit-learn.org. See: https://github.com/scikit-learn/scikit-learn/issues/21755 */display: inline-block !important;position: relative;}#sk-fdce33bd-3266-4c58-a5fc-80c4eaf290ef div.sk-text-repr-fallback {display: none;}</style><div id=\"sk-fdce33bd-3266-4c58-a5fc-80c4eaf290ef\" class=\"sk-top-container\"><div class=\"sk-text-repr-fallback\"><pre>Pipeline(steps=[(&#x27;transform&#x27;,\n",
              "                 ColumnTransformer(remainder=&#x27;passthrough&#x27;,\n",
              "                                   transformers=[(&#x27;num&#x27;, MinMaxScaler(),\n",
              "                                                  [&#x27;top_left_r&#x27;, &#x27;top_left_g&#x27;,\n",
              "                                                   &#x27;top_left_infra1&#x27;,\n",
              "                                                   &#x27;top_left_infra2&#x27;,\n",
              "                                                   &#x27;top_middle_r&#x27;,\n",
              "                                                   &#x27;top_middle_g&#x27;,\n",
              "                                                   &#x27;top_middle_infra1&#x27;,\n",
              "                                                   &#x27;top_middle_infra2&#x27;,\n",
              "                                                   &#x27;top_right_r&#x27;, &#x27;top_right_g&#x27;,\n",
              "                                                   &#x27;top_right_infra1&#x27;,\n",
              "                                                   &#x27;top_right_infra2&#x27;,\n",
              "                                                   &#x27;middle_left_r&#x27;,\n",
              "                                                   &#x27;middle_left_g&#x27;,\n",
              "                                                   &#x27;middle_left...\n",
              "                                                   &#x27;central_pixel_r&#x27;,\n",
              "                                                   &#x27;central_pixel_g&#x27;,\n",
              "                                                   &#x27;central_pixel_infra1&#x27;,\n",
              "                                                   &#x27;central_pixel_infra2&#x27;,\n",
              "                                                   &#x27;middle_right_r&#x27;,\n",
              "                                                   &#x27;middle_right_g&#x27;,\n",
              "                                                   &#x27;middle_right_infra1&#x27;,\n",
              "                                                   &#x27;middle_right_infra2&#x27;,\n",
              "                                                   &#x27;bottom_left_r&#x27;,\n",
              "                                                   &#x27;bottom_left_g&#x27;,\n",
              "                                                   &#x27;bottom_left_infra1&#x27;,\n",
              "                                                   &#x27;bottom_left_infra2&#x27;,\n",
              "                                                   &#x27;bottom_middle_r&#x27;,\n",
              "                                                   &#x27;bottom_middle_g&#x27;, ...])])),\n",
              "                (&#x27;rf&#x27;,\n",
              "                 RandomForestClassifier(max_samples=4000, n_estimators=1000,\n",
              "                                        n_jobs=-1))])</pre><b>Please rerun this cell to show the HTML repr or trust the notebook.</b></div><div class=\"sk-container\" hidden><div class=\"sk-item sk-dashed-wrapped\"><div class=\"sk-label-container\"><div class=\"sk-label sk-toggleable\"><input class=\"sk-toggleable__control sk-hidden--visually\" id=\"3d593d83-4946-42a9-9a77-634b43f65b5f\" type=\"checkbox\" ><label for=\"3d593d83-4946-42a9-9a77-634b43f65b5f\" class=\"sk-toggleable__label sk-toggleable__label-arrow\">Pipeline</label><div class=\"sk-toggleable__content\"><pre>Pipeline(steps=[(&#x27;transform&#x27;,\n",
              "                 ColumnTransformer(remainder=&#x27;passthrough&#x27;,\n",
              "                                   transformers=[(&#x27;num&#x27;, MinMaxScaler(),\n",
              "                                                  [&#x27;top_left_r&#x27;, &#x27;top_left_g&#x27;,\n",
              "                                                   &#x27;top_left_infra1&#x27;,\n",
              "                                                   &#x27;top_left_infra2&#x27;,\n",
              "                                                   &#x27;top_middle_r&#x27;,\n",
              "                                                   &#x27;top_middle_g&#x27;,\n",
              "                                                   &#x27;top_middle_infra1&#x27;,\n",
              "                                                   &#x27;top_middle_infra2&#x27;,\n",
              "                                                   &#x27;top_right_r&#x27;, &#x27;top_right_g&#x27;,\n",
              "                                                   &#x27;top_right_infra1&#x27;,\n",
              "                                                   &#x27;top_right_infra2&#x27;,\n",
              "                                                   &#x27;middle_left_r&#x27;,\n",
              "                                                   &#x27;middle_left_g&#x27;,\n",
              "                                                   &#x27;middle_left...\n",
              "                                                   &#x27;central_pixel_r&#x27;,\n",
              "                                                   &#x27;central_pixel_g&#x27;,\n",
              "                                                   &#x27;central_pixel_infra1&#x27;,\n",
              "                                                   &#x27;central_pixel_infra2&#x27;,\n",
              "                                                   &#x27;middle_right_r&#x27;,\n",
              "                                                   &#x27;middle_right_g&#x27;,\n",
              "                                                   &#x27;middle_right_infra1&#x27;,\n",
              "                                                   &#x27;middle_right_infra2&#x27;,\n",
              "                                                   &#x27;bottom_left_r&#x27;,\n",
              "                                                   &#x27;bottom_left_g&#x27;,\n",
              "                                                   &#x27;bottom_left_infra1&#x27;,\n",
              "                                                   &#x27;bottom_left_infra2&#x27;,\n",
              "                                                   &#x27;bottom_middle_r&#x27;,\n",
              "                                                   &#x27;bottom_middle_g&#x27;, ...])])),\n",
              "                (&#x27;rf&#x27;,\n",
              "                 RandomForestClassifier(max_samples=4000, n_estimators=1000,\n",
              "                                        n_jobs=-1))])</pre></div></div></div><div class=\"sk-serial\"><div class=\"sk-item sk-dashed-wrapped\"><div class=\"sk-label-container\"><div class=\"sk-label sk-toggleable\"><input class=\"sk-toggleable__control sk-hidden--visually\" id=\"b08e404d-b57b-402f-8be0-208fdb8e684c\" type=\"checkbox\" ><label for=\"b08e404d-b57b-402f-8be0-208fdb8e684c\" class=\"sk-toggleable__label sk-toggleable__label-arrow\">transform: ColumnTransformer</label><div class=\"sk-toggleable__content\"><pre>ColumnTransformer(remainder=&#x27;passthrough&#x27;,\n",
              "                  transformers=[(&#x27;num&#x27;, MinMaxScaler(),\n",
              "                                 [&#x27;top_left_r&#x27;, &#x27;top_left_g&#x27;, &#x27;top_left_infra1&#x27;,\n",
              "                                  &#x27;top_left_infra2&#x27;, &#x27;top_middle_r&#x27;,\n",
              "                                  &#x27;top_middle_g&#x27;, &#x27;top_middle_infra1&#x27;,\n",
              "                                  &#x27;top_middle_infra2&#x27;, &#x27;top_right_r&#x27;,\n",
              "                                  &#x27;top_right_g&#x27;, &#x27;top_right_infra1&#x27;,\n",
              "                                  &#x27;top_right_infra2&#x27;, &#x27;middle_left_r&#x27;,\n",
              "                                  &#x27;middle_left_g&#x27;, &#x27;middle_left_infra1&#x27;,\n",
              "                                  &#x27;middle_left_infra2&#x27;, &#x27;central_pixel_r&#x27;,\n",
              "                                  &#x27;central_pixel_g&#x27;, &#x27;central_pixel_infra1&#x27;,\n",
              "                                  &#x27;central_pixel_infra2&#x27;, &#x27;middle_right_r&#x27;,\n",
              "                                  &#x27;middle_right_g&#x27;, &#x27;middle_right_infra1&#x27;,\n",
              "                                  &#x27;middle_right_infra2&#x27;, &#x27;bottom_left_r&#x27;,\n",
              "                                  &#x27;bottom_left_g&#x27;, &#x27;bottom_left_infra1&#x27;,\n",
              "                                  &#x27;bottom_left_infra2&#x27;, &#x27;bottom_middle_r&#x27;,\n",
              "                                  &#x27;bottom_middle_g&#x27;, ...])])</pre></div></div></div><div class=\"sk-parallel\"><div class=\"sk-parallel-item\"><div class=\"sk-item\"><div class=\"sk-label-container\"><div class=\"sk-label sk-toggleable\"><input class=\"sk-toggleable__control sk-hidden--visually\" id=\"212a47a0-8d54-428a-b386-3935cd47c244\" type=\"checkbox\" ><label for=\"212a47a0-8d54-428a-b386-3935cd47c244\" class=\"sk-toggleable__label sk-toggleable__label-arrow\">num</label><div class=\"sk-toggleable__content\"><pre>[&#x27;top_left_r&#x27;, &#x27;top_left_g&#x27;, &#x27;top_left_infra1&#x27;, &#x27;top_left_infra2&#x27;, &#x27;top_middle_r&#x27;, &#x27;top_middle_g&#x27;, &#x27;top_middle_infra1&#x27;, &#x27;top_middle_infra2&#x27;, &#x27;top_right_r&#x27;, &#x27;top_right_g&#x27;, &#x27;top_right_infra1&#x27;, &#x27;top_right_infra2&#x27;, &#x27;middle_left_r&#x27;, &#x27;middle_left_g&#x27;, &#x27;middle_left_infra1&#x27;, &#x27;middle_left_infra2&#x27;, &#x27;central_pixel_r&#x27;, &#x27;central_pixel_g&#x27;, &#x27;central_pixel_infra1&#x27;, &#x27;central_pixel_infra2&#x27;, &#x27;middle_right_r&#x27;, &#x27;middle_right_g&#x27;, &#x27;middle_right_infra1&#x27;, &#x27;middle_right_infra2&#x27;, &#x27;bottom_left_r&#x27;, &#x27;bottom_left_g&#x27;, &#x27;bottom_left_infra1&#x27;, &#x27;bottom_left_infra2&#x27;, &#x27;bottom_middle_r&#x27;, &#x27;bottom_middle_g&#x27;, &#x27;bottom_middle_infra1&#x27;, &#x27;bottom_middle_infra2&#x27;, &#x27;bottom_right_r&#x27;, &#x27;bottom_right_g&#x27;, &#x27;bottom_right_infra1&#x27;, &#x27;bottom_right_infra2&#x27;]</pre></div></div></div><div class=\"sk-serial\"><div class=\"sk-item\"><div class=\"sk-estimator sk-toggleable\"><input class=\"sk-toggleable__control sk-hidden--visually\" id=\"0f3e9889-0823-4fae-a0ec-2b84706505a6\" type=\"checkbox\" ><label for=\"0f3e9889-0823-4fae-a0ec-2b84706505a6\" class=\"sk-toggleable__label sk-toggleable__label-arrow\">MinMaxScaler</label><div class=\"sk-toggleable__content\"><pre>MinMaxScaler()</pre></div></div></div></div></div></div><div class=\"sk-parallel-item\"><div class=\"sk-item\"><div class=\"sk-label-container\"><div class=\"sk-label sk-toggleable\"><input class=\"sk-toggleable__control sk-hidden--visually\" id=\"a33f35ff-fe5e-4d29-b79d-d565f5f06555\" type=\"checkbox\" ><label for=\"a33f35ff-fe5e-4d29-b79d-d565f5f06555\" class=\"sk-toggleable__label sk-toggleable__label-arrow\">remainder</label><div class=\"sk-toggleable__content\"><pre></pre></div></div></div><div class=\"sk-serial\"><div class=\"sk-item\"><div class=\"sk-estimator sk-toggleable\"><input class=\"sk-toggleable__control sk-hidden--visually\" id=\"d13a383f-d4f7-457c-a83e-cd7c2b15ab6a\" type=\"checkbox\" ><label for=\"d13a383f-d4f7-457c-a83e-cd7c2b15ab6a\" class=\"sk-toggleable__label sk-toggleable__label-arrow\">passthrough</label><div class=\"sk-toggleable__content\"><pre>passthrough</pre></div></div></div></div></div></div></div></div><div class=\"sk-item\"><div class=\"sk-estimator sk-toggleable\"><input class=\"sk-toggleable__control sk-hidden--visually\" id=\"a16ec924-52fc-4ffc-9290-28bbe2e7aa33\" type=\"checkbox\" ><label for=\"a16ec924-52fc-4ffc-9290-28bbe2e7aa33\" class=\"sk-toggleable__label sk-toggleable__label-arrow\">RandomForestClassifier</label><div class=\"sk-toggleable__content\"><pre>RandomForestClassifier(max_samples=4000, n_estimators=1000, n_jobs=-1)</pre></div></div></div></div></div></div></div>"
            ]
          },
          "metadata": {},
          "execution_count": 36
        }
      ]
    },
    {
      "cell_type": "markdown",
      "source": [
        "Running pipeline to fit the Random Forest Classification model."
      ],
      "metadata": {
        "id": "fWAsUDD3ugL5"
      }
    },
    {
      "cell_type": "code",
      "source": [
        "random_forest.fit(X_train,np.ravel(y_train))"
      ],
      "metadata": {
        "colab": {
          "base_uri": "https://localhost:8080/",
          "height": 193
        },
        "id": "Ejcva2iXuo9Y",
        "outputId": "07bcc2f4-6903-4cc9-8f04-6b57d7e93262"
      },
      "execution_count": null,
      "outputs": [
        {
          "output_type": "execute_result",
          "data": {
            "text/plain": [
              "Pipeline(steps=[('transform',\n",
              "                 ColumnTransformer(remainder='passthrough',\n",
              "                                   transformers=[('num', MinMaxScaler(),\n",
              "                                                  ['top_left_r', 'top_left_g',\n",
              "                                                   'top_left_infra1',\n",
              "                                                   'top_left_infra2',\n",
              "                                                   'top_middle_r',\n",
              "                                                   'top_middle_g',\n",
              "                                                   'top_middle_infra1',\n",
              "                                                   'top_middle_infra2',\n",
              "                                                   'top_right_r', 'top_right_g',\n",
              "                                                   'top_right_infra1',\n",
              "                                                   'top_right_infra2',\n",
              "                                                   'middle_left_r',\n",
              "                                                   'middle_left_g',\n",
              "                                                   'middle_left...\n",
              "                                                   'central_pixel_r',\n",
              "                                                   'central_pixel_g',\n",
              "                                                   'central_pixel_infra1',\n",
              "                                                   'central_pixel_infra2',\n",
              "                                                   'middle_right_r',\n",
              "                                                   'middle_right_g',\n",
              "                                                   'middle_right_infra1',\n",
              "                                                   'middle_right_infra2',\n",
              "                                                   'bottom_left_r',\n",
              "                                                   'bottom_left_g',\n",
              "                                                   'bottom_left_infra1',\n",
              "                                                   'bottom_left_infra2',\n",
              "                                                   'bottom_middle_r',\n",
              "                                                   'bottom_middle_g', ...])])),\n",
              "                ('rf',\n",
              "                 RandomForestClassifier(max_samples=4000, n_estimators=1000,\n",
              "                                        n_jobs=-1))])"
            ],
            "text/html": [
              "<style>#sk-4763bac4-c683-473e-86b5-52ffb73297e2 {color: black;background-color: white;}#sk-4763bac4-c683-473e-86b5-52ffb73297e2 pre{padding: 0;}#sk-4763bac4-c683-473e-86b5-52ffb73297e2 div.sk-toggleable {background-color: white;}#sk-4763bac4-c683-473e-86b5-52ffb73297e2 label.sk-toggleable__label {cursor: pointer;display: block;width: 100%;margin-bottom: 0;padding: 0.3em;box-sizing: border-box;text-align: center;}#sk-4763bac4-c683-473e-86b5-52ffb73297e2 label.sk-toggleable__label-arrow:before {content: \"▸\";float: left;margin-right: 0.25em;color: #696969;}#sk-4763bac4-c683-473e-86b5-52ffb73297e2 label.sk-toggleable__label-arrow:hover:before {color: black;}#sk-4763bac4-c683-473e-86b5-52ffb73297e2 div.sk-estimator:hover label.sk-toggleable__label-arrow:before {color: black;}#sk-4763bac4-c683-473e-86b5-52ffb73297e2 div.sk-toggleable__content {max-height: 0;max-width: 0;overflow: hidden;text-align: left;background-color: #f0f8ff;}#sk-4763bac4-c683-473e-86b5-52ffb73297e2 div.sk-toggleable__content pre {margin: 0.2em;color: black;border-radius: 0.25em;background-color: #f0f8ff;}#sk-4763bac4-c683-473e-86b5-52ffb73297e2 input.sk-toggleable__control:checked~div.sk-toggleable__content {max-height: 200px;max-width: 100%;overflow: auto;}#sk-4763bac4-c683-473e-86b5-52ffb73297e2 input.sk-toggleable__control:checked~label.sk-toggleable__label-arrow:before {content: \"▾\";}#sk-4763bac4-c683-473e-86b5-52ffb73297e2 div.sk-estimator input.sk-toggleable__control:checked~label.sk-toggleable__label {background-color: #d4ebff;}#sk-4763bac4-c683-473e-86b5-52ffb73297e2 div.sk-label input.sk-toggleable__control:checked~label.sk-toggleable__label {background-color: #d4ebff;}#sk-4763bac4-c683-473e-86b5-52ffb73297e2 input.sk-hidden--visually {border: 0;clip: rect(1px 1px 1px 1px);clip: rect(1px, 1px, 1px, 1px);height: 1px;margin: -1px;overflow: hidden;padding: 0;position: absolute;width: 1px;}#sk-4763bac4-c683-473e-86b5-52ffb73297e2 div.sk-estimator {font-family: monospace;background-color: #f0f8ff;border: 1px dotted black;border-radius: 0.25em;box-sizing: border-box;margin-bottom: 0.5em;}#sk-4763bac4-c683-473e-86b5-52ffb73297e2 div.sk-estimator:hover {background-color: #d4ebff;}#sk-4763bac4-c683-473e-86b5-52ffb73297e2 div.sk-parallel-item::after {content: \"\";width: 100%;border-bottom: 1px solid gray;flex-grow: 1;}#sk-4763bac4-c683-473e-86b5-52ffb73297e2 div.sk-label:hover label.sk-toggleable__label {background-color: #d4ebff;}#sk-4763bac4-c683-473e-86b5-52ffb73297e2 div.sk-serial::before {content: \"\";position: absolute;border-left: 1px solid gray;box-sizing: border-box;top: 2em;bottom: 0;left: 50%;}#sk-4763bac4-c683-473e-86b5-52ffb73297e2 div.sk-serial {display: flex;flex-direction: column;align-items: center;background-color: white;padding-right: 0.2em;padding-left: 0.2em;}#sk-4763bac4-c683-473e-86b5-52ffb73297e2 div.sk-item {z-index: 1;}#sk-4763bac4-c683-473e-86b5-52ffb73297e2 div.sk-parallel {display: flex;align-items: stretch;justify-content: center;background-color: white;}#sk-4763bac4-c683-473e-86b5-52ffb73297e2 div.sk-parallel::before {content: \"\";position: absolute;border-left: 1px solid gray;box-sizing: border-box;top: 2em;bottom: 0;left: 50%;}#sk-4763bac4-c683-473e-86b5-52ffb73297e2 div.sk-parallel-item {display: flex;flex-direction: column;position: relative;background-color: white;}#sk-4763bac4-c683-473e-86b5-52ffb73297e2 div.sk-parallel-item:first-child::after {align-self: flex-end;width: 50%;}#sk-4763bac4-c683-473e-86b5-52ffb73297e2 div.sk-parallel-item:last-child::after {align-self: flex-start;width: 50%;}#sk-4763bac4-c683-473e-86b5-52ffb73297e2 div.sk-parallel-item:only-child::after {width: 0;}#sk-4763bac4-c683-473e-86b5-52ffb73297e2 div.sk-dashed-wrapped {border: 1px dashed gray;margin: 0 0.4em 0.5em 0.4em;box-sizing: border-box;padding-bottom: 0.4em;background-color: white;position: relative;}#sk-4763bac4-c683-473e-86b5-52ffb73297e2 div.sk-label label {font-family: monospace;font-weight: bold;background-color: white;display: inline-block;line-height: 1.2em;}#sk-4763bac4-c683-473e-86b5-52ffb73297e2 div.sk-label-container {position: relative;z-index: 2;text-align: center;}#sk-4763bac4-c683-473e-86b5-52ffb73297e2 div.sk-container {/* jupyter's `normalize.less` sets `[hidden] { display: none; }` but bootstrap.min.css set `[hidden] { display: none !important; }` so we also need the `!important` here to be able to override the default hidden behavior on the sphinx rendered scikit-learn.org. See: https://github.com/scikit-learn/scikit-learn/issues/21755 */display: inline-block !important;position: relative;}#sk-4763bac4-c683-473e-86b5-52ffb73297e2 div.sk-text-repr-fallback {display: none;}</style><div id=\"sk-4763bac4-c683-473e-86b5-52ffb73297e2\" class=\"sk-top-container\"><div class=\"sk-text-repr-fallback\"><pre>Pipeline(steps=[(&#x27;transform&#x27;,\n",
              "                 ColumnTransformer(remainder=&#x27;passthrough&#x27;,\n",
              "                                   transformers=[(&#x27;num&#x27;, MinMaxScaler(),\n",
              "                                                  [&#x27;top_left_r&#x27;, &#x27;top_left_g&#x27;,\n",
              "                                                   &#x27;top_left_infra1&#x27;,\n",
              "                                                   &#x27;top_left_infra2&#x27;,\n",
              "                                                   &#x27;top_middle_r&#x27;,\n",
              "                                                   &#x27;top_middle_g&#x27;,\n",
              "                                                   &#x27;top_middle_infra1&#x27;,\n",
              "                                                   &#x27;top_middle_infra2&#x27;,\n",
              "                                                   &#x27;top_right_r&#x27;, &#x27;top_right_g&#x27;,\n",
              "                                                   &#x27;top_right_infra1&#x27;,\n",
              "                                                   &#x27;top_right_infra2&#x27;,\n",
              "                                                   &#x27;middle_left_r&#x27;,\n",
              "                                                   &#x27;middle_left_g&#x27;,\n",
              "                                                   &#x27;middle_left...\n",
              "                                                   &#x27;central_pixel_r&#x27;,\n",
              "                                                   &#x27;central_pixel_g&#x27;,\n",
              "                                                   &#x27;central_pixel_infra1&#x27;,\n",
              "                                                   &#x27;central_pixel_infra2&#x27;,\n",
              "                                                   &#x27;middle_right_r&#x27;,\n",
              "                                                   &#x27;middle_right_g&#x27;,\n",
              "                                                   &#x27;middle_right_infra1&#x27;,\n",
              "                                                   &#x27;middle_right_infra2&#x27;,\n",
              "                                                   &#x27;bottom_left_r&#x27;,\n",
              "                                                   &#x27;bottom_left_g&#x27;,\n",
              "                                                   &#x27;bottom_left_infra1&#x27;,\n",
              "                                                   &#x27;bottom_left_infra2&#x27;,\n",
              "                                                   &#x27;bottom_middle_r&#x27;,\n",
              "                                                   &#x27;bottom_middle_g&#x27;, ...])])),\n",
              "                (&#x27;rf&#x27;,\n",
              "                 RandomForestClassifier(max_samples=4000, n_estimators=1000,\n",
              "                                        n_jobs=-1))])</pre><b>Please rerun this cell to show the HTML repr or trust the notebook.</b></div><div class=\"sk-container\" hidden><div class=\"sk-item sk-dashed-wrapped\"><div class=\"sk-label-container\"><div class=\"sk-label sk-toggleable\"><input class=\"sk-toggleable__control sk-hidden--visually\" id=\"064876d2-0cd9-4fb6-a8b3-b5cac96e0529\" type=\"checkbox\" ><label for=\"064876d2-0cd9-4fb6-a8b3-b5cac96e0529\" class=\"sk-toggleable__label sk-toggleable__label-arrow\">Pipeline</label><div class=\"sk-toggleable__content\"><pre>Pipeline(steps=[(&#x27;transform&#x27;,\n",
              "                 ColumnTransformer(remainder=&#x27;passthrough&#x27;,\n",
              "                                   transformers=[(&#x27;num&#x27;, MinMaxScaler(),\n",
              "                                                  [&#x27;top_left_r&#x27;, &#x27;top_left_g&#x27;,\n",
              "                                                   &#x27;top_left_infra1&#x27;,\n",
              "                                                   &#x27;top_left_infra2&#x27;,\n",
              "                                                   &#x27;top_middle_r&#x27;,\n",
              "                                                   &#x27;top_middle_g&#x27;,\n",
              "                                                   &#x27;top_middle_infra1&#x27;,\n",
              "                                                   &#x27;top_middle_infra2&#x27;,\n",
              "                                                   &#x27;top_right_r&#x27;, &#x27;top_right_g&#x27;,\n",
              "                                                   &#x27;top_right_infra1&#x27;,\n",
              "                                                   &#x27;top_right_infra2&#x27;,\n",
              "                                                   &#x27;middle_left_r&#x27;,\n",
              "                                                   &#x27;middle_left_g&#x27;,\n",
              "                                                   &#x27;middle_left...\n",
              "                                                   &#x27;central_pixel_r&#x27;,\n",
              "                                                   &#x27;central_pixel_g&#x27;,\n",
              "                                                   &#x27;central_pixel_infra1&#x27;,\n",
              "                                                   &#x27;central_pixel_infra2&#x27;,\n",
              "                                                   &#x27;middle_right_r&#x27;,\n",
              "                                                   &#x27;middle_right_g&#x27;,\n",
              "                                                   &#x27;middle_right_infra1&#x27;,\n",
              "                                                   &#x27;middle_right_infra2&#x27;,\n",
              "                                                   &#x27;bottom_left_r&#x27;,\n",
              "                                                   &#x27;bottom_left_g&#x27;,\n",
              "                                                   &#x27;bottom_left_infra1&#x27;,\n",
              "                                                   &#x27;bottom_left_infra2&#x27;,\n",
              "                                                   &#x27;bottom_middle_r&#x27;,\n",
              "                                                   &#x27;bottom_middle_g&#x27;, ...])])),\n",
              "                (&#x27;rf&#x27;,\n",
              "                 RandomForestClassifier(max_samples=4000, n_estimators=1000,\n",
              "                                        n_jobs=-1))])</pre></div></div></div><div class=\"sk-serial\"><div class=\"sk-item sk-dashed-wrapped\"><div class=\"sk-label-container\"><div class=\"sk-label sk-toggleable\"><input class=\"sk-toggleable__control sk-hidden--visually\" id=\"acfed75f-d3db-4b04-97ca-5420031dda88\" type=\"checkbox\" ><label for=\"acfed75f-d3db-4b04-97ca-5420031dda88\" class=\"sk-toggleable__label sk-toggleable__label-arrow\">transform: ColumnTransformer</label><div class=\"sk-toggleable__content\"><pre>ColumnTransformer(remainder=&#x27;passthrough&#x27;,\n",
              "                  transformers=[(&#x27;num&#x27;, MinMaxScaler(),\n",
              "                                 [&#x27;top_left_r&#x27;, &#x27;top_left_g&#x27;, &#x27;top_left_infra1&#x27;,\n",
              "                                  &#x27;top_left_infra2&#x27;, &#x27;top_middle_r&#x27;,\n",
              "                                  &#x27;top_middle_g&#x27;, &#x27;top_middle_infra1&#x27;,\n",
              "                                  &#x27;top_middle_infra2&#x27;, &#x27;top_right_r&#x27;,\n",
              "                                  &#x27;top_right_g&#x27;, &#x27;top_right_infra1&#x27;,\n",
              "                                  &#x27;top_right_infra2&#x27;, &#x27;middle_left_r&#x27;,\n",
              "                                  &#x27;middle_left_g&#x27;, &#x27;middle_left_infra1&#x27;,\n",
              "                                  &#x27;middle_left_infra2&#x27;, &#x27;central_pixel_r&#x27;,\n",
              "                                  &#x27;central_pixel_g&#x27;, &#x27;central_pixel_infra1&#x27;,\n",
              "                                  &#x27;central_pixel_infra2&#x27;, &#x27;middle_right_r&#x27;,\n",
              "                                  &#x27;middle_right_g&#x27;, &#x27;middle_right_infra1&#x27;,\n",
              "                                  &#x27;middle_right_infra2&#x27;, &#x27;bottom_left_r&#x27;,\n",
              "                                  &#x27;bottom_left_g&#x27;, &#x27;bottom_left_infra1&#x27;,\n",
              "                                  &#x27;bottom_left_infra2&#x27;, &#x27;bottom_middle_r&#x27;,\n",
              "                                  &#x27;bottom_middle_g&#x27;, ...])])</pre></div></div></div><div class=\"sk-parallel\"><div class=\"sk-parallel-item\"><div class=\"sk-item\"><div class=\"sk-label-container\"><div class=\"sk-label sk-toggleable\"><input class=\"sk-toggleable__control sk-hidden--visually\" id=\"97f695e1-034f-4c31-881c-fa894dfdff61\" type=\"checkbox\" ><label for=\"97f695e1-034f-4c31-881c-fa894dfdff61\" class=\"sk-toggleable__label sk-toggleable__label-arrow\">num</label><div class=\"sk-toggleable__content\"><pre>[&#x27;top_left_r&#x27;, &#x27;top_left_g&#x27;, &#x27;top_left_infra1&#x27;, &#x27;top_left_infra2&#x27;, &#x27;top_middle_r&#x27;, &#x27;top_middle_g&#x27;, &#x27;top_middle_infra1&#x27;, &#x27;top_middle_infra2&#x27;, &#x27;top_right_r&#x27;, &#x27;top_right_g&#x27;, &#x27;top_right_infra1&#x27;, &#x27;top_right_infra2&#x27;, &#x27;middle_left_r&#x27;, &#x27;middle_left_g&#x27;, &#x27;middle_left_infra1&#x27;, &#x27;middle_left_infra2&#x27;, &#x27;central_pixel_r&#x27;, &#x27;central_pixel_g&#x27;, &#x27;central_pixel_infra1&#x27;, &#x27;central_pixel_infra2&#x27;, &#x27;middle_right_r&#x27;, &#x27;middle_right_g&#x27;, &#x27;middle_right_infra1&#x27;, &#x27;middle_right_infra2&#x27;, &#x27;bottom_left_r&#x27;, &#x27;bottom_left_g&#x27;, &#x27;bottom_left_infra1&#x27;, &#x27;bottom_left_infra2&#x27;, &#x27;bottom_middle_r&#x27;, &#x27;bottom_middle_g&#x27;, &#x27;bottom_middle_infra1&#x27;, &#x27;bottom_middle_infra2&#x27;, &#x27;bottom_right_r&#x27;, &#x27;bottom_right_g&#x27;, &#x27;bottom_right_infra1&#x27;, &#x27;bottom_right_infra2&#x27;]</pre></div></div></div><div class=\"sk-serial\"><div class=\"sk-item\"><div class=\"sk-estimator sk-toggleable\"><input class=\"sk-toggleable__control sk-hidden--visually\" id=\"c756953b-e35a-4976-8f96-3fc4a5188a16\" type=\"checkbox\" ><label for=\"c756953b-e35a-4976-8f96-3fc4a5188a16\" class=\"sk-toggleable__label sk-toggleable__label-arrow\">MinMaxScaler</label><div class=\"sk-toggleable__content\"><pre>MinMaxScaler()</pre></div></div></div></div></div></div><div class=\"sk-parallel-item\"><div class=\"sk-item\"><div class=\"sk-label-container\"><div class=\"sk-label sk-toggleable\"><input class=\"sk-toggleable__control sk-hidden--visually\" id=\"4ad6ef5b-6213-4acd-93f9-321e74fd753c\" type=\"checkbox\" ><label for=\"4ad6ef5b-6213-4acd-93f9-321e74fd753c\" class=\"sk-toggleable__label sk-toggleable__label-arrow\">remainder</label><div class=\"sk-toggleable__content\"><pre>[]</pre></div></div></div><div class=\"sk-serial\"><div class=\"sk-item\"><div class=\"sk-estimator sk-toggleable\"><input class=\"sk-toggleable__control sk-hidden--visually\" id=\"0bdc66cd-d8e4-4ec9-8eaa-c14759a4e21d\" type=\"checkbox\" ><label for=\"0bdc66cd-d8e4-4ec9-8eaa-c14759a4e21d\" class=\"sk-toggleable__label sk-toggleable__label-arrow\">passthrough</label><div class=\"sk-toggleable__content\"><pre>passthrough</pre></div></div></div></div></div></div></div></div><div class=\"sk-item\"><div class=\"sk-estimator sk-toggleable\"><input class=\"sk-toggleable__control sk-hidden--visually\" id=\"12e52dcf-7e3f-4a95-b700-a71edde61d76\" type=\"checkbox\" ><label for=\"12e52dcf-7e3f-4a95-b700-a71edde61d76\" class=\"sk-toggleable__label sk-toggleable__label-arrow\">RandomForestClassifier</label><div class=\"sk-toggleable__content\"><pre>RandomForestClassifier(max_samples=4000, n_estimators=1000, n_jobs=-1)</pre></div></div></div></div></div></div></div>"
            ]
          },
          "metadata": {},
          "execution_count": 37
        }
      ]
    },
    {
      "cell_type": "markdown",
      "source": [
        "### Step 7: Evaluating Model"
      ],
      "metadata": {
        "id": "iBFx9cbQJCKr"
      }
    },
    {
      "cell_type": "markdown",
      "source": [
        "Running pipeline to predict y values from the test data set and saving them in a variable called y_pred."
      ],
      "metadata": {
        "id": "HU4bWgquvFWO"
      }
    },
    {
      "cell_type": "code",
      "source": [
        "y_pred = random_forest.predict(X_test)"
      ],
      "metadata": {
        "id": "7904ow5TwzU8"
      },
      "execution_count": null,
      "outputs": []
    },
    {
      "cell_type": "markdown",
      "source": [
        "Using classification function to display precision, recall, and F1 scores."
      ],
      "metadata": {
        "id": "F1pRpyxDwz7F"
      }
    },
    {
      "cell_type": "code",
      "source": [
        "print(classification_report(y_test,y_pred))"
      ],
      "metadata": {
        "colab": {
          "base_uri": "https://localhost:8080/"
        },
        "id": "UKcopoIEw2Xz",
        "outputId": "9d856213-653b-47e4-f853-888f23784019"
      },
      "execution_count": null,
      "outputs": [
        {
          "output_type": "stream",
          "name": "stdout",
          "text": [
            "              precision    recall  f1-score   support\n",
            "\n",
            "           1       0.98      0.99      0.99       461\n",
            "           2       0.98      0.98      0.98       224\n",
            "           3       0.89      0.95      0.92       397\n",
            "           4       0.78      0.64      0.70       211\n",
            "           5       0.93      0.90      0.91       237\n",
            "           7       0.88      0.90      0.89       470\n",
            "\n",
            "    accuracy                           0.91      2000\n",
            "   macro avg       0.91      0.89      0.90      2000\n",
            "weighted avg       0.91      0.91      0.91      2000\n",
            "\n"
          ]
        }
      ]
    },
    {
      "cell_type": "markdown",
      "source": [
        "Generating heatmap of the confusion matrix."
      ],
      "metadata": {
        "id": "iaPSIkCdw25W"
      }
    },
    {
      "cell_type": "code",
      "source": [
        "cm = confusion_matrix(y_test, y_pred)\n",
        "disp = ConfusionMatrixDisplay(confusion_matrix=cm)\n",
        "fig, ax = plt.subplots(figsize=(10,10))\n",
        "disp.plot(ax=ax, cmap='YlOrRd')"
      ],
      "metadata": {
        "colab": {
          "base_uri": "https://localhost:8080/",
          "height": 597
        },
        "id": "la9SaZu9w3-K",
        "outputId": "56356f84-8bb0-45ff-ad5d-761de677a85a"
      },
      "execution_count": null,
      "outputs": [
        {
          "output_type": "execute_result",
          "data": {
            "text/plain": [
              "<sklearn.metrics._plot.confusion_matrix.ConfusionMatrixDisplay at 0x7fe541bc6dd0>"
            ]
          },
          "metadata": {},
          "execution_count": 40
        },
        {
          "output_type": "display_data",
          "data": {
            "text/plain": [
              "<Figure size 720x720 with 2 Axes>"
            ],
            "image/png": "[encoded data removed]"
          },
          "metadata": {
            "needs_background": "light"
          }
        }
      ]
    },
    {
      "cell_type": "markdown",
      "source": [
        "### Step 8: Conclusion\n",
        "The performance measures utilized above show that the Random Forest Classifier is an adequate model for predicting the land type, performing well for most of the types."
      ],
      "metadata": {
        "id": "3lnXErgPJFde"
      }
    },
    {
      "cell_type": "markdown",
      "source": [
        "# Problem 2: Land Satellite Voting Classifier"
      ],
      "metadata": {
        "id": "cEwDPPtX-C9t"
      }
    },
    {
      "cell_type": "markdown",
      "source": [
        "### Step 1: Imports (using those imported for Problem 1)"
      ],
      "metadata": {
        "id": "iFllsBeo3Fym"
      }
    },
    {
      "cell_type": "markdown",
      "source": [
        "### Step 2: Acquire Data (using that applied in Problem 1)"
      ],
      "metadata": {
        "id": "c-C26DXy08Z9"
      }
    },
    {
      "cell_type": "markdown",
      "source": [
        "### Step 3: Visualization (see data set box plots generated above for Problem 1)"
      ],
      "metadata": {
        "id": "loHENV0V-Okn"
      }
    },
    {
      "cell_type": "markdown",
      "source": [
        "### Step 4: Splitting the Data (carrying over Problem 1 splits)"
      ],
      "metadata": {
        "id": "LmAVqae21X2B"
      }
    },
    {
      "cell_type": "markdown",
      "source": [
        "### Step 5: Building the Pipeline"
      ],
      "metadata": {
        "id": "fwGIAvl3-Ok-"
      }
    },
    {
      "cell_type": "markdown",
      "source": [
        "Creating pipeline that will perform Voting Classification.\n"
      ],
      "metadata": {
        "id": "TEvu0ADC4spw"
      }
    },
    {
      "cell_type": "code",
      "source": [
        "knn = KNeighborsClassifier(n_neighbors=3)\n",
        "lr = LogisticRegression(max_iter=100000)\n",
        "svc = SVC(kernel='rbf')"
      ],
      "metadata": {
        "id": "fmI_5XOT2BMP"
      },
      "execution_count": null,
      "outputs": []
    },
    {
      "cell_type": "code",
      "source": [
        "voting = Pipeline([\n",
        "                     ('transform', col_transform),\n",
        "                     ('voting_ensemble',VotingClassifier(\n",
        "                         estimators=[\n",
        "                                     ('knn',knn),\n",
        "                                     ('lr',lr),\n",
        "                                     ('svc',svc)\n",
        "                                     ], voting='hard'))\n",
        "                     ])"
      ],
      "metadata": {
        "id": "4dc-e2d640m_"
      },
      "execution_count": null,
      "outputs": []
    },
    {
      "cell_type": "markdown",
      "source": [
        "### Step 6: Executing the Model"
      ],
      "metadata": {
        "id": "ivVjQ7Jm-Ok_"
      }
    },
    {
      "cell_type": "markdown",
      "source": [
        "Running pipeline to fit the Voting Classification."
      ],
      "metadata": {
        "id": "4S-VAxlH7qYb"
      }
    },
    {
      "cell_type": "code",
      "source": [
        "voting.fit(X_train,np.ravel(y_train))"
      ],
      "metadata": {
        "colab": {
          "base_uri": "https://localhost:8080/",
          "height": 251
        },
        "id": "DcLrYO4Z7xmn",
        "outputId": "74461f48-0ea4-4bb3-d63f-25dbce27a24d"
      },
      "execution_count": null,
      "outputs": [
        {
          "output_type": "execute_result",
          "data": {
            "text/plain": [
              "Pipeline(steps=[('transform',\n",
              "                 ColumnTransformer(remainder='passthrough',\n",
              "                                   transformers=[('num', MinMaxScaler(),\n",
              "                                                  ['top_left_r', 'top_left_g',\n",
              "                                                   'top_left_infra1',\n",
              "                                                   'top_left_infra2',\n",
              "                                                   'top_middle_r',\n",
              "                                                   'top_middle_g',\n",
              "                                                   'top_middle_infra1',\n",
              "                                                   'top_middle_infra2',\n",
              "                                                   'top_right_r', 'top_right_g',\n",
              "                                                   'top_right_infra1',\n",
              "                                                   'top_right_infra2',\n",
              "                                                   'middle_left_r',\n",
              "                                                   'middle_left_g',\n",
              "                                                   'middle_left...\n",
              "                                                   'middle_right_r',\n",
              "                                                   'middle_right_g',\n",
              "                                                   'middle_right_infra1',\n",
              "                                                   'middle_right_infra2',\n",
              "                                                   'bottom_left_r',\n",
              "                                                   'bottom_left_g',\n",
              "                                                   'bottom_left_infra1',\n",
              "                                                   'bottom_left_infra2',\n",
              "                                                   'bottom_middle_r',\n",
              "                                                   'bottom_middle_g', ...])])),\n",
              "                ('voting_ensemble',\n",
              "                 VotingClassifier(estimators=[('knn',\n",
              "                                               KNeighborsClassifier(n_neighbors=3)),\n",
              "                                              ('lr',\n",
              "                                               LogisticRegression(max_iter=100000)),\n",
              "                                              ('svc', SVC())]))])"
            ],
            "text/html": [
              "<style>#sk-ebd1f4f3-f3ed-4926-a7b4-7fe250de2110 {color: black;background-color: white;}#sk-ebd1f4f3-f3ed-4926-a7b4-7fe250de2110 pre{padding: 0;}#sk-ebd1f4f3-f3ed-4926-a7b4-7fe250de2110 div.sk-toggleable {background-color: white;}#sk-ebd1f4f3-f3ed-4926-a7b4-7fe250de2110 label.sk-toggleable__label {cursor: pointer;display: block;width: 100%;margin-bottom: 0;padding: 0.3em;box-sizing: border-box;text-align: center;}#sk-ebd1f4f3-f3ed-4926-a7b4-7fe250de2110 label.sk-toggleable__label-arrow:before {content: \"▸\";float: left;margin-right: 0.25em;color: #696969;}#sk-ebd1f4f3-f3ed-4926-a7b4-7fe250de2110 label.sk-toggleable__label-arrow:hover:before {color: black;}#sk-ebd1f4f3-f3ed-4926-a7b4-7fe250de2110 div.sk-estimator:hover label.sk-toggleable__label-arrow:before {color: black;}#sk-ebd1f4f3-f3ed-4926-a7b4-7fe250de2110 div.sk-toggleable__content {max-height: 0;max-width: 0;overflow: hidden;text-align: left;background-color: #f0f8ff;}#sk-ebd1f4f3-f3ed-4926-a7b4-7fe250de2110 div.sk-toggleable__content pre {margin: 0.2em;color: black;border-radius: 0.25em;background-color: #f0f8ff;}#sk-ebd1f4f3-f3ed-4926-a7b4-7fe250de2110 input.sk-toggleable__control:checked~div.sk-toggleable__content {max-height: 200px;max-width: 100%;overflow: auto;}#sk-ebd1f4f3-f3ed-4926-a7b4-7fe250de2110 input.sk-toggleable__control:checked~label.sk-toggleable__label-arrow:before {content: \"▾\";}#sk-ebd1f4f3-f3ed-4926-a7b4-7fe250de2110 div.sk-estimator input.sk-toggleable__control:checked~label.sk-toggleable__label {background-color: #d4ebff;}#sk-ebd1f4f3-f3ed-4926-a7b4-7fe250de2110 div.sk-label input.sk-toggleable__control:checked~label.sk-toggleable__label {background-color: #d4ebff;}#sk-ebd1f4f3-f3ed-4926-a7b4-7fe250de2110 input.sk-hidden--visually {border: 0;clip: rect(1px 1px 1px 1px);clip: rect(1px, 1px, 1px, 1px);height: 1px;margin: -1px;overflow: hidden;padding: 0;position: absolute;width: 1px;}#sk-ebd1f4f3-f3ed-4926-a7b4-7fe250de2110 div.sk-estimator {font-family: monospace;background-color: #f0f8ff;border: 1px dotted black;border-radius: 0.25em;box-sizing: border-box;margin-bottom: 0.5em;}#sk-ebd1f4f3-f3ed-4926-a7b4-7fe250de2110 div.sk-estimator:hover {background-color: #d4ebff;}#sk-ebd1f4f3-f3ed-4926-a7b4-7fe250de2110 div.sk-parallel-item::after {content: \"\";width: 100%;border-bottom: 1px solid gray;flex-grow: 1;}#sk-ebd1f4f3-f3ed-4926-a7b4-7fe250de2110 div.sk-label:hover label.sk-toggleable__label {background-color: #d4ebff;}#sk-ebd1f4f3-f3ed-4926-a7b4-7fe250de2110 div.sk-serial::before {content: \"\";position: absolute;border-left: 1px solid gray;box-sizing: border-box;top: 2em;bottom: 0;left: 50%;}#sk-ebd1f4f3-f3ed-4926-a7b4-7fe250de2110 div.sk-serial {display: flex;flex-direction: column;align-items: center;background-color: white;padding-right: 0.2em;padding-left: 0.2em;}#sk-ebd1f4f3-f3ed-4926-a7b4-7fe250de2110 div.sk-item {z-index: 1;}#sk-ebd1f4f3-f3ed-4926-a7b4-7fe250de2110 div.sk-parallel {display: flex;align-items: stretch;justify-content: center;background-color: white;}#sk-ebd1f4f3-f3ed-4926-a7b4-7fe250de2110 div.sk-parallel::before {content: \"\";position: absolute;border-left: 1px solid gray;box-sizing: border-box;top: 2em;bottom: 0;left: 50%;}#sk-ebd1f4f3-f3ed-4926-a7b4-7fe250de2110 div.sk-parallel-item {display: flex;flex-direction: column;position: relative;background-color: white;}#sk-ebd1f4f3-f3ed-4926-a7b4-7fe250de2110 div.sk-parallel-item:first-child::after {align-self: flex-end;width: 50%;}#sk-ebd1f4f3-f3ed-4926-a7b4-7fe250de2110 div.sk-parallel-item:last-child::after {align-self: flex-start;width: 50%;}#sk-ebd1f4f3-f3ed-4926-a7b4-7fe250de2110 div.sk-parallel-item:only-child::after {width: 0;}#sk-ebd1f4f3-f3ed-4926-a7b4-7fe250de2110 div.sk-dashed-wrapped {border: 1px dashed gray;margin: 0 0.4em 0.5em 0.4em;box-sizing: border-box;padding-bottom: 0.4em;background-color: white;position: relative;}#sk-ebd1f4f3-f3ed-4926-a7b4-7fe250de2110 div.sk-label label {font-family: monospace;font-weight: bold;background-color: white;display: inline-block;line-height: 1.2em;}#sk-ebd1f4f3-f3ed-4926-a7b4-7fe250de2110 div.sk-label-container {position: relative;z-index: 2;text-align: center;}#sk-ebd1f4f3-f3ed-4926-a7b4-7fe250de2110 div.sk-container {/* jupyter's `normalize.less` sets `[hidden] { display: none; }` but bootstrap.min.css set `[hidden] { display: none !important; }` so we also need the `!important` here to be able to override the default hidden behavior on the sphinx rendered scikit-learn.org. See: https://github.com/scikit-learn/scikit-learn/issues/21755 */display: inline-block !important;position: relative;}#sk-ebd1f4f3-f3ed-4926-a7b4-7fe250de2110 div.sk-text-repr-fallback {display: none;}</style><div id=\"sk-ebd1f4f3-f3ed-4926-a7b4-7fe250de2110\" class=\"sk-top-container\"><div class=\"sk-text-repr-fallback\"><pre>Pipeline(steps=[(&#x27;transform&#x27;,\n",
              "                 ColumnTransformer(remainder=&#x27;passthrough&#x27;,\n",
              "                                   transformers=[(&#x27;num&#x27;, MinMaxScaler(),\n",
              "                                                  [&#x27;top_left_r&#x27;, &#x27;top_left_g&#x27;,\n",
              "                                                   &#x27;top_left_infra1&#x27;,\n",
              "                                                   &#x27;top_left_infra2&#x27;,\n",
              "                                                   &#x27;top_middle_r&#x27;,\n",
              "                                                   &#x27;top_middle_g&#x27;,\n",
              "                                                   &#x27;top_middle_infra1&#x27;,\n",
              "                                                   &#x27;top_middle_infra2&#x27;,\n",
              "                                                   &#x27;top_right_r&#x27;, &#x27;top_right_g&#x27;,\n",
              "                                                   &#x27;top_right_infra1&#x27;,\n",
              "                                                   &#x27;top_right_infra2&#x27;,\n",
              "                                                   &#x27;middle_left_r&#x27;,\n",
              "                                                   &#x27;middle_left_g&#x27;,\n",
              "                                                   &#x27;middle_left...\n",
              "                                                   &#x27;middle_right_r&#x27;,\n",
              "                                                   &#x27;middle_right_g&#x27;,\n",
              "                                                   &#x27;middle_right_infra1&#x27;,\n",
              "                                                   &#x27;middle_right_infra2&#x27;,\n",
              "                                                   &#x27;bottom_left_r&#x27;,\n",
              "                                                   &#x27;bottom_left_g&#x27;,\n",
              "                                                   &#x27;bottom_left_infra1&#x27;,\n",
              "                                                   &#x27;bottom_left_infra2&#x27;,\n",
              "                                                   &#x27;bottom_middle_r&#x27;,\n",
              "                                                   &#x27;bottom_middle_g&#x27;, ...])])),\n",
              "                (&#x27;voting_ensemble&#x27;,\n",
              "                 VotingClassifier(estimators=[(&#x27;knn&#x27;,\n",
              "                                               KNeighborsClassifier(n_neighbors=3)),\n",
              "                                              (&#x27;lr&#x27;,\n",
              "                                               LogisticRegression(max_iter=100000)),\n",
              "                                              (&#x27;svc&#x27;, SVC())]))])</pre><b>Please rerun this cell to show the HTML repr or trust the notebook.</b></div><div class=\"sk-container\" hidden><div class=\"sk-item sk-dashed-wrapped\"><div class=\"sk-label-container\"><div class=\"sk-label sk-toggleable\"><input class=\"sk-toggleable__control sk-hidden--visually\" id=\"48e111a8-618b-455c-9d0a-0f5ac9356a19\" type=\"checkbox\" ><label for=\"48e111a8-618b-455c-9d0a-0f5ac9356a19\" class=\"sk-toggleable__label sk-toggleable__label-arrow\">Pipeline</label><div class=\"sk-toggleable__content\"><pre>Pipeline(steps=[(&#x27;transform&#x27;,\n",
              "                 ColumnTransformer(remainder=&#x27;passthrough&#x27;,\n",
              "                                   transformers=[(&#x27;num&#x27;, MinMaxScaler(),\n",
              "                                                  [&#x27;top_left_r&#x27;, &#x27;top_left_g&#x27;,\n",
              "                                                   &#x27;top_left_infra1&#x27;,\n",
              "                                                   &#x27;top_left_infra2&#x27;,\n",
              "                                                   &#x27;top_middle_r&#x27;,\n",
              "                                                   &#x27;top_middle_g&#x27;,\n",
              "                                                   &#x27;top_middle_infra1&#x27;,\n",
              "                                                   &#x27;top_middle_infra2&#x27;,\n",
              "                                                   &#x27;top_right_r&#x27;, &#x27;top_right_g&#x27;,\n",
              "                                                   &#x27;top_right_infra1&#x27;,\n",
              "                                                   &#x27;top_right_infra2&#x27;,\n",
              "                                                   &#x27;middle_left_r&#x27;,\n",
              "                                                   &#x27;middle_left_g&#x27;,\n",
              "                                                   &#x27;middle_left...\n",
              "                                                   &#x27;middle_right_r&#x27;,\n",
              "                                                   &#x27;middle_right_g&#x27;,\n",
              "                                                   &#x27;middle_right_infra1&#x27;,\n",
              "                                                   &#x27;middle_right_infra2&#x27;,\n",
              "                                                   &#x27;bottom_left_r&#x27;,\n",
              "                                                   &#x27;bottom_left_g&#x27;,\n",
              "                                                   &#x27;bottom_left_infra1&#x27;,\n",
              "                                                   &#x27;bottom_left_infra2&#x27;,\n",
              "                                                   &#x27;bottom_middle_r&#x27;,\n",
              "                                                   &#x27;bottom_middle_g&#x27;, ...])])),\n",
              "                (&#x27;voting_ensemble&#x27;,\n",
              "                 VotingClassifier(estimators=[(&#x27;knn&#x27;,\n",
              "                                               KNeighborsClassifier(n_neighbors=3)),\n",
              "                                              (&#x27;lr&#x27;,\n",
              "                                               LogisticRegression(max_iter=100000)),\n",
              "                                              (&#x27;svc&#x27;, SVC())]))])</pre></div></div></div><div class=\"sk-serial\"><div class=\"sk-item sk-dashed-wrapped\"><div class=\"sk-label-container\"><div class=\"sk-label sk-toggleable\"><input class=\"sk-toggleable__control sk-hidden--visually\" id=\"f096b018-6f24-4f1f-b214-5ee769c1b22a\" type=\"checkbox\" ><label for=\"f096b018-6f24-4f1f-b214-5ee769c1b22a\" class=\"sk-toggleable__label sk-toggleable__label-arrow\">transform: ColumnTransformer</label><div class=\"sk-toggleable__content\"><pre>ColumnTransformer(remainder=&#x27;passthrough&#x27;,\n",
              "                  transformers=[(&#x27;num&#x27;, MinMaxScaler(),\n",
              "                                 [&#x27;top_left_r&#x27;, &#x27;top_left_g&#x27;, &#x27;top_left_infra1&#x27;,\n",
              "                                  &#x27;top_left_infra2&#x27;, &#x27;top_middle_r&#x27;,\n",
              "                                  &#x27;top_middle_g&#x27;, &#x27;top_middle_infra1&#x27;,\n",
              "                                  &#x27;top_middle_infra2&#x27;, &#x27;top_right_r&#x27;,\n",
              "                                  &#x27;top_right_g&#x27;, &#x27;top_right_infra1&#x27;,\n",
              "                                  &#x27;top_right_infra2&#x27;, &#x27;middle_left_r&#x27;,\n",
              "                                  &#x27;middle_left_g&#x27;, &#x27;middle_left_infra1&#x27;,\n",
              "                                  &#x27;middle_left_infra2&#x27;, &#x27;central_pixel_r&#x27;,\n",
              "                                  &#x27;central_pixel_g&#x27;, &#x27;central_pixel_infra1&#x27;,\n",
              "                                  &#x27;central_pixel_infra2&#x27;, &#x27;middle_right_r&#x27;,\n",
              "                                  &#x27;middle_right_g&#x27;, &#x27;middle_right_infra1&#x27;,\n",
              "                                  &#x27;middle_right_infra2&#x27;, &#x27;bottom_left_r&#x27;,\n",
              "                                  &#x27;bottom_left_g&#x27;, &#x27;bottom_left_infra1&#x27;,\n",
              "                                  &#x27;bottom_left_infra2&#x27;, &#x27;bottom_middle_r&#x27;,\n",
              "                                  &#x27;bottom_middle_g&#x27;, ...])])</pre></div></div></div><div class=\"sk-parallel\"><div class=\"sk-parallel-item\"><div class=\"sk-item\"><div class=\"sk-label-container\"><div class=\"sk-label sk-toggleable\"><input class=\"sk-toggleable__control sk-hidden--visually\" id=\"377f6e80-08e3-4359-9e39-24f9d851aa61\" type=\"checkbox\" ><label for=\"377f6e80-08e3-4359-9e39-24f9d851aa61\" class=\"sk-toggleable__label sk-toggleable__label-arrow\">num</label><div class=\"sk-toggleable__content\"><pre>[&#x27;top_left_r&#x27;, &#x27;top_left_g&#x27;, &#x27;top_left_infra1&#x27;, &#x27;top_left_infra2&#x27;, &#x27;top_middle_r&#x27;, &#x27;top_middle_g&#x27;, &#x27;top_middle_infra1&#x27;, &#x27;top_middle_infra2&#x27;, &#x27;top_right_r&#x27;, &#x27;top_right_g&#x27;, &#x27;top_right_infra1&#x27;, &#x27;top_right_infra2&#x27;, &#x27;middle_left_r&#x27;, &#x27;middle_left_g&#x27;, &#x27;middle_left_infra1&#x27;, &#x27;middle_left_infra2&#x27;, &#x27;central_pixel_r&#x27;, &#x27;central_pixel_g&#x27;, &#x27;central_pixel_infra1&#x27;, &#x27;central_pixel_infra2&#x27;, &#x27;middle_right_r&#x27;, &#x27;middle_right_g&#x27;, &#x27;middle_right_infra1&#x27;, &#x27;middle_right_infra2&#x27;, &#x27;bottom_left_r&#x27;, &#x27;bottom_left_g&#x27;, &#x27;bottom_left_infra1&#x27;, &#x27;bottom_left_infra2&#x27;, &#x27;bottom_middle_r&#x27;, &#x27;bottom_middle_g&#x27;, &#x27;bottom_middle_infra1&#x27;, &#x27;bottom_middle_infra2&#x27;, &#x27;bottom_right_r&#x27;, &#x27;bottom_right_g&#x27;, &#x27;bottom_right_infra1&#x27;, &#x27;bottom_right_infra2&#x27;]</pre></div></div></div><div class=\"sk-serial\"><div class=\"sk-item\"><div class=\"sk-estimator sk-toggleable\"><input class=\"sk-toggleable__control sk-hidden--visually\" id=\"a73e2748-6415-47b0-a8d8-395f78f150c8\" type=\"checkbox\" ><label for=\"a73e2748-6415-47b0-a8d8-395f78f150c8\" class=\"sk-toggleable__label sk-toggleable__label-arrow\">MinMaxScaler</label><div class=\"sk-toggleable__content\"><pre>MinMaxScaler()</pre></div></div></div></div></div></div><div class=\"sk-parallel-item\"><div class=\"sk-item\"><div class=\"sk-label-container\"><div class=\"sk-label sk-toggleable\"><input class=\"sk-toggleable__control sk-hidden--visually\" id=\"30d728d5-733c-46cb-94ea-12d96b5c0551\" type=\"checkbox\" ><label for=\"30d728d5-733c-46cb-94ea-12d96b5c0551\" class=\"sk-toggleable__label sk-toggleable__label-arrow\">remainder</label><div class=\"sk-toggleable__content\"><pre>[]</pre></div></div></div><div class=\"sk-serial\"><div class=\"sk-item\"><div class=\"sk-estimator sk-toggleable\"><input class=\"sk-toggleable__control sk-hidden--visually\" id=\"0e15b55c-f3ab-45ce-94ac-448a15531b4f\" type=\"checkbox\" ><label for=\"0e15b55c-f3ab-45ce-94ac-448a15531b4f\" class=\"sk-toggleable__label sk-toggleable__label-arrow\">passthrough</label><div class=\"sk-toggleable__content\"><pre>passthrough</pre></div></div></div></div></div></div></div></div><div class=\"sk-item sk-dashed-wrapped\"><div class=\"sk-label-container\"><div class=\"sk-label sk-toggleable\"><input class=\"sk-toggleable__control sk-hidden--visually\" id=\"52c77077-38b1-4374-99d1-88de5d2f4b71\" type=\"checkbox\" ><label for=\"52c77077-38b1-4374-99d1-88de5d2f4b71\" class=\"sk-toggleable__label sk-toggleable__label-arrow\">voting_ensemble: VotingClassifier</label><div class=\"sk-toggleable__content\"><pre>VotingClassifier(estimators=[(&#x27;knn&#x27;, KNeighborsClassifier(n_neighbors=3)),\n",
              "                             (&#x27;lr&#x27;, LogisticRegression(max_iter=100000)),\n",
              "                             (&#x27;svc&#x27;, SVC())])</pre></div></div></div><div class=\"sk-parallel\"><div class=\"sk-parallel-item\"><div class=\"sk-item\"><div class=\"sk-label-container\"><div class=\"sk-label sk-toggleable\"><label>knn</label></div></div><div class=\"sk-serial\"><div class=\"sk-item\"><div class=\"sk-estimator sk-toggleable\"><input class=\"sk-toggleable__control sk-hidden--visually\" id=\"cf382946-7c94-46fd-864d-77c31e364212\" type=\"checkbox\" ><label for=\"cf382946-7c94-46fd-864d-77c31e364212\" class=\"sk-toggleable__label sk-toggleable__label-arrow\">KNeighborsClassifier</label><div class=\"sk-toggleable__content\"><pre>KNeighborsClassifier(n_neighbors=3)</pre></div></div></div></div></div></div><div class=\"sk-parallel-item\"><div class=\"sk-item\"><div class=\"sk-label-container\"><div class=\"sk-label sk-toggleable\"><label>lr</label></div></div><div class=\"sk-serial\"><div class=\"sk-item\"><div class=\"sk-estimator sk-toggleable\"><input class=\"sk-toggleable__control sk-hidden--visually\" id=\"b9ea2e19-cc75-476a-ac39-4e0689ed5897\" type=\"checkbox\" ><label for=\"b9ea2e19-cc75-476a-ac39-4e0689ed5897\" class=\"sk-toggleable__label sk-toggleable__label-arrow\">LogisticRegression</label><div class=\"sk-toggleable__content\"><pre>LogisticRegression(max_iter=100000)</pre></div></div></div></div></div></div><div class=\"sk-parallel-item\"><div class=\"sk-item\"><div class=\"sk-label-container\"><div class=\"sk-label sk-toggleable\"><label>svc</label></div></div><div class=\"sk-serial\"><div class=\"sk-item\"><div class=\"sk-estimator sk-toggleable\"><input class=\"sk-toggleable__control sk-hidden--visually\" id=\"2bafeb33-e5d8-4d90-8b3f-29c7cc76c1ea\" type=\"checkbox\" ><label for=\"2bafeb33-e5d8-4d90-8b3f-29c7cc76c1ea\" class=\"sk-toggleable__label sk-toggleable__label-arrow\">SVC</label><div class=\"sk-toggleable__content\"><pre>SVC()</pre></div></div></div></div></div></div></div></div></div></div></div></div>"
            ]
          },
          "metadata": {},
          "execution_count": 43
        }
      ]
    },
    {
      "cell_type": "markdown",
      "source": [
        "### Step 7: Evaluating the Model"
      ],
      "metadata": {
        "id": "SMLuruS6-OlA"
      }
    },
    {
      "cell_type": "markdown",
      "source": [
        "Running pipeline to predict y values from the test data set and saving them in a variable called y_pred."
      ],
      "metadata": {
        "id": "PyaDSMww8Q8f"
      }
    },
    {
      "cell_type": "code",
      "source": [
        "y_pred = voting.predict(X_test)"
      ],
      "metadata": {
        "id": "PItTTtKA8WaT"
      },
      "execution_count": null,
      "outputs": []
    },
    {
      "cell_type": "markdown",
      "source": [
        "Using classification function to display precision, recall, and F1 scores."
      ],
      "metadata": {
        "id": "oejXliAJ8Ww7"
      }
    },
    {
      "cell_type": "code",
      "source": [
        "print(classification_report(y_test,y_pred))"
      ],
      "metadata": {
        "colab": {
          "base_uri": "https://localhost:8080/"
        },
        "id": "kuZoCANT8aKz",
        "outputId": "ad123733-b017-47ff-e5cd-7c6ee4a663a2"
      },
      "execution_count": null,
      "outputs": [
        {
          "output_type": "stream",
          "name": "stdout",
          "text": [
            "              precision    recall  f1-score   support\n",
            "\n",
            "           1       0.98      1.00      0.99       461\n",
            "           2       0.97      0.97      0.97       224\n",
            "           3       0.87      0.97      0.91       397\n",
            "           4       0.71      0.55      0.62       211\n",
            "           5       0.91      0.86      0.89       237\n",
            "           7       0.84      0.86      0.85       470\n",
            "\n",
            "    accuracy                           0.89      2000\n",
            "   macro avg       0.88      0.87      0.87      2000\n",
            "weighted avg       0.89      0.89      0.89      2000\n",
            "\n"
          ]
        }
      ]
    },
    {
      "cell_type": "markdown",
      "source": [
        "Generating heatmap of the confusion matrix."
      ],
      "metadata": {
        "id": "jJsf8qeO4juB"
      }
    },
    {
      "cell_type": "code",
      "source": [
        "cm = confusion_matrix(y_test, y_pred)\n",
        "disp = ConfusionMatrixDisplay(confusion_matrix=cm)\n",
        "fig, ax = plt.subplots(figsize=(10,10))\n",
        "disp.plot(ax=ax, cmap='YlOrRd')"
      ],
      "metadata": {
        "colab": {
          "base_uri": "https://localhost:8080/",
          "height": 597
        },
        "id": "lT9z6UvR-aiQ",
        "outputId": "3710cb65-91d3-448d-9eda-be6872ff4fee"
      },
      "execution_count": null,
      "outputs": [
        {
          "output_type": "execute_result",
          "data": {
            "text/plain": [
              "<sklearn.metrics._plot.confusion_matrix.ConfusionMatrixDisplay at 0x7fe541df05d0>"
            ]
          },
          "metadata": {},
          "execution_count": 46
        },
        {
          "output_type": "display_data",
          "data": {
            "text/plain": [
              "<Figure size 720x720 with 2 Axes>"
            ],
            "image/png": "[encoded data removed]"
          },
          "metadata": {
            "needs_background": "light"
          }
        }
      ]
    },
    {
      "cell_type": "markdown",
      "source": [
        "### Step 8: Conclusion\n",
        "Based on the performance measures utilized above, the Voting Classifier model is suitable for predicting land type, performing comparably to the Random Forest Classifier (albeit with a slightly-lower accuracy value)."
      ],
      "metadata": {
        "id": "TaNdOL7rk8q8"
      }
    },
    {
      "cell_type": "markdown",
      "source": [
        "# Problem 3: Bank Note Random Forest Classifier"
      ],
      "metadata": {
        "id": "faeuoROy6wOI"
      }
    },
    {
      "cell_type": "markdown",
      "source": [
        "### Step 1: Imports (using those imported for Problem 1)"
      ],
      "metadata": {
        "id": "1-8-T2uq63dc"
      }
    },
    {
      "cell_type": "markdown",
      "source": [
        "### Step 2: Acquire Data (Reading the Data)"
      ],
      "metadata": {
        "id": "vBTGJfuBwy_X"
      }
    },
    {
      "cell_type": "code",
      "source": [
        "df = pd.read_csv('/content/gdrive/MyDrive/CS430/banknote_authentication.csv')"
      ],
      "metadata": {
        "id": "sjHGbPJrxXXh"
      },
      "execution_count": null,
      "outputs": []
    },
    {
      "cell_type": "markdown",
      "source": [
        "### Step 3: Statistical and Visual Exploration"
      ],
      "metadata": {
        "id": "g6AkbNRFxoEy"
      }
    },
    {
      "cell_type": "code",
      "source": [
        "list(df.columns.values)"
      ],
      "metadata": {
        "colab": {
          "base_uri": "https://localhost:8080/"
        },
        "id": "cXGlDuLBxpMz",
        "outputId": "9ef41e8c-8da4-4414-e21b-d674501b32ca"
      },
      "execution_count": null,
      "outputs": [
        {
          "output_type": "execute_result",
          "data": {
            "text/plain": [
              "['variance', 'skewness', 'curtosis', 'entropy', 'forgery']"
            ]
          },
          "metadata": {},
          "execution_count": 9
        }
      ]
    },
    {
      "cell_type": "markdown",
      "source": [
        "Bar plots displaying number of forgery types."
      ],
      "metadata": {
        "id": "kfYKY1IwyKUK"
      }
    },
    {
      "cell_type": "code",
      "source": [
        "df.forgery.groupby(df.forgery).count().plot(kind='barh')"
      ],
      "metadata": {
        "colab": {
          "base_uri": "https://localhost:8080/",
          "height": 282
        },
        "id": "Piwc9A-uxwgv",
        "outputId": "7f5d3bc2-68d8-4972-dd24-15f602b2d63c"
      },
      "execution_count": null,
      "outputs": [
        {
          "output_type": "execute_result",
          "data": {
            "text/plain": [
              "<matplotlib.axes._subplots.AxesSubplot at 0x7fe54478a450>"
            ]
          },
          "metadata": {},
          "execution_count": 10
        },
        {
          "output_type": "display_data",
          "data": {
            "text/plain": [
              "<Figure size 432x288 with 1 Axes>"
            ],
            "image/png": "[encoded data removed]"
          },
          "metadata": {
            "needs_background": "light"
          }
        }
      ]
    },
    {
      "cell_type": "markdown",
      "source": [
        "### Step 4: Splitting the Data"
      ],
      "metadata": {
        "id": "3xN1zMYNyPVA"
      }
    },
    {
      "cell_type": "code",
      "source": [
        "X = df[['variance', 'skewness', 'curtosis', 'entropy']]\n",
        "y = df[['forgery']]\n",
        "X_train, X_test, y_train, y_test = train_test_split(X,y, test_size=.20, random_state=42)"
      ],
      "metadata": {
        "id": "0bLorz_9yW0u"
      },
      "execution_count": null,
      "outputs": []
    },
    {
      "cell_type": "markdown",
      "source": [
        "### Step 5: Building the Pipeline"
      ],
      "metadata": {
        "id": "8L5fnZGZygVr"
      }
    },
    {
      "cell_type": "markdown",
      "source": [
        "Creating column transformer that will MinMax scale numerical variables."
      ],
      "metadata": {
        "id": "Egme8f5aynZv"
      }
    },
    {
      "cell_type": "code",
      "source": [
        "num_attribs=['variance', 'skewness', 'curtosis', 'entropy']\n",
        "col_transform = ColumnTransformer(transformers=[\n",
        "                               ('num',MinMaxScaler(),num_attribs)], \n",
        "                               remainder='passthrough')"
      ],
      "metadata": {
        "id": "k7A-2_28ytrw"
      },
      "execution_count": null,
      "outputs": []
    },
    {
      "cell_type": "markdown",
      "source": [
        "Creating pipeline that will transform the data and run a Random Forest Classification algorithm."
      ],
      "metadata": {
        "id": "5oOMDWW4y0bS"
      }
    },
    {
      "cell_type": "code",
      "source": [
        "pipeline = Pipeline([\n",
        "                     ('transform', col_transform),\n",
        "                     ('rf', RandomForestClassifier(n_estimators=1000, max_samples=1000, bootstrap=True, n_jobs=-1))\n",
        "                     ])"
      ],
      "metadata": {
        "id": "HlDaw9F8y8Lg"
      },
      "execution_count": null,
      "outputs": []
    },
    {
      "cell_type": "markdown",
      "source": [
        "### Step 6: Executing the Model"
      ],
      "metadata": {
        "id": "o1ZJi2fAzKdj"
      }
    },
    {
      "cell_type": "markdown",
      "source": [
        "Running pipeline to fit the Random Forest model."
      ],
      "metadata": {
        "id": "er8qjykMzRH0"
      }
    },
    {
      "cell_type": "code",
      "source": [
        "pipeline.fit(X_train,np.ravel(y_train))"
      ],
      "metadata": {
        "colab": {
          "base_uri": "https://localhost:8080/",
          "height": 193
        },
        "id": "kRexRiUbzQQV",
        "outputId": "a3827234-1072-4af9-a2bf-2d5d9c486246"
      },
      "execution_count": null,
      "outputs": [
        {
          "output_type": "execute_result",
          "data": {
            "text/plain": [
              "Pipeline(steps=[('transform',\n",
              "                 ColumnTransformer(remainder='passthrough',\n",
              "                                   transformers=[('num', MinMaxScaler(),\n",
              "                                                  ['variance', 'skewness',\n",
              "                                                   'curtosis', 'entropy'])])),\n",
              "                ('rf',\n",
              "                 RandomForestClassifier(max_samples=1000, n_estimators=1000,\n",
              "                                        n_jobs=-1))])"
            ],
            "text/html": [
              "<style>#sk-736ab8ae-fd94-4044-92c0-26b240ab618e {color: black;background-color: white;}#sk-736ab8ae-fd94-4044-92c0-26b240ab618e pre{padding: 0;}#sk-736ab8ae-fd94-4044-92c0-26b240ab618e div.sk-toggleable {background-color: white;}#sk-736ab8ae-fd94-4044-92c0-26b240ab618e label.sk-toggleable__label {cursor: pointer;display: block;width: 100%;margin-bottom: 0;padding: 0.3em;box-sizing: border-box;text-align: center;}#sk-736ab8ae-fd94-4044-92c0-26b240ab618e label.sk-toggleable__label-arrow:before {content: \"▸\";float: left;margin-right: 0.25em;color: #696969;}#sk-736ab8ae-fd94-4044-92c0-26b240ab618e label.sk-toggleable__label-arrow:hover:before {color: black;}#sk-736ab8ae-fd94-4044-92c0-26b240ab618e div.sk-estimator:hover label.sk-toggleable__label-arrow:before {color: black;}#sk-736ab8ae-fd94-4044-92c0-26b240ab618e div.sk-toggleable__content {max-height: 0;max-width: 0;overflow: hidden;text-align: left;background-color: #f0f8ff;}#sk-736ab8ae-fd94-4044-92c0-26b240ab618e div.sk-toggleable__content pre {margin: 0.2em;color: black;border-radius: 0.25em;background-color: #f0f8ff;}#sk-736ab8ae-fd94-4044-92c0-26b240ab618e input.sk-toggleable__control:checked~div.sk-toggleable__content {max-height: 200px;max-width: 100%;overflow: auto;}#sk-736ab8ae-fd94-4044-92c0-26b240ab618e input.sk-toggleable__control:checked~label.sk-toggleable__label-arrow:before {content: \"▾\";}#sk-736ab8ae-fd94-4044-92c0-26b240ab618e div.sk-estimator input.sk-toggleable__control:checked~label.sk-toggleable__label {background-color: #d4ebff;}#sk-736ab8ae-fd94-4044-92c0-26b240ab618e div.sk-label input.sk-toggleable__control:checked~label.sk-toggleable__label {background-color: #d4ebff;}#sk-736ab8ae-fd94-4044-92c0-26b240ab618e input.sk-hidden--visually {border: 0;clip: rect(1px 1px 1px 1px);clip: rect(1px, 1px, 1px, 1px);height: 1px;margin: -1px;overflow: hidden;padding: 0;position: absolute;width: 1px;}#sk-736ab8ae-fd94-4044-92c0-26b240ab618e div.sk-estimator {font-family: monospace;background-color: #f0f8ff;border: 1px dotted black;border-radius: 0.25em;box-sizing: border-box;margin-bottom: 0.5em;}#sk-736ab8ae-fd94-4044-92c0-26b240ab618e div.sk-estimator:hover {background-color: #d4ebff;}#sk-736ab8ae-fd94-4044-92c0-26b240ab618e div.sk-parallel-item::after {content: \"\";width: 100%;border-bottom: 1px solid gray;flex-grow: 1;}#sk-736ab8ae-fd94-4044-92c0-26b240ab618e div.sk-label:hover label.sk-toggleable__label {background-color: #d4ebff;}#sk-736ab8ae-fd94-4044-92c0-26b240ab618e div.sk-serial::before {content: \"\";position: absolute;border-left: 1px solid gray;box-sizing: border-box;top: 2em;bottom: 0;left: 50%;}#sk-736ab8ae-fd94-4044-92c0-26b240ab618e div.sk-serial {display: flex;flex-direction: column;align-items: center;background-color: white;padding-right: 0.2em;padding-left: 0.2em;}#sk-736ab8ae-fd94-4044-92c0-26b240ab618e div.sk-item {z-index: 1;}#sk-736ab8ae-fd94-4044-92c0-26b240ab618e div.sk-parallel {display: flex;align-items: stretch;justify-content: center;background-color: white;}#sk-736ab8ae-fd94-4044-92c0-26b240ab618e div.sk-parallel::before {content: \"\";position: absolute;border-left: 1px solid gray;box-sizing: border-box;top: 2em;bottom: 0;left: 50%;}#sk-736ab8ae-fd94-4044-92c0-26b240ab618e div.sk-parallel-item {display: flex;flex-direction: column;position: relative;background-color: white;}#sk-736ab8ae-fd94-4044-92c0-26b240ab618e div.sk-parallel-item:first-child::after {align-self: flex-end;width: 50%;}#sk-736ab8ae-fd94-4044-92c0-26b240ab618e div.sk-parallel-item:last-child::after {align-self: flex-start;width: 50%;}#sk-736ab8ae-fd94-4044-92c0-26b240ab618e div.sk-parallel-item:only-child::after {width: 0;}#sk-736ab8ae-fd94-4044-92c0-26b240ab618e div.sk-dashed-wrapped {border: 1px dashed gray;margin: 0 0.4em 0.5em 0.4em;box-sizing: border-box;padding-bottom: 0.4em;background-color: white;position: relative;}#sk-736ab8ae-fd94-4044-92c0-26b240ab618e div.sk-label label {font-family: monospace;font-weight: bold;background-color: white;display: inline-block;line-height: 1.2em;}#sk-736ab8ae-fd94-4044-92c0-26b240ab618e div.sk-label-container {position: relative;z-index: 2;text-align: center;}#sk-736ab8ae-fd94-4044-92c0-26b240ab618e div.sk-container {/* jupyter's `normalize.less` sets `[hidden] { display: none; }` but bootstrap.min.css set `[hidden] { display: none !important; }` so we also need the `!important` here to be able to override the default hidden behavior on the sphinx rendered scikit-learn.org. See: https://github.com/scikit-learn/scikit-learn/issues/21755 */display: inline-block !important;position: relative;}#sk-736ab8ae-fd94-4044-92c0-26b240ab618e div.sk-text-repr-fallback {display: none;}</style><div id=\"sk-736ab8ae-fd94-4044-92c0-26b240ab618e\" class=\"sk-top-container\"><div class=\"sk-text-repr-fallback\"><pre>Pipeline(steps=[(&#x27;transform&#x27;,\n",
              "                 ColumnTransformer(remainder=&#x27;passthrough&#x27;,\n",
              "                                   transformers=[(&#x27;num&#x27;, MinMaxScaler(),\n",
              "                                                  [&#x27;variance&#x27;, &#x27;skewness&#x27;,\n",
              "                                                   &#x27;curtosis&#x27;, &#x27;entropy&#x27;])])),\n",
              "                (&#x27;rf&#x27;,\n",
              "                 RandomForestClassifier(max_samples=1000, n_estimators=1000,\n",
              "                                        n_jobs=-1))])</pre><b>Please rerun this cell to show the HTML repr or trust the notebook.</b></div><div class=\"sk-container\" hidden><div class=\"sk-item sk-dashed-wrapped\"><div class=\"sk-label-container\"><div class=\"sk-label sk-toggleable\"><input class=\"sk-toggleable__control sk-hidden--visually\" id=\"9f7da560-d711-42f0-885c-1bdbf783c9e4\" type=\"checkbox\" ><label for=\"9f7da560-d711-42f0-885c-1bdbf783c9e4\" class=\"sk-toggleable__label sk-toggleable__label-arrow\">Pipeline</label><div class=\"sk-toggleable__content\"><pre>Pipeline(steps=[(&#x27;transform&#x27;,\n",
              "                 ColumnTransformer(remainder=&#x27;passthrough&#x27;,\n",
              "                                   transformers=[(&#x27;num&#x27;, MinMaxScaler(),\n",
              "                                                  [&#x27;variance&#x27;, &#x27;skewness&#x27;,\n",
              "                                                   &#x27;curtosis&#x27;, &#x27;entropy&#x27;])])),\n",
              "                (&#x27;rf&#x27;,\n",
              "                 RandomForestClassifier(max_samples=1000, n_estimators=1000,\n",
              "                                        n_jobs=-1))])</pre></div></div></div><div class=\"sk-serial\"><div class=\"sk-item sk-dashed-wrapped\"><div class=\"sk-label-container\"><div class=\"sk-label sk-toggleable\"><input class=\"sk-toggleable__control sk-hidden--visually\" id=\"4204d561-2e27-45e4-9fb6-f80f2b3e66bd\" type=\"checkbox\" ><label for=\"4204d561-2e27-45e4-9fb6-f80f2b3e66bd\" class=\"sk-toggleable__label sk-toggleable__label-arrow\">transform: ColumnTransformer</label><div class=\"sk-toggleable__content\"><pre>ColumnTransformer(remainder=&#x27;passthrough&#x27;,\n",
              "                  transformers=[(&#x27;num&#x27;, MinMaxScaler(),\n",
              "                                 [&#x27;variance&#x27;, &#x27;skewness&#x27;, &#x27;curtosis&#x27;,\n",
              "                                  &#x27;entropy&#x27;])])</pre></div></div></div><div class=\"sk-parallel\"><div class=\"sk-parallel-item\"><div class=\"sk-item\"><div class=\"sk-label-container\"><div class=\"sk-label sk-toggleable\"><input class=\"sk-toggleable__control sk-hidden--visually\" id=\"7db7ed8d-47fb-42ba-8ead-65ed22a96ee6\" type=\"checkbox\" ><label for=\"7db7ed8d-47fb-42ba-8ead-65ed22a96ee6\" class=\"sk-toggleable__label sk-toggleable__label-arrow\">num</label><div class=\"sk-toggleable__content\"><pre>[&#x27;variance&#x27;, &#x27;skewness&#x27;, &#x27;curtosis&#x27;, &#x27;entropy&#x27;]</pre></div></div></div><div class=\"sk-serial\"><div class=\"sk-item\"><div class=\"sk-estimator sk-toggleable\"><input class=\"sk-toggleable__control sk-hidden--visually\" id=\"66a81322-38c8-43fe-a9ed-b17181426ac9\" type=\"checkbox\" ><label for=\"66a81322-38c8-43fe-a9ed-b17181426ac9\" class=\"sk-toggleable__label sk-toggleable__label-arrow\">MinMaxScaler</label><div class=\"sk-toggleable__content\"><pre>MinMaxScaler()</pre></div></div></div></div></div></div><div class=\"sk-parallel-item\"><div class=\"sk-item\"><div class=\"sk-label-container\"><div class=\"sk-label sk-toggleable\"><input class=\"sk-toggleable__control sk-hidden--visually\" id=\"57f1176b-e1a2-4a02-ac51-207c615b433f\" type=\"checkbox\" ><label for=\"57f1176b-e1a2-4a02-ac51-207c615b433f\" class=\"sk-toggleable__label sk-toggleable__label-arrow\">remainder</label><div class=\"sk-toggleable__content\"><pre>[]</pre></div></div></div><div class=\"sk-serial\"><div class=\"sk-item\"><div class=\"sk-estimator sk-toggleable\"><input class=\"sk-toggleable__control sk-hidden--visually\" id=\"0c273410-7096-428f-ae02-10afdf329bf2\" type=\"checkbox\" ><label for=\"0c273410-7096-428f-ae02-10afdf329bf2\" class=\"sk-toggleable__label sk-toggleable__label-arrow\">passthrough</label><div class=\"sk-toggleable__content\"><pre>passthrough</pre></div></div></div></div></div></div></div></div><div class=\"sk-item\"><div class=\"sk-estimator sk-toggleable\"><input class=\"sk-toggleable__control sk-hidden--visually\" id=\"38497b6f-55bd-4f4f-a537-291a5f2b812c\" type=\"checkbox\" ><label for=\"38497b6f-55bd-4f4f-a537-291a5f2b812c\" class=\"sk-toggleable__label sk-toggleable__label-arrow\">RandomForestClassifier</label><div class=\"sk-toggleable__content\"><pre>RandomForestClassifier(max_samples=1000, n_estimators=1000, n_jobs=-1)</pre></div></div></div></div></div></div></div>"
            ]
          },
          "metadata": {},
          "execution_count": 16
        }
      ]
    },
    {
      "cell_type": "markdown",
      "source": [
        "### Step 7: Evaluating Model"
      ],
      "metadata": {
        "id": "INn3dfRjzqB0"
      }
    },
    {
      "cell_type": "markdown",
      "source": [
        "Running pipeline to predict y values from the test data set and saving them in a variable called y_pred."
      ],
      "metadata": {
        "id": "BMl5AN0Fzakq"
      }
    },
    {
      "cell_type": "code",
      "source": [
        "y_pred = pipeline.predict(X_test)"
      ],
      "metadata": {
        "id": "izLJda1ezxG8"
      },
      "execution_count": null,
      "outputs": []
    },
    {
      "cell_type": "markdown",
      "source": [
        "Using classification function to display precision, recall, and F1 scores."
      ],
      "metadata": {
        "id": "eekpjHsezfxO"
      }
    },
    {
      "cell_type": "code",
      "source": [
        "print(classification_report(y_test,y_pred))"
      ],
      "metadata": {
        "colab": {
          "base_uri": "https://localhost:8080/"
        },
        "id": "oFfvefELz71Q",
        "outputId": "081c7440-c87e-41a5-80c7-83dbbb692187"
      },
      "execution_count": null,
      "outputs": [
        {
          "output_type": "stream",
          "name": "stdout",
          "text": [
            "              precision    recall  f1-score   support\n",
            "\n",
            "           0       0.99      1.00      0.99       148\n",
            "           1       1.00      0.98      0.99       127\n",
            "\n",
            "    accuracy                           0.99       275\n",
            "   macro avg       0.99      0.99      0.99       275\n",
            "weighted avg       0.99      0.99      0.99       275\n",
            "\n"
          ]
        }
      ]
    },
    {
      "cell_type": "markdown",
      "source": [
        "Generating heatmap of the confusion matrix."
      ],
      "metadata": {
        "id": "kQ_Y6fau0Al0"
      }
    },
    {
      "cell_type": "code",
      "source": [
        "cm = confusion_matrix(y_test, y_pred)\n",
        "disp = ConfusionMatrixDisplay(confusion_matrix=cm)\n",
        "fig, ax = plt.subplots(figsize=(10,10))\n",
        "disp.plot(ax=ax, cmap='YlOrRd')"
      ],
      "metadata": {
        "colab": {
          "base_uri": "https://localhost:8080/",
          "height": 597
        },
        "id": "7pwIutcY0Geu",
        "outputId": "de78a044-c704-4e60-bdac-24b3457a9406"
      },
      "execution_count": null,
      "outputs": [
        {
          "output_type": "execute_result",
          "data": {
            "text/plain": [
              "<sklearn.metrics._plot.confusion_matrix.ConfusionMatrixDisplay at 0x7fe541e95510>"
            ]
          },
          "metadata": {},
          "execution_count": 24
        },
        {
          "output_type": "display_data",
          "data": {
            "text/plain": [
              "<Figure size 720x720 with 2 Axes>"
            ],
            "image/png": "[encoded data removed]"
          },
          "metadata": {
            "needs_background": "light"
          }
        }
      ]
    },
    {
      "cell_type": "markdown",
      "source": [
        "### Step 8: Conclusion\n",
        "The performance measures utilized above show that the Random Forest Classifier is an excellent model for predicting whether a banknote is a forgery."
      ],
      "metadata": {
        "id": "kVsGW0TD0Ltn"
      }
    }
  ]
}